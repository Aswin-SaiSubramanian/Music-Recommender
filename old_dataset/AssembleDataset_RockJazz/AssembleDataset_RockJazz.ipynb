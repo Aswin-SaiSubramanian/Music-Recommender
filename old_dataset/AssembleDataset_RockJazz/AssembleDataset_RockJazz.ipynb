{
 "cells": [
  {
   "cell_type": "markdown",
   "metadata": {
    "id": "oZabuY5N0QW_"
   },
   "source": [
    "# Steps\n",
    "\n",
    "1. Create a way to find a particular song, by song-title, on the ~~Million Song Dataset(MSD)~~ (\\*) or Million Song Subset, 10_000 song sample of the Million Song Dataset (MSD), if it exists in the subset.\n",
    "\n",
    "2. Compile a list of songs for each genre.\n",
    "\n",
    "3. Pick out at least 30 songs from each compiled list, which are included in the Million Song Subset. Collect their track IDs for future data lookups.\n",
    "\n",
    "\\* The MSD takes about 300 GB of memory; unfeasible to download. The Million Song Subset is more reasonable, consisting of less than 2 GB of data. \n",
    "\n",
    "### Backup plans\n",
    "- The Tagtraum and MAGD genre annotations datasets available from the MSD website's homepage have genre annotations that map MSD track ids to genres. Could use those to pull songs of different genres from the MSD. (https://www.tagtraum.com/msd_genre_datasets.html), (http://www.ifs.tuwien.ac.at/mir/msd/)."
   ]
  },
  {
   "cell_type": "markdown",
   "metadata": {
    "id": "bPuDw39y1LJ9"
   },
   "source": [
    "## Download the Million Song Subset"
   ]
  },
  {
   "cell_type": "code",
   "execution_count": 1,
   "metadata": {
    "colab": {
     "base_uri": "https://localhost:8080/"
    },
    "id": "KypP_iqi0Fa7",
    "outputId": "ef6f8986-c2e2-4141-bcb0-9fecdbe070eb"
   },
   "outputs": [],
   "source": [
    "# download the 10_000 song subset from the Million Song Dataset\n",
    "\n",
    "# !wget labrosa.ee.columbia.edu/~dpwe/tmp/millionsongsubset.tar.gz"
   ]
  },
  {
   "cell_type": "code",
   "execution_count": 3,
   "metadata": {
    "id": "hAikic432iaf"
   },
   "outputs": [],
   "source": [
    "# extract the files from the downloaded zip\n",
    "\n",
    "# !tar -xf millionsongsubset.tar.gz"
   ]
  },
  {
   "cell_type": "markdown",
   "metadata": {
    "id": "wSZlndJj5KRJ"
   },
   "source": [
    "## Finding a Song in the Million Song Subset by Song Title"
   ]
  },
  {
   "cell_type": "code",
   "execution_count": 4,
   "metadata": {
    "colab": {
     "base_uri": "https://localhost:8080/"
    },
    "id": "HCvMQ6l83XKR",
    "outputId": "86ff62f1-7242-436b-e70e-c528bf74e15b",
    "scrolled": true
   },
   "outputs": [
    {
     "name": "stdout",
     "output_type": "stream",
     "text": [
      "--2021-04-02 16:35:23--  http://millionsongdataset.com/sites/default/files/AdditionalFiles/unique_tracks.txt\n",
      "Resolving millionsongdataset.com (millionsongdataset.com)... 172.104.14.177\n",
      "Connecting to millionsongdataset.com (millionsongdataset.com)|172.104.14.177|:80... connected.\n",
      "HTTP request sent, awaiting response... 200 OK\n",
      "Length: 84046293 (80M) [text/plain]\n",
      "Saving to: ‘unique_tracks.txt.1’\n",
      "\n",
      "unique_tracks.txt.1 100%[===================>]  80.15M  12.7MB/s    in 6.4s    \n",
      "\n",
      "2021-04-02 16:35:29 (12.5 MB/s) - ‘unique_tracks.txt.1’ saved [84046293/84046293]\n",
      "\n"
     ]
    }
   ],
   "source": [
    "# Download the reverse-index provided by MSD to find songs by title.\n",
    "# Format of each entry (line) is track id<SEP>song id<SEP>artist name<SEP>song title\n",
    "\n",
    "# !wget http://millionsongdataset.com/sites/default/files/AdditionalFiles/unique_tracks.txt \n",
    "    # this is for the Million Song Dataset, not Million Song Subset.\n",
    "    # Need to find out which of these are in the Million Song Subset."
   ]
  },
  {
   "cell_type": "code",
   "execution_count": 2,
   "metadata": {},
   "outputs": [],
   "source": [
    "# connecting song titles to song IDs using the reverse index file for a million songs\n",
    "song_ids = []\n",
    "song_titles = []\n",
    "track_ids = []\n",
    "num_lines = 0\n",
    "with open(\"unique_tracks.txt\", 'r') as f:\n",
    "  for x in f:\n",
    "    num_lines = num_lines + 1\n",
    "    line = x.split(\"<SEP>\")\n",
    "    track_ids.append(line[0])\n",
    "    song_ids.append(line[1])\n",
    "    song_titles.append(line[3])"
   ]
  },
  {
   "cell_type": "code",
   "execution_count": 3,
   "metadata": {},
   "outputs": [
    {
     "name": "stdout",
     "output_type": "stream",
     "text": [
      "1000000\n",
      "1000000\n",
      "1000000\n",
      "1000000\n"
     ]
    }
   ],
   "source": [
    "print(num_lines)\n",
    "print(len(song_titles))\n",
    "print(len(song_ids))\n",
    "print(len(track_ids))"
   ]
  },
  {
   "cell_type": "code",
   "execution_count": 4,
   "metadata": {},
   "outputs": [
    {
     "name": "stdout",
     "output_type": "stream",
     "text": [
      "0) title: Silent Night\n",
      " track_id: TRYIAOS128F92CD8E9 song_id: SOJJKTG12A8C140EBF\n",
      "1) title: Tanssi vaan\n",
      " track_id: TRMMMKD128F425225D song_id: SOVFVAK12A8C1350D9\n",
      "2) title: No One Could Ever\n",
      " track_id: TRMMMRX128F93187D9 song_id: SOGTUKN12AB017F4F1\n",
      "3) title: Si Vos Querés\n",
      " track_id: TRMMMCH128F425532C song_id: SOBNYVR12A8C13558C\n",
      "4) title: Tangle Of Aspens\n",
      " track_id: TRMMMWA128F426B589 song_id: SOHSBXH12A8C13B0DF\n",
      "5) title: Symphony No. 1 G minor \"Sinfonie Serieuse\"/Allegro con energia\n",
      " track_id: TRMMMXN128F42936A5 song_id: SOZVAPQ12A8C13B63C\n",
      "6) title: We Have Got Love\n",
      " track_id: TRMMMLR128F1494097 song_id: SOQVRHI12A6D4FB2D7\n",
      "7) title: 2 Da Beat Ch'yall\n",
      " track_id: TRMMMBB12903CB7D21 song_id: SOEYRFT12AB018936C\n",
      "8) title: Goodbye\n",
      " track_id: TRYNFCT128F4245B3F song_id: SOIONTS12A6D4FDA6D\n",
      "9) title: Mama_ mama can't you see ?\n",
      " track_id: TRMMMML128F4280EE9 song_id: SOJCFMH12A8C13B0C2\n",
      "10) title: L'antarctique\n",
      " track_id: TRMMMNS128F93548E1 song_id: SOYGNWH12AB018191E\n",
      "11) title: El hijo del pueblo\n",
      " track_id: TRMMMXJ12903CBF111 song_id: SOLJTLX12AB01890ED\n",
      "12) title: Cold Beer feat. Prince Metropolitan\n",
      " track_id: TRMMMCJ128F930BFF8 song_id: SOQQESG12A58A7AA28\n",
      "13) title: Pilots\n",
      " track_id: TRPLAMH128E0784ACE song_id: SOPOGHW12A58A7ABE0\n",
      "14) title: N Gana\n",
      " track_id: TRMMMXI128F4285A3F song_id: SOGPCJI12A8C13CCA0\n",
      "15) title: 006\n",
      " track_id: TRAFKGI128F930FA17 song_id: SOPSQQY12AAF3B4827\n",
      "16) title: (Looking For) The Heart Of Saturday\n",
      " track_id: TRMMMUT128F42646E8 song_id: SOBARPM12A8C133DFF\n",
      "17) title: Ethos of Coercion\n",
      " track_id: TRMMMQY128F92F0EA3 song_id: SOKOVRQ12A8C142811\n",
      "18) title: Rock-N-Rule\n",
      " track_id: TRMMMTK128F424EF7C song_id: SOIMMJJ12AF72AD643\n",
      "19) title: La bola extra\n",
      " track_id: TRMMMHQ128F4278194 song_id: SOVMBTP12A8C13A8F6\n",
      "20) title: I Made It Over\n",
      " track_id: TRMMMQV12903CA201E song_id: SOOUESZ12AB0189AFD\n",
      "21) title: Debussy : 12 Etudes : VI Pour les huit doigts\n",
      " track_id: TRMMMMV128F14746A5 song_id: SOAGMGG12A6D4F9099\n",
      "22) title: Nervous\n",
      " track_id: TRXPSWB128F930E511 song_id: SOZRCWW12AF72A07F7\n",
      "23) title: In The Journey\n",
      " track_id: TRSLNXH128F93537DD song_id: SOEKOZM12AB01844EB\n",
      "24) title: Fuckin Ethic People (999)\n",
      " track_id: TRMMMTG128F426B5BB song_id: SOEPAIN12A8C1396A7\n",
      "25) title: Tu Vida Con La Mía\n",
      " track_id: TRMMMPJ128F9306985 song_id: SOQMZZI12AB01850D4\n",
      "26) title: I'm Ready\n",
      " track_id: TRKOKYM128F4247F82 song_id: SOGDNBU12A8C13452A\n",
      "27) title: Take As Needed\n",
      " track_id: TREGRGA12903CF1A40 song_id: SOEXWEQ12A67ADE75B\n",
      "28) title: Autumn In The Mind (Acoustic Version)\n",
      " track_id: TRMMMRR12903CF395D song_id: SOJJAZT12AC4687219\n",
      "29) title: Tequila\n",
      " track_id: TRYCKSV128F930105C song_id: SOEBOAS12A8C141F7A\n"
     ]
    }
   ],
   "source": [
    "# for i in range(50): print(f\"title: {song_titles[i]} id: {song_ids[i]}\")\n",
    "song_title_to_trackid = {song_titles[i]:track_ids[i] for i in range(num_lines)}\n",
    "song_title_to_songid = {song_titles[i]:song_ids[i] for i in range(num_lines)}\n",
    "\n",
    "for i in range(30): print(f\"{i}) title: {song_titles[i]} track_id: {song_title_to_trackid[song_titles[i]]} song_id: {song_title_to_songid[song_titles[i]]}\")"
   ]
  },
  {
   "cell_type": "code",
   "execution_count": 5,
   "metadata": {
    "colab": {
     "base_uri": "https://localhost:8080/"
    },
    "id": "F_hMKsWY7wrc",
    "outputId": "9fe01e40-2dec-422e-f31a-8df7dfb0cd05"
   },
   "outputs": [
    {
     "name": "stdout",
     "output_type": "stream",
     "text": [
      "<class 'str'>\n",
      "<class 'str'>\n",
      "Nervous\n",
      "\n",
      "False\n",
      "True\n",
      "TRXPSWB128F930E511\n",
      "SOZRCWW12AF72A07F7\n"
     ]
    }
   ],
   "source": [
    "# checking if a song, \"Nervous\" (index 22), is in the MSD, and if it is, return its track_id\n",
    "print(type(song_titles[22]))\n",
    "print(type('Nervous'))\n",
    "print(song_titles[22])\n",
    "print('Nervous' == song_titles[22]) # will print False\n",
    "print('Nervous\\n' == song_titles[22]) # will print True\n",
    "# in other words, print(song_title_to_id['Nervous']) will raise a KeyError exception.\n",
    "# However, the following song id lookup will work:\n",
    "print(song_title_to_trackid['Nervous\\n'])\n",
    "print(song_title_to_songid['Nervous\\n'])\n",
    "# i.e while we would expect song_title_to_trackid['Nervous'] or song_title_to_songid['Nervous'] to work, \n",
    "#           it won't work without the \"\\n\" after the title. This is because in unique_tracks.txt, the song \n",
    "#           titles are the last piece of info about each song, and are followed by newline characters before \n",
    "#           the next songs' info is listed. "
   ]
  },
  {
   "cell_type": "markdown",
   "metadata": {},
   "source": [
    "Here, I try to access the song \"Nervous\" in the Million Song Subset, but it's not in the subset. I need to work out how to determine whether a song from the reverse-index file exists in the Million Song Subset, and make a list of those that are indeed in the subset."
   ]
  },
  {
   "cell_type": "code",
   "execution_count": 6,
   "metadata": {
    "id": "_bFOffLG8jQa",
    "scrolled": true
   },
   "outputs": [
    {
     "name": "stdout",
     "output_type": "stream",
     "text": [
      "Defaulting to user installation because normal site-packages is not writeable\n",
      "Requirement already satisfied: tables in /home/aswin/.local/lib/python3.8/site-packages (3.6.1)\n",
      "Requirement already satisfied: numpy>=1.9.3 in /home/aswin/.local/lib/python3.8/site-packages (from tables) (1.20.2)\n",
      "Requirement already satisfied: numexpr>=2.6.2 in /home/aswin/.local/lib/python3.8/site-packages (from tables) (2.7.3)\n"
     ]
    }
   ],
   "source": [
    "# preparing machinery to work with hdf5 files, the file format of the data in MSD and Million Song Subset\n",
    "\n",
    "# !wget https://raw.githubusercontent.com/tbertinmahieux/MSongsDB/master/PythonSrc/hdf5_getters.py\n",
    "!pip install tables\n",
    "import hdf5_getters as GETTERS \n",
    "# bug in hdf5_getters.py: line 39: tables.openFile(h5filename, mode='r') should be tables.open_file(h5filename, mode='r')\n",
    "import os"
   ]
  },
  {
   "cell_type": "code",
   "execution_count": 7,
   "metadata": {},
   "outputs": [],
   "source": [
    "# helper functions:\n",
    "# - to construct the path to the data file.\n",
    "# - to extract song features from data file.\n",
    "#\n",
    "# Citation: \n",
    "# Thierry Bertin-Mahieux (2011) Columbia University\n",
    "# tb2332@columbia.edu\n",
    "# http://millionsongdataset.com/sites/default/files/create_genre_dataset.py.txt\n",
    "\n",
    "def path_from_trackid(msddir,trackid):\n",
    "    \"\"\"\n",
    "    Create a full path from the main MSD dir and a track id.\n",
    "    Does not check if the file actually exists.\n",
    "    \"\"\"\n",
    "    p = os.path.join(msddir,trackid[2])\n",
    "    p = os.path.join(p,trackid[3])\n",
    "    p = os.path.join(p,trackid[4])\n",
    "    p = os.path.join(p,trackid.upper()+'.h5')\n",
    "    return p\n",
    "\n",
    "def feat_from_file(path):\n",
    "    \"\"\"\n",
    "    Extract a list of features in an array, already converted to string\n",
    "    \"\"\"\n",
    "    feats = []\n",
    "    h5 = GETTERS.open_h5_file_read(path)\n",
    "    # basic info\n",
    "    feats.append( GETTERS.get_track_id(h5) )\n",
    "    feats.append( GETTERS.get_artist_name(h5).replace(',','') )\n",
    "    feats.append( GETTERS.get_title(h5).replace(',','') )\n",
    "    feats.append( GETTERS.get_loudness(h5) )\n",
    "    feats.append( GETTERS.get_tempo(h5) )\n",
    "    feats.append( GETTERS.get_time_signature(h5) )\n",
    "    feats.append( GETTERS.get_key(h5) )\n",
    "    feats.append( GETTERS.get_mode(h5) )\n",
    "    feats.append( GETTERS.get_duration(h5) )\n",
    "    # timbre\n",
    "    timbre = GETTERS.get_segments_timbre(h5)\n",
    "    avg_timbre = np.average(timbre,axis=0)\n",
    "    for k in avg_timbre:\n",
    "        feats.append(k)\n",
    "    var_timbre = np.var(timbre,axis=0)\n",
    "    for k in var_timbre:\n",
    "        feats.append(k)\n",
    "    # done with h5 file\n",
    "    h5.close()\n",
    "    # makes sure we return strings\n",
    "    feats = map(lambda x: str(x), feats)\n",
    "    return feats"
   ]
  },
  {
   "cell_type": "code",
   "execution_count": 8,
   "metadata": {
    "scrolled": true
   },
   "outputs": [
    {
     "data": {
      "text/plain": [
       "'MillionSongSubset/X/P/S/TRXPSWB128F930E511.h5'"
      ]
     },
     "execution_count": 8,
     "metadata": {},
     "output_type": "execute_result"
    }
   ],
   "source": [
    "# constructing the path\n",
    "path = path_from_trackid(\"MillionSongSubset\", song_title_to_trackid['Nervous\\n'])\n",
    "path"
   ]
  },
  {
   "cell_type": "code",
   "execution_count": 9,
   "metadata": {
    "scrolled": true
   },
   "outputs": [
    {
     "ename": "OSError",
     "evalue": "``MillionSongSubset/X/P/S/TRXPSWB128F930E511.h5`` does not exist",
     "output_type": "error",
     "traceback": [
      "\u001b[0;31m---------------------------------------------------------------------------\u001b[0m",
      "\u001b[0;31mOSError\u001b[0m                                   Traceback (most recent call last)",
      "\u001b[0;32m<ipython-input-9-56a479e693f8>\u001b[0m in \u001b[0;36m<module>\u001b[0;34m\u001b[0m\n\u001b[1;32m      1\u001b[0m \u001b[0;31m# what happens if we try to open a file that does not exist?\u001b[0m\u001b[0;34m\u001b[0m\u001b[0;34m\u001b[0m\u001b[0;34m\u001b[0m\u001b[0m\n\u001b[0;32m----> 2\u001b[0;31m \u001b[0mh5\u001b[0m \u001b[0;34m=\u001b[0m \u001b[0mGETTERS\u001b[0m\u001b[0;34m.\u001b[0m\u001b[0mopen_h5_file_read\u001b[0m\u001b[0;34m(\u001b[0m\u001b[0mpath\u001b[0m\u001b[0;34m)\u001b[0m\u001b[0;34m\u001b[0m\u001b[0;34m\u001b[0m\u001b[0m\n\u001b[0m",
      "\u001b[0;32m~/Desktop/1_UBC/2020W2/CPEN_291/project/src/hdf5_getters.py\u001b[0m in \u001b[0;36mopen_h5_file_read\u001b[0;34m(h5filename)\u001b[0m\n\u001b[1;32m     37\u001b[0m     \u001b[0mSame\u001b[0m \u001b[0mfunction\u001b[0m \u001b[0;32mas\u001b[0m \u001b[0;32min\u001b[0m \u001b[0mhdf5_utils\u001b[0m\u001b[0;34m,\u001b[0m \u001b[0mhere\u001b[0m \u001b[0mso\u001b[0m \u001b[0mwe\u001b[0m \u001b[0mavoid\u001b[0m \u001b[0mone\u001b[0m \u001b[0;32mimport\u001b[0m\u001b[0;34m\u001b[0m\u001b[0;34m\u001b[0m\u001b[0m\n\u001b[1;32m     38\u001b[0m     \"\"\"\n\u001b[0;32m---> 39\u001b[0;31m     \u001b[0;32mreturn\u001b[0m \u001b[0mtables\u001b[0m\u001b[0;34m.\u001b[0m\u001b[0mopen_file\u001b[0m\u001b[0;34m(\u001b[0m\u001b[0mh5filename\u001b[0m\u001b[0;34m,\u001b[0m \u001b[0mmode\u001b[0m\u001b[0;34m=\u001b[0m\u001b[0;34m'r'\u001b[0m\u001b[0;34m)\u001b[0m\u001b[0;34m\u001b[0m\u001b[0;34m\u001b[0m\u001b[0m\n\u001b[0m\u001b[1;32m     40\u001b[0m \u001b[0;34m\u001b[0m\u001b[0m\n\u001b[1;32m     41\u001b[0m \u001b[0;34m\u001b[0m\u001b[0m\n",
      "\u001b[0;32m~/.local/lib/python3.8/site-packages/tables/file.py\u001b[0m in \u001b[0;36mopen_file\u001b[0;34m(filename, mode, title, root_uep, filters, **kwargs)\u001b[0m\n\u001b[1;32m    313\u001b[0m \u001b[0;34m\u001b[0m\u001b[0m\n\u001b[1;32m    314\u001b[0m     \u001b[0;31m# Finally, create the File instance, and return it\u001b[0m\u001b[0;34m\u001b[0m\u001b[0;34m\u001b[0m\u001b[0;34m\u001b[0m\u001b[0m\n\u001b[0;32m--> 315\u001b[0;31m     \u001b[0;32mreturn\u001b[0m \u001b[0mFile\u001b[0m\u001b[0;34m(\u001b[0m\u001b[0mfilename\u001b[0m\u001b[0;34m,\u001b[0m \u001b[0mmode\u001b[0m\u001b[0;34m,\u001b[0m \u001b[0mtitle\u001b[0m\u001b[0;34m,\u001b[0m \u001b[0mroot_uep\u001b[0m\u001b[0;34m,\u001b[0m \u001b[0mfilters\u001b[0m\u001b[0;34m,\u001b[0m \u001b[0;34m**\u001b[0m\u001b[0mkwargs\u001b[0m\u001b[0;34m)\u001b[0m\u001b[0;34m\u001b[0m\u001b[0;34m\u001b[0m\u001b[0m\n\u001b[0m\u001b[1;32m    316\u001b[0m \u001b[0;34m\u001b[0m\u001b[0m\n\u001b[1;32m    317\u001b[0m \u001b[0;34m\u001b[0m\u001b[0m\n",
      "\u001b[0;32m~/.local/lib/python3.8/site-packages/tables/file.py\u001b[0m in \u001b[0;36m__init__\u001b[0;34m(self, filename, mode, title, root_uep, filters, **kwargs)\u001b[0m\n\u001b[1;32m    776\u001b[0m \u001b[0;34m\u001b[0m\u001b[0m\n\u001b[1;32m    777\u001b[0m         \u001b[0;31m# Now, it is time to initialize the File extension\u001b[0m\u001b[0;34m\u001b[0m\u001b[0;34m\u001b[0m\u001b[0;34m\u001b[0m\u001b[0m\n\u001b[0;32m--> 778\u001b[0;31m         \u001b[0mself\u001b[0m\u001b[0;34m.\u001b[0m\u001b[0m_g_new\u001b[0m\u001b[0;34m(\u001b[0m\u001b[0mfilename\u001b[0m\u001b[0;34m,\u001b[0m \u001b[0mmode\u001b[0m\u001b[0;34m,\u001b[0m \u001b[0;34m**\u001b[0m\u001b[0mparams\u001b[0m\u001b[0;34m)\u001b[0m\u001b[0;34m\u001b[0m\u001b[0;34m\u001b[0m\u001b[0m\n\u001b[0m\u001b[1;32m    779\u001b[0m \u001b[0;34m\u001b[0m\u001b[0m\n\u001b[1;32m    780\u001b[0m         \u001b[0;31m# Check filters and set PyTables format version for new files.\u001b[0m\u001b[0;34m\u001b[0m\u001b[0;34m\u001b[0m\u001b[0;34m\u001b[0m\u001b[0m\n",
      "\u001b[0;32mtables/hdf5extension.pyx\u001b[0m in \u001b[0;36mtables.hdf5extension.File._g_new\u001b[0;34m()\u001b[0m\n",
      "\u001b[0;32m~/.local/lib/python3.8/site-packages/tables/utils.py\u001b[0m in \u001b[0;36mcheck_file_access\u001b[0;34m(filename, mode)\u001b[0m\n\u001b[1;32m    152\u001b[0m         \u001b[0;31m# The file should be readable.\u001b[0m\u001b[0;34m\u001b[0m\u001b[0;34m\u001b[0m\u001b[0;34m\u001b[0m\u001b[0m\n\u001b[1;32m    153\u001b[0m         \u001b[0;32mif\u001b[0m \u001b[0;32mnot\u001b[0m \u001b[0mos\u001b[0m\u001b[0;34m.\u001b[0m\u001b[0maccess\u001b[0m\u001b[0;34m(\u001b[0m\u001b[0mfilename\u001b[0m\u001b[0;34m,\u001b[0m \u001b[0mos\u001b[0m\u001b[0;34m.\u001b[0m\u001b[0mF_OK\u001b[0m\u001b[0;34m)\u001b[0m\u001b[0;34m:\u001b[0m\u001b[0;34m\u001b[0m\u001b[0;34m\u001b[0m\u001b[0m\n\u001b[0;32m--> 154\u001b[0;31m             \u001b[0;32mraise\u001b[0m \u001b[0mIOError\u001b[0m\u001b[0;34m(\u001b[0m\u001b[0;34m\"``%s`` does not exist\"\u001b[0m \u001b[0;34m%\u001b[0m \u001b[0;34m(\u001b[0m\u001b[0mfilename\u001b[0m\u001b[0;34m,\u001b[0m\u001b[0;34m)\u001b[0m\u001b[0;34m)\u001b[0m\u001b[0;34m\u001b[0m\u001b[0;34m\u001b[0m\u001b[0m\n\u001b[0m\u001b[1;32m    155\u001b[0m         \u001b[0;32mif\u001b[0m \u001b[0;32mnot\u001b[0m \u001b[0mos\u001b[0m\u001b[0;34m.\u001b[0m\u001b[0mpath\u001b[0m\u001b[0;34m.\u001b[0m\u001b[0misfile\u001b[0m\u001b[0;34m(\u001b[0m\u001b[0mfilename\u001b[0m\u001b[0;34m)\u001b[0m\u001b[0;34m:\u001b[0m\u001b[0;34m\u001b[0m\u001b[0;34m\u001b[0m\u001b[0m\n\u001b[1;32m    156\u001b[0m             \u001b[0;32mraise\u001b[0m \u001b[0mIOError\u001b[0m\u001b[0;34m(\u001b[0m\u001b[0;34m\"``%s`` is not a regular file\"\u001b[0m \u001b[0;34m%\u001b[0m \u001b[0;34m(\u001b[0m\u001b[0mfilename\u001b[0m\u001b[0;34m,\u001b[0m\u001b[0;34m)\u001b[0m\u001b[0;34m)\u001b[0m\u001b[0;34m\u001b[0m\u001b[0;34m\u001b[0m\u001b[0m\n",
      "\u001b[0;31mOSError\u001b[0m: ``MillionSongSubset/X/P/S/TRXPSWB128F930E511.h5`` does not exist"
     ]
    }
   ],
   "source": [
    "# what happens if we try to open a file that does not exist?\n",
    "h5 = GETTERS.open_h5_file_read(path)"
   ]
  },
  {
   "cell_type": "code",
   "execution_count": 10,
   "metadata": {
    "scrolled": true
   },
   "outputs": [
    {
     "data": {
      "text/plain": [
       "False"
      ]
     },
     "execution_count": 10,
     "metadata": {},
     "output_type": "execute_result"
    }
   ],
   "source": [
    "# printing if path exists\n",
    "os.path.exists(path)"
   ]
  },
  {
   "cell_type": "code",
   "execution_count": 11,
   "metadata": {},
   "outputs": [
    {
     "data": {
      "text/plain": [
       "[False, False, False, False, False, False, False, False, False, False]"
      ]
     },
     "execution_count": 11,
     "metadata": {},
     "output_type": "execute_result"
    }
   ],
   "source": [
    "song_exists_in_subset = [os.path.exists(path_from_trackid(\"MillionSongSubset\", track_ids[i])) for i in range(len(track_ids))]\n",
    "song_exists_in_subset[:10]"
   ]
  },
  {
   "cell_type": "code",
   "execution_count": 12,
   "metadata": {},
   "outputs": [
    {
     "name": "stdout",
     "output_type": "stream",
     "text": [
      "[233581, 233584, 233597, 233601, 233605, 233608, 233610, 233616, 233618, 233621, 233623, 233624, 233627, 233629, 233637, 233638, 233646, 233648, 233651, 233658, 233659, 233660, 233665, 233667, 233669, 233671, 233680, 233684, 233685, 233686, 233688, 233691, 233699, 233705, 233719, 233720, 233723, 233726, 233731, 233741, 233742, 233748, 233753, 233758, 233765, 233767, 233768, 233769, 233771, 233773]\n",
      "10000\n"
     ]
    }
   ],
   "source": [
    "# Indices, for all of song_titles[1...1_000_000], track_ids[1...1_000_000], and song_ids[1...1_000_000], \n",
    "# of songs that exist in the Million Song Subset\n",
    "existing_song_indices = [i for i in range(len(song_exists_in_subset)) if song_exists_in_subset[i]]\n",
    "print(existing_song_indices[:50])\n",
    "print(len(existing_song_indices)) # should print 10000"
   ]
  },
  {
   "cell_type": "code",
   "execution_count": 13,
   "metadata": {},
   "outputs": [],
   "source": [
    "# song_titles_subset = [song_titles[x] for x in existing_song_indices]\n",
    "# print(song_titles_subset[:10])\n",
    "# len(song_titles_subset)"
   ]
  },
  {
   "cell_type": "code",
   "execution_count": 14,
   "metadata": {},
   "outputs": [],
   "source": [
    "# track_ids_subset = [track_ids[x] for x in existing_song_indices]\n",
    "# print(track_ids_subset[:10])\n",
    "# len(track_ids_subset)"
   ]
  },
  {
   "cell_type": "code",
   "execution_count": 15,
   "metadata": {},
   "outputs": [],
   "source": [
    "# song_ids_subset = [song_ids[i] for i in existing_song_indices]\n",
    "# print(song_ids_subset[:10])\n",
    "# len(song_ids_subset)"
   ]
  },
  {
   "cell_type": "code",
   "execution_count": 16,
   "metadata": {},
   "outputs": [
    {
     "name": "stdout",
     "output_type": "stream",
     "text": [
      "pass\n",
      "0\n"
     ]
    }
   ],
   "source": [
    "# check that all the songs at the extracted indices do indeed exist in the million song subset\n",
    "passed = 1\n",
    "failed_indices = []\n",
    "for i in range(10_000):\n",
    "    if not os.path.exists(path_from_trackid(\"MillionSongSubset\", track_ids[existing_song_indices[i]])):\n",
    "        passed = 0\n",
    "        failed_indices.append(existing_song_indices[i])\n",
    "if passed == 1: print(\"pass\")\n",
    "else: print(\"fail\")\n",
    "print(len(failed_indices))\n",
    "    "
   ]
  },
  {
   "cell_type": "code",
   "execution_count": 17,
   "metadata": {},
   "outputs": [
    {
     "name": "stdout",
     "output_type": "stream",
     "text": [
      "fail\n",
      "3399\n",
      "[233597, 233605, 233608, 233618, 233621, 233624, 233627, 233629, 233646, 233651]\n"
     ]
    }
   ],
   "source": [
    "# check that the mapping between song title and track id has remained intact\n",
    "passed = 1\n",
    "failed_indices = []\n",
    "for i in range(10_000):\n",
    "    if not track_ids[existing_song_indices[i]] == song_title_to_trackid[song_titles[existing_song_indices[i]]]:\n",
    "        passed = 0\n",
    "        failed_indices.append(existing_song_indices[i])\n",
    "if passed == 1: print(\"pass\")\n",
    "else: print(\"fail\")\n",
    "print(len(failed_indices))\n",
    "print(failed_indices[:10])"
   ]
  },
  {
   "cell_type": "code",
   "execution_count": 18,
   "metadata": {
    "scrolled": true
   },
   "outputs": [
    {
     "name": "stdout",
     "output_type": "stream",
     "text": [
      "song title: Kicking And Screaming\n",
      ",         correct track_id: TRBGMOG128F92D75BD,         incorrect track_id: TRDLSCJ12903D00EF5\n",
      "song title: Terraplane Blues\n",
      ",         correct track_id: TRBGMAW128F4231326,         incorrect track_id: TRKUJNM128F4233D6E\n",
      "song title: Toda Mi Vida\n",
      ",         correct track_id: TRBGMJB128F92E5936,         incorrect track_id: TRAWHIW128F421BC96\n",
      "song title: Lookin' for My Baby\n",
      ",         correct track_id: TRBGMWD12903D0F674,         incorrect track_id: TRLDQER128F426A286\n",
      "song title: La Rosa\n",
      ",         correct track_id: TRBGMJD128F4266852,         incorrect track_id: TRVQOSU128F935DC17\n",
      "song title: The Harbour\n",
      ",         correct track_id: TRBGMHU128EF356CB8,         incorrect track_id: TRXUTTK128F92FF227\n",
      "song title: Slow And Low\n",
      ",         correct track_id: TRBGMUA128F92E9A1C,         incorrect track_id: TRXNSFR12903CDBC9E\n",
      "song title: Dio Nisia\n",
      ",         correct track_id: TRBGMKO128F933A55B,         incorrect track_id: TRLQWFZ128F933A87F\n",
      "song title: I Don't Like You\n",
      ",         correct track_id: TRBGWSR128F4286574,         incorrect track_id: TRXAPDC128F428BE12\n",
      "song title: Take The Time\n",
      ",         correct track_id: TRBGWQG128F92FB42D,         incorrect track_id: TRKPSTJ128F933A405\n"
     ]
    }
   ],
   "source": [
    "for i in range(10):\n",
    "    print(f\"song title: {song_titles[failed_indices[i]]}, \\\n",
    "        correct track_id: {track_ids[failed_indices[i]]}, \\\n",
    "        incorrect track_id: {song_title_to_trackid[song_titles[failed_indices[i]]]}\")"
   ]
  },
  {
   "cell_type": "code",
   "execution_count": 19,
   "metadata": {},
   "outputs": [
    {
     "name": "stdout",
     "output_type": "stream",
     "text": [
      "Kicking And Screaming\n",
      "Kicking And Screaming\n",
      "\n",
      "Terraplane Blues\n",
      "Terraplane Blues\n",
      "\n",
      "Toda Mi Vida\n",
      "Toda Mi Vida\n",
      "\n",
      "Lookin' for My Baby\n",
      "Lookin' for My Baby\n",
      "\n",
      "La Rosa\n",
      "La Rosa\n",
      "\n",
      "The Harbour\n",
      "The Harbour\n",
      "\n",
      "Slow And Low\n",
      "Slow And Low\n",
      "\n",
      "Dio Nisia\n",
      "Dio Nisia\n",
      "\n",
      "I Don't Like You\n",
      "I Don't Like You\n",
      "\n",
      "Take The Time\n",
      "Take The Time\n",
      "\n",
      "Different track ids map to the same song title. All the songs at the failed indices have two track ids\n",
      "Double checked that the track ids mapped to the same song are different. All the songs at the failed indices have two track ids\n"
     ]
    }
   ],
   "source": [
    "trackid_to_song = {track_ids[i]:song_titles[i] for i in range(num_lines)}\n",
    "for i in range(10):\n",
    "    print(f\"{trackid_to_song[song_title_to_trackid[song_titles[failed_indices[i]]]]}{song_titles[failed_indices[i]]}\")\n",
    "\n",
    "# do both incorrect track id and correct track id map to the same song?\n",
    "one_song_two_trackids_part_1 = True\n",
    "for i in range(len(failed_indices)):\n",
    "    if trackid_to_song[track_ids[failed_indices[i]]] != trackid_to_song[song_title_to_trackid[song_titles[failed_indices[i]]]]:\n",
    "        one_song_two_trackids_part_1 = False\n",
    "if one_song_two_trackids_part_1:\n",
    "    print(\"Different track ids map to the same song title. All the songs at the failed indices have two track ids\")\n",
    "\n",
    "one_song_two_trackids_part_2 = True\n",
    "for i in range(len(failed_indices)):\n",
    "    if track_ids[failed_indices[i]] == song_title_to_trackid[song_titles[failed_indices[i]]]:\n",
    "        one_song_two_trackids_part_2 = False\n",
    "if one_song_two_trackids_part_2:\n",
    "    print(\"Double checked that the track ids mapped to the same song are different. All the songs at the failed indices have two track ids\")\n",
    "\n"
   ]
  },
  {
   "cell_type": "markdown",
   "metadata": {},
   "source": [
    "The \"incorrect\" track ids found through song_title_to_trackid\\[song_titles\\[failed_indices\\[i\\]\\]\\] all map to the \"correct\" song song_titles\\[failed_indices\\[i\\]\\]. The same song that is mapped to the \"correct\" track id track_ids\\[i\\]. But track_ids\\[i\\] != song_title_to_trackid\\[song_titles\\[failed_indices\\[i\\]\\]\\]; two track ids, which map to the same song, are different. So, the songs at the failed indices must have two track ids. This suggests that those song titles were repeats in the dataset. We can discard the song titles, song ids, and track ids at those indices."
   ]
  },
  {
   "cell_type": "code",
   "execution_count": 20,
   "metadata": {},
   "outputs": [
    {
     "name": "stdout",
     "output_type": "stream",
     "text": [
      "True\n"
     ]
    },
    {
     "data": {
      "text/plain": [
       "6601"
      ]
     },
     "execution_count": 20,
     "metadata": {},
     "output_type": "execute_result"
    }
   ],
   "source": [
    "# discarding repeated songs\n",
    "existing_song_indices = [existing_song_indices[i] for i in range(len(existing_song_indices)) \\\n",
    "                         if not existing_song_indices[i] in failed_indices]\n",
    "print(len(existing_song_indices) == 10000 - len(failed_indices))\n",
    "len(existing_song_indices)"
   ]
  },
  {
   "cell_type": "code",
   "execution_count": 21,
   "metadata": {},
   "outputs": [
    {
     "name": "stdout",
     "output_type": "stream",
     "text": [
      "pass\n",
      "0\n"
     ]
    }
   ],
   "source": [
    "# check that all the songs at the extracted indices do indeed exist in the million song subset\n",
    "passed = 1\n",
    "failed_indices = []\n",
    "for i in range(len(existing_song_indices)):\n",
    "    if not os.path.exists(path_from_trackid(\"MillionSongSubset\", track_ids[existing_song_indices[i]])):\n",
    "        passed = 0\n",
    "        failed_indices.append(existing_song_indices[i])\n",
    "if passed == 1: print(\"pass\")\n",
    "else: print(\"fail\")\n",
    "print(len(failed_indices))"
   ]
  },
  {
   "cell_type": "code",
   "execution_count": 22,
   "metadata": {},
   "outputs": [
    {
     "name": "stdout",
     "output_type": "stream",
     "text": [
      "pass\n",
      "0\n"
     ]
    }
   ],
   "source": [
    "# check that the mapping between song title and track id has remained intact\n",
    "passed = 1\n",
    "failed_indices = []\n",
    "for i in range(len(existing_song_indices)):\n",
    "    if not track_ids[existing_song_indices[i]] == song_title_to_trackid[song_titles[existing_song_indices[i]]]\\\n",
    "        and song_titles[existing_song_indices[i]] == trackid_to_song[song_title_to_trackid[song_titles[existing_song_indices[i]]]]:\n",
    "            passed = 0\n",
    "            failed_indices.append(existing_song_indices[i])\n",
    "if passed == 1: print(\"pass\")\n",
    "else: print(\"fail\")\n",
    "print(len(failed_indices))"
   ]
  },
  {
   "cell_type": "markdown",
   "metadata": {},
   "source": [
    "The data we can retieve from the million song subset is represented by:\n",
    "- song_titles[1...1_000_000]\n",
    "- track_ids[1...1_000_000]\n",
    "- song_ids[1...1_000_000]\n",
    "- existing_song_indices[1...6601]\n",
    "- the dictionaries, song_title_to_trackid and song_title_to_songid "
   ]
  },
  {
   "cell_type": "code",
   "execution_count": 23,
   "metadata": {
    "scrolled": true
   },
   "outputs": [
    {
     "name": "stdout",
     "output_type": "stream",
     "text": [
      "Life's Blood\n",
      "\n",
      "End Of The Beginning\n",
      "\n",
      "Black Connect 3\n",
      "\n",
      "Lift Jesus Up\n",
      "\n",
      "Jubilation T. Cornpone\n",
      "\n",
      "The Way Of Love (West Coast Diaries Vol. 1 Album Version)\n",
      "\n",
      "L'idole des femmes\n",
      "\n",
      "All Or Nothing  (Wonderful World Album Version)\n",
      "\n",
      "Together We Stand (Album Version)\n",
      "\n",
      "Cet Air Étrange (Take 1 - Abbey Road Rough Mix)\n",
      "\n"
     ]
    }
   ],
   "source": [
    "# some songs available in the million songs subset:\n",
    "for i in range(10): print(song_titles[existing_song_indices[i]])"
   ]
  },
  {
   "cell_type": "markdown",
   "metadata": {},
   "source": [
    "For convenience, I will create a new dictionary existing_song_to_trackid to hold the song title to track id mappings for songs in the Million Song Subset..."
   ]
  },
  {
   "cell_type": "code",
   "execution_count": 71,
   "metadata": {},
   "outputs": [
    {
     "data": {
      "text/plain": [
       "'TANGLE OF ASPENS\\n'"
      ]
     },
     "execution_count": 71,
     "metadata": {},
     "output_type": "execute_result"
    }
   ],
   "source": [
    "song_titles[4].upper()"
   ]
  },
  {
   "cell_type": "code",
   "execution_count": 84,
   "metadata": {},
   "outputs": [
    {
     "name": "stdout",
     "output_type": "stream",
     "text": [
      "False\n",
      "6600 6601\n",
      "TRBGMWQ12903CC23CD\n",
      "TRBGMJF128F425E8EA\n",
      "TRBGMXY128F92FC2B2\n",
      "TRBGMMC12903CEFD3C\n",
      "TRBGMNM128F932D140\n",
      "TRBGMZJ128F4264AA6\n",
      "TRBGMAZ12903CC3707\n",
      "TRBGMIX128F9303ED6\n",
      "TRBGWRL128F9301CB9\n",
      "TRBGWRN128F92F1E46\n"
     ]
    }
   ],
   "source": [
    "existing_song_to_trackid = {song_titles[i].upper():track_ids[i] for i in existing_song_indices}\n",
    "print(len(existing_song_to_trackid) == len(existing_song_indices))\n",
    "print(len(existing_song_to_trackid), len(existing_song_indices))\n",
    "for i in range(10):\n",
    "    print(existing_song_to_trackid[song_titles[existing_song_indices[i]].upper()])"
   ]
  },
  {
   "cell_type": "markdown",
   "metadata": {},
   "source": [
    "Now, we can finally retieve info about a specific song in the million song subset"
   ]
  },
  {
   "cell_type": "code",
   "execution_count": 24,
   "metadata": {
    "scrolled": true
   },
   "outputs": [
    {
     "name": "stdout",
     "output_type": "stream",
     "text": [
      "MillionSongSubset/B/G/M/TRBGMWQ12903CC23CD.h5\n"
     ]
    },
    {
     "data": {
      "text/plain": [
       "True"
      ]
     },
     "execution_count": 24,
     "metadata": {},
     "output_type": "execute_result"
    }
   ],
   "source": [
    "path = path_from_trackid(\"MillionSongSubset\", song_title_to_trackid[\"Life's Blood\\n\"])\n",
    "print(path)\n",
    "os.path.exists(path)"
   ]
  },
  {
   "cell_type": "code",
   "execution_count": 25,
   "metadata": {},
   "outputs": [
    {
     "name": "stdout",
     "output_type": "stream",
     "text": [
      "1\n",
      "0.7523659740980329\n",
      "b'Eighteen Visions'\n",
      "b\"Life's Blood\"\n"
     ]
    }
   ],
   "source": [
    "# open the hdf5 file specified by path\n",
    "h5 = GETTERS.open_h5_file_read(path)\n",
    "# extract song info from the file\n",
    "print(GETTERS.get_num_songs(h5))\n",
    "print(GETTERS.get_artist_familiarity(h5))\n",
    "print(GETTERS.get_artist_name(h5))\n",
    "print(GETTERS.get_title(h5))\n",
    "# and so on"
   ]
  },
  {
   "cell_type": "markdown",
   "metadata": {
    "id": "Yogut8IY5_yF"
   },
   "source": [
    "## Compiling a List of Rock and Jazz Songs\n",
    "\n",
    "Sources:\n",
    "- Rock: https://www.rocknrollamerica.net/Top1000.html\n",
    "- Rock: https://digitaldreamdoor.com/pages/best_songsddd.html\n",
    "- Jazz: https://goldstandardsonglist.com/Pages_Sort_1a/Sort_1a_Jazz.htm#JAZZ%20LIST%20TOP\n",
    "- Jazz: https://www.jazz24.org/the-jazz-100/"
   ]
  },
  {
   "cell_type": "code",
   "execution_count": 26,
   "metadata": {
    "id": "Oa4qsPfO6KDO",
    "scrolled": true
   },
   "outputs": [
    {
     "name": "stdout",
     "output_type": "stream",
     "text": [
      "Defaulting to user installation because normal site-packages is not writeable\n",
      "Requirement already satisfied: pandas in /home/aswin/.local/lib/python3.8/site-packages (1.2.3)\n",
      "Requirement already satisfied: python-dateutil>=2.7.3 in /usr/lib/python3/dist-packages (from pandas) (2.7.3)\n",
      "Requirement already satisfied: numpy>=1.16.5 in /home/aswin/.local/lib/python3.8/site-packages (from pandas) (1.20.2)\n",
      "Requirement already satisfied: pytz>=2017.3 in /usr/lib/python3/dist-packages (from pandas) (2019.3)\n",
      "Defaulting to user installation because normal site-packages is not writeable\n",
      "Requirement already satisfied: lxml in /home/aswin/.local/lib/python3.8/site-packages (4.6.3)\n"
     ]
    }
   ],
   "source": [
    "!pip3 install pandas \n",
    "# !sudo apt-get install python3-lxml\n",
    "!pip3 install lxml\n",
    "\n",
    "# !pip install pandas, and !pip install lxml \n",
    "#result in Python: ImportError: lxml not found, please install it exception for pd.read_html()\n",
    "\n",
    "import pandas as pd\n",
    "import lxml"
   ]
  },
  {
   "cell_type": "markdown",
   "metadata": {},
   "source": [
    "Let's create a list of rock songs from the rock source https://www.rocknrollamerica.net/Top1000.html"
   ]
  },
  {
   "cell_type": "code",
   "execution_count": 27,
   "metadata": {},
   "outputs": [],
   "source": [
    "rock_df = pd.read_html(\"https://www.rocknrollamerica.net/Top1000.html\")"
   ]
  },
  {
   "cell_type": "code",
   "execution_count": 28,
   "metadata": {},
   "outputs": [
    {
     "data": {
      "text/plain": [
       "1"
      ]
     },
     "execution_count": 28,
     "metadata": {},
     "output_type": "execute_result"
    }
   ],
   "source": [
    "len(rock_df)"
   ]
  },
  {
   "cell_type": "code",
   "execution_count": 29,
   "metadata": {},
   "outputs": [
    {
     "data": {
      "text/plain": [
       "[         0                         1               2\n",
       " 0     Rank                      Song          Artist\n",
       " 1        1        Stairway to Heaven    Led Zeppelin\n",
       " 2        2                  Hey Jude         Beatles\n",
       " 3        3  All Along the Watchtower   Hendrix, Jimi\n",
       " 4        4              Satisfaction  Rolling Stones\n",
       " ...    ...                       ...             ...\n",
       " 996    996             Strange Magic             ELO\n",
       " 997    997       Great White Buffalo      Ted Nugent\n",
       " 998    998                Outlaw Man          Eagles\n",
       " 999    999         Get Out Of Denver      Seger, Bob\n",
       " 1000  1000         Flying High Again   Ozzy Osbourne\n",
       " \n",
       " [1001 rows x 3 columns]]"
      ]
     },
     "execution_count": 29,
     "metadata": {},
     "output_type": "execute_result"
    }
   ],
   "source": [
    "rock_df # a list of pandas dataframe objects"
   ]
  },
  {
   "cell_type": "code",
   "execution_count": 30,
   "metadata": {},
   "outputs": [
    {
     "data": {
      "text/html": [
       "<div>\n",
       "<style scoped>\n",
       "    .dataframe tbody tr th:only-of-type {\n",
       "        vertical-align: middle;\n",
       "    }\n",
       "\n",
       "    .dataframe tbody tr th {\n",
       "        vertical-align: top;\n",
       "    }\n",
       "\n",
       "    .dataframe thead th {\n",
       "        text-align: right;\n",
       "    }\n",
       "</style>\n",
       "<table border=\"1\" class=\"dataframe\">\n",
       "  <thead>\n",
       "    <tr style=\"text-align: right;\">\n",
       "      <th></th>\n",
       "      <th>0</th>\n",
       "      <th>1</th>\n",
       "      <th>2</th>\n",
       "    </tr>\n",
       "  </thead>\n",
       "  <tbody>\n",
       "    <tr>\n",
       "      <th>0</th>\n",
       "      <td>Rank</td>\n",
       "      <td>Song</td>\n",
       "      <td>Artist</td>\n",
       "    </tr>\n",
       "    <tr>\n",
       "      <th>1</th>\n",
       "      <td>1</td>\n",
       "      <td>Stairway to Heaven</td>\n",
       "      <td>Led Zeppelin</td>\n",
       "    </tr>\n",
       "    <tr>\n",
       "      <th>2</th>\n",
       "      <td>2</td>\n",
       "      <td>Hey Jude</td>\n",
       "      <td>Beatles</td>\n",
       "    </tr>\n",
       "    <tr>\n",
       "      <th>3</th>\n",
       "      <td>3</td>\n",
       "      <td>All Along the Watchtower</td>\n",
       "      <td>Hendrix, Jimi</td>\n",
       "    </tr>\n",
       "    <tr>\n",
       "      <th>4</th>\n",
       "      <td>4</td>\n",
       "      <td>Satisfaction</td>\n",
       "      <td>Rolling Stones</td>\n",
       "    </tr>\n",
       "    <tr>\n",
       "      <th>...</th>\n",
       "      <td>...</td>\n",
       "      <td>...</td>\n",
       "      <td>...</td>\n",
       "    </tr>\n",
       "    <tr>\n",
       "      <th>996</th>\n",
       "      <td>996</td>\n",
       "      <td>Strange Magic</td>\n",
       "      <td>ELO</td>\n",
       "    </tr>\n",
       "    <tr>\n",
       "      <th>997</th>\n",
       "      <td>997</td>\n",
       "      <td>Great White Buffalo</td>\n",
       "      <td>Ted Nugent</td>\n",
       "    </tr>\n",
       "    <tr>\n",
       "      <th>998</th>\n",
       "      <td>998</td>\n",
       "      <td>Outlaw Man</td>\n",
       "      <td>Eagles</td>\n",
       "    </tr>\n",
       "    <tr>\n",
       "      <th>999</th>\n",
       "      <td>999</td>\n",
       "      <td>Get Out Of Denver</td>\n",
       "      <td>Seger, Bob</td>\n",
       "    </tr>\n",
       "    <tr>\n",
       "      <th>1000</th>\n",
       "      <td>1000</td>\n",
       "      <td>Flying High Again</td>\n",
       "      <td>Ozzy Osbourne</td>\n",
       "    </tr>\n",
       "  </tbody>\n",
       "</table>\n",
       "<p>1001 rows × 3 columns</p>\n",
       "</div>"
      ],
      "text/plain": [
       "         0                         1               2\n",
       "0     Rank                      Song          Artist\n",
       "1        1        Stairway to Heaven    Led Zeppelin\n",
       "2        2                  Hey Jude         Beatles\n",
       "3        3  All Along the Watchtower   Hendrix, Jimi\n",
       "4        4              Satisfaction  Rolling Stones\n",
       "...    ...                       ...             ...\n",
       "996    996             Strange Magic             ELO\n",
       "997    997       Great White Buffalo      Ted Nugent\n",
       "998    998                Outlaw Man          Eagles\n",
       "999    999         Get Out Of Denver      Seger, Bob\n",
       "1000  1000         Flying High Again   Ozzy Osbourne\n",
       "\n",
       "[1001 rows x 3 columns]"
      ]
     },
     "execution_count": 30,
     "metadata": {},
     "output_type": "execute_result"
    }
   ],
   "source": [
    "rock_df[0] # one particular dataframe object in the list"
   ]
  },
  {
   "cell_type": "code",
   "execution_count": 31,
   "metadata": {},
   "outputs": [
    {
     "data": {
      "text/plain": [
       "Int64Index([0, 1, 2], dtype='int64')"
      ]
     },
     "execution_count": 31,
     "metadata": {},
     "output_type": "execute_result"
    }
   ],
   "source": [
    "rock_df[0].columns"
   ]
  },
  {
   "cell_type": "code",
   "execution_count": 32,
   "metadata": {},
   "outputs": [
    {
     "data": {
      "text/plain": [
       "0                           Song\n",
       "1             Stairway to Heaven\n",
       "2                       Hey Jude\n",
       "3       All Along the Watchtower\n",
       "4                   Satisfaction\n",
       "                  ...           \n",
       "996                Strange Magic\n",
       "997          Great White Buffalo\n",
       "998                   Outlaw Man\n",
       "999            Get Out Of Denver\n",
       "1000           Flying High Again\n",
       "Name: 1, Length: 1001, dtype: object"
      ]
     },
     "execution_count": 32,
     "metadata": {},
     "output_type": "execute_result"
    }
   ],
   "source": [
    "rock_df[0][1] # extracting the song title column from the rock_df[0] dataframe"
   ]
  },
  {
   "cell_type": "code",
   "execution_count": 33,
   "metadata": {},
   "outputs": [
    {
     "data": {
      "text/plain": [
       "1             Stairway to Heaven\n",
       "2                       Hey Jude\n",
       "3       All Along the Watchtower\n",
       "4                   Satisfaction\n",
       "5           Like A Rolling Stone\n",
       "                  ...           \n",
       "996                Strange Magic\n",
       "997          Great White Buffalo\n",
       "998                   Outlaw Man\n",
       "999            Get Out Of Denver\n",
       "1000           Flying High Again\n",
       "Name: 1, Length: 1000, dtype: object"
      ]
     },
     "execution_count": 33,
     "metadata": {},
     "output_type": "execute_result"
    }
   ],
   "source": [
    "rock_songs = rock_df[0][1]\n",
    "rock_songs = rock_songs[1:] # discarding the title, \"Song,\" of the extracted column\n",
    "rock_songs"
   ]
  },
  {
   "cell_type": "code",
   "execution_count": 34,
   "metadata": {},
   "outputs": [
    {
     "data": {
      "text/plain": [
       "pandas.core.series.Series"
      ]
     },
     "execution_count": 34,
     "metadata": {},
     "output_type": "execute_result"
    }
   ],
   "source": [
    "type(rock_songs) # the data type of the column of song titles is a pandas series. Need a list of strings instead."
   ]
  },
  {
   "cell_type": "code",
   "execution_count": 35,
   "metadata": {
    "scrolled": true
   },
   "outputs": [
    {
     "data": {
      "text/plain": [
       "['Stairway to Heaven',\n",
       " 'Hey Jude',\n",
       " 'All Along the Watchtower',\n",
       " 'Satisfaction',\n",
       " 'Like A Rolling Stone',\n",
       " 'Another Brick In The Wall',\n",
       " \"Won't Get Fooled Again\",\n",
       " 'Hotel California',\n",
       " 'Layla',\n",
       " 'Sweet Home Alabama',\n",
       " 'Bohemian Rhapsody',\n",
       " 'Riders on the Storm',\n",
       " 'Rock and Roll',\n",
       " 'Barracuda',\n",
       " 'La Grange',\n",
       " 'Dream On',\n",
       " 'You Really Got Me',\n",
       " 'More Than a Feeling',\n",
       " 'Sultans of Swing',\n",
       " 'You Shook Me All Night Long',\n",
       " 'Kashmir',\n",
       " 'Lola',\n",
       " 'Carry on Wayward Son',\n",
       " 'Tiny Dancer',\n",
       " 'Locomotive Breath',\n",
       " \"I Still Haven't Found\",\n",
       " 'Magic Carpet Ride',\n",
       " 'Free Bird',\n",
       " 'Purple Haze',\n",
       " 'Tom Sawyer',\n",
       " 'Let It Be',\n",
       " \"Baba O'Riley\",\n",
       " 'The Joker',\n",
       " 'Roxanne',\n",
       " 'Time',\n",
       " \"It's A Long Way to the Top\",\n",
       " 'Whole Lotta Love',\n",
       " 'The Chain',\n",
       " \"I've Seen All Good People\",\n",
       " \"For What It's Worth\",\n",
       " 'Black Magic Woman',\n",
       " 'Nights in White Satin',\n",
       " 'While My Guitar Gently Weeps',\n",
       " 'Gimme Shelter',\n",
       " 'Gold Dust Woman',\n",
       " 'Fortunate Son',\n",
       " 'American Pie',\n",
       " 'Bad Company',\n",
       " \"Waitin' For The Bus/Jesus Just Left\",\n",
       " 'Over the Hills and Far Away',\n",
       " 'Owner of a Lonely Heart',\n",
       " 'The Logical Song',\n",
       " 'A Day in the Life',\n",
       " 'Sweet Emotion',\n",
       " 'Down On The Corner',\n",
       " 'My Sweet Lord',\n",
       " \"Knockin' on Heaven's Door\",\n",
       " 'Just What I Needed',\n",
       " \"Don't Fear the Reaper\",\n",
       " 'Behind Blue Eyes',\n",
       " 'Do It Again',\n",
       " 'Who Do You Love',\n",
       " 'From the Beginning',\n",
       " 'Already Gone',\n",
       " 'Here Comes The Sun',\n",
       " 'With Or Without You',\n",
       " \"Life's Been Good\",\n",
       " 'Breakdown (Live Version)',\n",
       " 'Comfortably Numb',\n",
       " 'Ramble On',\n",
       " \"I'd Love to Change the World\",\n",
       " 'Foreplay Longtime',\n",
       " 'Brown Eyed Girl',\n",
       " 'Back In Black',\n",
       " \"You Can't Always Get What You\",\n",
       " 'Take It Easy',\n",
       " 'Sgt. Pepper/With A Little Help',\n",
       " 'We Will Rock You/We Are the',\n",
       " 'Dancing Days',\n",
       " 'Turn the Page',\n",
       " 'All Right Now',\n",
       " 'Black Water',\n",
       " 'Oh Well',\n",
       " 'Me and Bobby McGee',\n",
       " 'Rocket Man',\n",
       " 'Ohio',\n",
       " 'You Really Got Me',\n",
       " 'Bloody Well Right',\n",
       " 'Dirty Deeds',\n",
       " 'Aqualung',\n",
       " 'The Wind Cries Mary',\n",
       " \"Burnin' for You\",\n",
       " 'Moving in Stereo/All Mixed Up',\n",
       " 'House of the Rising Sun',\n",
       " 'Bargain',\n",
       " \"Maybe I'm Amazed\",\n",
       " 'Bennie & The Jets',\n",
       " 'Dust in the Wind',\n",
       " \"Rock 'n Roll Hootchie Koo\",\n",
       " 'Crazy On You',\n",
       " 'Do You Feel Like We Do',\n",
       " 'Louie Louie',\n",
       " 'Jessica',\n",
       " 'Long Train Running',\n",
       " \"Walkin' On The Moon\",\n",
       " 'Stranglehold',\n",
       " 'Fire',\n",
       " 'Tush',\n",
       " 'Feel Like Making Love',\n",
       " \"Who'll Stop The Rain\",\n",
       " 'The Sky Is Crying',\n",
       " \"You Ain't Seen Nothing Yet\",\n",
       " 'Smoke on the Water',\n",
       " \"Can't You See\",\n",
       " 'Night Moves',\n",
       " 'Touch Me',\n",
       " \"Runnin' With The Devil\",\n",
       " 'Cocaine (Live)',\n",
       " 'Immigrant Song',\n",
       " 'Run Through The Jungle',\n",
       " 'Brain Damage/Eclipse',\n",
       " \"You've Got to Hide Your Love Away\",\n",
       " \"Jumpin' Jack Flash\",\n",
       " 'Levon',\n",
       " 'Take The Money And Run',\n",
       " 'Maggie May',\n",
       " 'Born To Be Wild',\n",
       " 'White Room',\n",
       " 'Lucky Man',\n",
       " 'Call Me The Breeze',\n",
       " \"My Best Friend's GIrl\",\n",
       " 'Let My Love Open The Door',\n",
       " 'Money For Nothing',\n",
       " 'Breakfast In America',\n",
       " \"You Make Lovin' Fun\",\n",
       " \"Burnin' Sky\",\n",
       " 'Long Distance Runaround',\n",
       " 'The Grand Illusion',\n",
       " 'Strawberry Fields Forever',\n",
       " 'Come Together',\n",
       " 'Goodbye Yellow Brick Road',\n",
       " \"Rock 'n Roll Band\",\n",
       " \"Runnin' Down a Dream\",\n",
       " 'I Heard It Through The Grapevine',\n",
       " 'Dear Mr. Fantasy',\n",
       " 'Dreams',\n",
       " 'Fire on High',\n",
       " 'Wish You Were Here',\n",
       " 'Bridge of Sighs',\n",
       " 'Rocky Racoon',\n",
       " 'Walk This Way',\n",
       " 'In My Life',\n",
       " 'Good Times Roll',\n",
       " 'Fool In the Rain',\n",
       " 'Revolution',\n",
       " 'Born To Run',\n",
       " 'Oye Como Va',\n",
       " 'Reeling In The Years',\n",
       " 'Every Breath You Take',\n",
       " 'Rainy Day Women #12 & 35',\n",
       " 'Frankenstein',\n",
       " 'Refugee',\n",
       " 'Have A Cigar',\n",
       " 'The Spirit of Radio',\n",
       " 'Going To California',\n",
       " 'Hello, I Love You',\n",
       " 'Go Your Own Way',\n",
       " 'Peace of Mind',\n",
       " 'White Rabbit',\n",
       " 'Radar Love',\n",
       " 'Never Been Any Reason',\n",
       " 'Let It Rain',\n",
       " 'Cold As Ice',\n",
       " 'Karn Evil 9',\n",
       " 'Subdivisions',\n",
       " 'Pink Cadillac',\n",
       " 'Rocky Mountain Way',\n",
       " \"New Year's Day\",\n",
       " 'Magic Man',\n",
       " 'Witchy Woman',\n",
       " 'Rock and Roll Fantasy',\n",
       " 'Love Me Two Times',\n",
       " 'Eleanor Rigby',\n",
       " 'Middle of The Road',\n",
       " 'Sunshine of Your Love',\n",
       " \"Don't Look Back\",\n",
       " 'Dirty Laundry',\n",
       " 'Penny Lane',\n",
       " 'Killer Queen',\n",
       " 'Fly Like An Eagle',\n",
       " 'Cross-Eyed Mary',\n",
       " 'Heartbreaker',\n",
       " 'Norwegian Wood',\n",
       " 'Your Song',\n",
       " 'Hey Baby',\n",
       " 'Money',\n",
       " 'Space Oddity',\n",
       " 'Street Fighting Man',\n",
       " 'Moondance',\n",
       " 'Pride and Joy',\n",
       " 'Limelight',\n",
       " 'Going Mobile',\n",
       " \"Let's Go\",\n",
       " 'American Woman',\n",
       " 'Rock You Like a Hurricane',\n",
       " 'Stop Dragging My Heart Around',\n",
       " 'Give A Little Bit',\n",
       " 'Light My Fire',\n",
       " 'Against The Wind',\n",
       " 'Hey Hey What Can I Do',\n",
       " 'Panama',\n",
       " 'Free Ride',\n",
       " 'If Six Was Nine',\n",
       " 'Walk Away',\n",
       " 'Sunday Bloody Sunday',\n",
       " 'Angie',\n",
       " \"Train Kept A Rollin'\",\n",
       " 'Teacher',\n",
       " 'Slow Ride',\n",
       " 'Evil Ways',\n",
       " 'Badge',\n",
       " \"Jamie's Cryin'\",\n",
       " 'Shine On You Crazy Diamond',\n",
       " 'Wonderful Tonight',\n",
       " 'Rhiannon',\n",
       " 'Highway To Hell',\n",
       " 'Piece of My Heart',\n",
       " 'Every Little Thing She Does is',\n",
       " 'Cheap Sunglasses',\n",
       " 'Thick As A Brick',\n",
       " 'The End',\n",
       " 'Back On The Chain Gang',\n",
       " 'Lady',\n",
       " 'All My Love',\n",
       " 'Take the Long Way Home',\n",
       " \"Don't Do Me Like That\",\n",
       " 'Breakdown',\n",
       " 'Bad Moon Rising',\n",
       " 'People Are Strange',\n",
       " 'Houses of The Holy',\n",
       " 'Start Me Up',\n",
       " 'Dance The Night Away',\n",
       " 'Breathe',\n",
       " 'Small Town',\n",
       " 'L.A. Woman',\n",
       " \"Smokin'\",\n",
       " 'The Load Out/Stay',\n",
       " 'Werewolves of London',\n",
       " 'Thank You',\n",
       " 'In Your Eyes',\n",
       " 'After Midnight (1988)',\n",
       " 'Jet Airliner',\n",
       " 'Feeling Alright',\n",
       " 'Hitch A Ride',\n",
       " 'School',\n",
       " 'Love Her Madly',\n",
       " \"You're All I've Got Tonight\",\n",
       " 'Hold The Line',\n",
       " 'Foxey Lady',\n",
       " 'Fly By Night',\n",
       " 'Blue Collar Man',\n",
       " 'Get Back',\n",
       " 'My Generation',\n",
       " \"Rock'n Me\",\n",
       " 'Skateaway',\n",
       " \"A Hard Day's Night\",\n",
       " 'Paranoid',\n",
       " 'The Boys Are Back In Town',\n",
       " 'Hush',\n",
       " 'Young Lust',\n",
       " 'Bad to the Bone',\n",
       " 'Question',\n",
       " 'Edge of 17',\n",
       " \"Feelin' That Way/Anytime\",\n",
       " 'Crossroads',\n",
       " 'Honky Tonk Women',\n",
       " \"Closer to Home/I'm Your Captain\",\n",
       " 'Have You Ever Seen the Rain',\n",
       " 'Eight Miles High',\n",
       " 'No One Like You',\n",
       " 'Synchronicity 2',\n",
       " 'The Boys of Summer',\n",
       " 'Time Stand Still',\n",
       " 'Woodstock',\n",
       " 'Touch Of Grey',\n",
       " 'Paperback Writer',\n",
       " 'China Grove',\n",
       " 'Deacon Blues',\n",
       " 'Sympathy For The Devil',\n",
       " 'Move It On Over',\n",
       " 'Somebody To Love',\n",
       " \"Mary Jane's Last Dance\",\n",
       " 'Crazy Train',\n",
       " 'Misty Mountain Hop',\n",
       " 'Run Like Hell',\n",
       " 'Crossfire',\n",
       " 'Lovely Rita',\n",
       " 'Pink Houses',\n",
       " 'Gimme Three Steps',\n",
       " 'Hey Joe',\n",
       " 'Break On Through',\n",
       " \"I'm Eighteen\",\n",
       " 'Love Alive',\n",
       " 'Golden Slumbers Medley',\n",
       " 'Got Me Under Pressure',\n",
       " 'Funeral for a Friend',\n",
       " 'Long Cool Woman In A Black Dress',\n",
       " 'Swingtown',\n",
       " 'Funk 49',\n",
       " 'Evil Woman',\n",
       " 'Magic Bus',\n",
       " 'Pride',\n",
       " 'Changes',\n",
       " 'Miss You',\n",
       " 'The Waiting',\n",
       " 'The Story In Your Eyes',\n",
       " 'Imagine',\n",
       " 'I Thank You',\n",
       " 'Say You Love Me',\n",
       " 'Take Me Home Tonight',\n",
       " 'Wrapped Around Your Finger',\n",
       " 'Hot Rod Lincoln',\n",
       " 'Still You Turn Me On',\n",
       " 'Walk On The Wild Side',\n",
       " 'Voodoo Chile',\n",
       " '30 Days In The Hole',\n",
       " 'Those Shoes',\n",
       " 'I Hear You Knocking',\n",
       " 'Foolin Yourself',\n",
       " 'Ice Cream Man',\n",
       " 'Let Me Take You Home Tonight',\n",
       " 'You Wreck Me',\n",
       " 'All She Wants To Do Is Dance',\n",
       " \"There's No Way Out Of Here\",\n",
       " 'What Is and What Should Never Be',\n",
       " 'Live and Let Die',\n",
       " 'Somebody To Love',\n",
       " 'Old Man',\n",
       " '1984/Jump',\n",
       " 'Cold Shot',\n",
       " 'Peg',\n",
       " 'Sharp Dressed Man',\n",
       " \"Sweet Child O' Mine\",\n",
       " 'Tumbling Dice',\n",
       " 'Carry On',\n",
       " \"Free Fallin'\",\n",
       " 'Blinded By The Light',\n",
       " 'Us and Them',\n",
       " 'Jungle Love',\n",
       " 'Under My Thumb',\n",
       " 'Into The Great Wide Open',\n",
       " 'Suite: Judy Blue Eyes',\n",
       " 'Tenth Avenue Freeze Out',\n",
       " 'Running On Empty',\n",
       " 'Show Me The Way',\n",
       " 'Red House',\n",
       " 'Landslide',\n",
       " 'Hello Goodbye',\n",
       " 'Jack And Diane',\n",
       " 'Tightrope',\n",
       " 'Mississippi Queen',\n",
       " 'Rock On',\n",
       " 'Mother',\n",
       " 'I Shot The Sheriff',\n",
       " \"That's All\",\n",
       " 'Jailbreak',\n",
       " \"I Won't Back Down\",\n",
       " 'Life In The Fast Lane',\n",
       " 'In The Mood',\n",
       " 'Candle in the Wind',\n",
       " \"Babe I'm Gonna Leave You\",\n",
       " \"Heartbreaker/Livin' Lovin' Maid\",\n",
       " 'Sledgehammer',\n",
       " 'Layla (Unplugged)',\n",
       " \"Can't You Hear Me Knocking?\",\n",
       " 'I Want You To Want Me',\n",
       " 'One Of These Nights',\n",
       " \"Travelin' Man/Beautiful Loser\",\n",
       " 'Long Long Way From Home',\n",
       " 'Up Around The Bend',\n",
       " 'Fat Bottomed Girls',\n",
       " 'Jesus Is Just Alright With Me',\n",
       " 'Shattered',\n",
       " 'Hard To Handle',\n",
       " \"You're My Best Friend\",\n",
       " 'Where The Streets Have No Name',\n",
       " 'Whiter Shade Of Pale',\n",
       " 'Learning To Fly',\n",
       " \"What's Your Name?\",\n",
       " 'Time of the Season',\n",
       " 'The Heart of The Matter',\n",
       " 'Rock And Roll All Night',\n",
       " 'Back In The USSR',\n",
       " 'After Midnight',\n",
       " 'Learning To Fly',\n",
       " \"Love Reign O'er Me\",\n",
       " 'Trampled Underfoot',\n",
       " 'Brown Sugar',\n",
       " 'Legs',\n",
       " 'End Of The Line',\n",
       " 'Madman Across The Water',\n",
       " 'Mr. Soul',\n",
       " 'Home By The Sea, Parts 1&2',\n",
       " 'When The Levee Breaks',\n",
       " 'Green Eyed Lady',\n",
       " \"I'm On Fire\",\n",
       " 'Back In The Saddle',\n",
       " 'Doctor My Eyes',\n",
       " 'Harmony',\n",
       " 'Lady Madonna',\n",
       " 'Long As I Can See The Light',\n",
       " 'Solsbury Hill',\n",
       " 'Message In A Bottle',\n",
       " 'Tears In Heaven',\n",
       " 'Roll On Down The Highway',\n",
       " 'Back Door Man',\n",
       " 'Come Sail Away',\n",
       " 'If I Needed Someone',\n",
       " 'Heartache Tonight',\n",
       " \"Lookin' Out My Back Door\",\n",
       " 'Even In The Quietest Moments',\n",
       " 'Let It Ride',\n",
       " 'Living In The Past',\n",
       " 'Hold Your Head Up',\n",
       " 'Teach Your Children',\n",
       " 'Abacab',\n",
       " 'Girls Got Rhythm',\n",
       " 'Brass in Pocket',\n",
       " 'Point of Know Return',\n",
       " 'Blue Morning Blue Day',\n",
       " 'My Old School',\n",
       " 'Tunnel Of Love',\n",
       " 'Tuesday Afternoon',\n",
       " 'Black Dog',\n",
       " 'With A Little Help From My Friends',\n",
       " 'Jane',\n",
       " 'White Wedding',\n",
       " 'Get Together',\n",
       " 'Hit Me With Your Best Shot',\n",
       " 'Paint It Black',\n",
       " 'Twenty-Five Or Six To Four',\n",
       " 'Roundabout',\n",
       " 'Pinball Wizard',\n",
       " 'Double Vision',\n",
       " 'Uncle Albert',\n",
       " 'Subterranean Homesick Blues',\n",
       " 'Taxman',\n",
       " 'Rock Steady',\n",
       " 'Hungry Heart',\n",
       " 'I Need To Know',\n",
       " 'Dazed And Confused',\n",
       " 'Roadhouse Blues',\n",
       " 'Your Wildest Dreams',\n",
       " 'Mona Lisas And Mad Hatters',\n",
       " 'Beast Of Burden',\n",
       " \"Takin' Care Of Business\",\n",
       " 'I Love Rock and Roll',\n",
       " 'Same Old Song And Dance',\n",
       " 'Silver, Blue and Gold',\n",
       " \"I Wouldn't Want To Be Like You\",\n",
       " 'Wheel in The Sky',\n",
       " 'What I Like About You',\n",
       " 'Pretending',\n",
       " 'Lucy In The Sky',\n",
       " 'Low Spark of High Heeled Boys',\n",
       " 'Heart Of Gold',\n",
       " 'Cherry Bomb',\n",
       " \"It's In The Way\",\n",
       " 'Mysterious Ways',\n",
       " 'Twentieth Century Fox',\n",
       " 'Crystal Ship',\n",
       " 'Desperado',\n",
       " 'My City Was Gone',\n",
       " 'New World Man',\n",
       " 'Running On Faith',\n",
       " 'Lunatic Fringe',\n",
       " 'Strange Brew',\n",
       " 'Lodi',\n",
       " 'Honky Cat',\n",
       " \"Don't Stop\",\n",
       " 'Fire',\n",
       " 'Lights',\n",
       " \"Bad Case Of Lovin' You\",\n",
       " 'Old Man Down The Road',\n",
       " 'Last Child',\n",
       " \"Rikki Don't Lose That Number\",\n",
       " 'Straight On',\n",
       " 'Changes',\n",
       " 'Seagull',\n",
       " 'Instant Karma',\n",
       " 'Time Has Come Today',\n",
       " 'Casey Jones',\n",
       " 'So Far Away',\n",
       " 'Listen To Her Heart',\n",
       " 'Midnight Rider',\n",
       " 'Pretty Woman',\n",
       " 'Jukebox Hero',\n",
       " 'Tequila Sunrise',\n",
       " \"Love The One You're With\",\n",
       " 'Drive My Car',\n",
       " 'Hollywood Nights',\n",
       " \"Don't Stand So Close To Me\",\n",
       " 'Paradise by the Dashboard Lights',\n",
       " 'Even The Losers',\n",
       " 'T. N. T.',\n",
       " 'Wooden Ships',\n",
       " 'Suite Madam Blue',\n",
       " 'Photograph',\n",
       " 'While You See A Chance',\n",
       " 'Closer To The Heart',\n",
       " 'Soul Kitchen',\n",
       " 'Wild Horses',\n",
       " 'Ride My See-Saw',\n",
       " 'Southern Cross',\n",
       " \"We're An American Band\",\n",
       " 'No Time',\n",
       " 'Squeeze Box',\n",
       " 'Spirit In The Sky',\n",
       " 'Woman From Tokyo',\n",
       " 'The Ocean',\n",
       " 'Bye Bye Love',\n",
       " \"Gimme All Your Lovin'\",\n",
       " \"Lyin' Eyes\",\n",
       " \"Truckin'\",\n",
       " 'Surrender',\n",
       " 'The Ballad of John And Yoko',\n",
       " 'King Of Pain',\n",
       " 'I Can See For Miles',\n",
       " \"Janie's Got A Gun\",\n",
       " 'Stone Free',\n",
       " 'Southern Man',\n",
       " \"It's Only Rock And Roll\",\n",
       " 'Suffragette City',\n",
       " 'One Way Out',\n",
       " 'Godzilla',\n",
       " 'Listen To The Music',\n",
       " 'Eminence Front',\n",
       " 'Follow You Follow Me',\n",
       " 'I Need A Lover',\n",
       " 'Born Under A Bad Sign',\n",
       " 'Walk Of Life',\n",
       " 'Stand Back',\n",
       " 'Lonely is the Night',\n",
       " 'Big Ten Inch Record',\n",
       " \"Don't Let The Sun Go Down On Me\",\n",
       " 'Hey Nineteen',\n",
       " \"Gimme Some Lovin'\",\n",
       " 'Her Strut',\n",
       " 'And The Cradle Will Rock',\n",
       " 'Journey To The Center Of The Mind',\n",
       " 'Turn, Turn, Turn',\n",
       " 'Over My Head',\n",
       " 'Suzie Q',\n",
       " 'No Matter What',\n",
       " 'Young Americans',\n",
       " \"Who's Crying Now\",\n",
       " 'In The City',\n",
       " 'Something',\n",
       " 'Castles Made of Sand',\n",
       " 'Hurts So Good',\n",
       " 'Bouree',\n",
       " 'Sara',\n",
       " 'Dirty Work',\n",
       " 'Little Wing',\n",
       " 'Fire Down Below',\n",
       " 'The Bomber',\n",
       " 'Heartless',\n",
       " 'Addicted To Love',\n",
       " \"Lovin' Touchin Squeezin'\",\n",
       " 'Every Picture Tells A Story',\n",
       " \"I'm A Man\",\n",
       " 'Misunderstanding',\n",
       " 'Band On The Run',\n",
       " 'Bang A Gong',\n",
       " 'On The Road Again',\n",
       " \"It's All Over Now\",\n",
       " 'Two Tickets To Paradise',\n",
       " 'Where To Now Saint Peter',\n",
       " 'Born on the Bayou',\n",
       " 'Marrakesh Express',\n",
       " 'Boom Boom (Out Go The Lights)',\n",
       " 'Watching the Wheels',\n",
       " \"D'yer Maker\",\n",
       " 'Time Machine',\n",
       " \"Can't Get Enough\",\n",
       " 'No Sugar Tonight',\n",
       " 'Saturday Night Special',\n",
       " \"Don't Try and Lay No Boogie\",\n",
       " 'Do Ya',\n",
       " 'You Better You Bet',\n",
       " 'Satisfaction Guaranteed',\n",
       " 'Authority Song',\n",
       " 'Jet',\n",
       " 'Just A Job To Do',\n",
       " 'Manic Depression',\n",
       " 'Hold On Loosely',\n",
       " 'Ship Of Fools',\n",
       " 'Room To Move',\n",
       " 'Dog And Butterfly',\n",
       " \"I Know I'm Losing You\",\n",
       " 'Let It Bleed',\n",
       " 'Baby Hold On',\n",
       " 'All The Young Dudes',\n",
       " 'You Might Think',\n",
       " \"Uncle John's Band\",\n",
       " 'We Gotta Get Out Of This Place',\n",
       " 'Ah! Leah!',\n",
       " \"Ramblin' Man\",\n",
       " 'Blue Collar',\n",
       " 'Traveling Riverside Blues',\n",
       " 'Industrial Disease',\n",
       " \"Can't Find My Way Home\",\n",
       " \"Good Lovin' Gone Bad\",\n",
       " 'All The Girls Love Alice',\n",
       " 'The Weight',\n",
       " 'Rebel, Rebel',\n",
       " 'Black Friday',\n",
       " 'Nothing Is Easy',\n",
       " 'World Turning',\n",
       " \"Ain't Too Proud To Beg\",\n",
       " 'You Got That Right',\n",
       " 'Peaceful Easy Feeling',\n",
       " 'Love Hurts',\n",
       " 'Urgent',\n",
       " 'If You Wanna To Get To Heaven',\n",
       " \"Rock 'n' Roll Never Forgets\",\n",
       " 'Baby I Love Your Way',\n",
       " 'Long Time Gone',\n",
       " 'Thunder Road',\n",
       " 'Proud Mary',\n",
       " 'Tie Your Mother Down',\n",
       " 'Feels Like The First Time',\n",
       " 'Highway Star',\n",
       " 'The Long Run',\n",
       " 'Melissa',\n",
       " 'I Got A Line On You',\n",
       " 'One Bourbon, One Scotch, One',\n",
       " 'Love Stinks',\n",
       " \"Old Time Rock 'n Roll\",\n",
       " \"Good Lovin'\",\n",
       " 'What It Takes',\n",
       " 'Gloria',\n",
       " 'Take Me To The River',\n",
       " 'The Cowboy Song',\n",
       " 'Five Fifteen',\n",
       " \"We're Not Going To Take It\",\n",
       " 'Waiting On A Friend',\n",
       " 'Run With The Pack',\n",
       " 'Loco-Motion',\n",
       " 'Iron Man',\n",
       " 'Good Times Bad Times',\n",
       " 'Burn Down The Mission',\n",
       " 'Angry Eyes',\n",
       " 'Got To Get You Into My Life',\n",
       " 'I Am The Walrus',\n",
       " \"Ain't That A Shame\",\n",
       " 'Hot Blooded',\n",
       " 'Tangled Up In Blue',\n",
       " 'Renegade',\n",
       " 'Stay With Me',\n",
       " \"Ain't Wastin' Time No More\",\n",
       " 'Cinnamon Girl',\n",
       " 'Forever Man',\n",
       " 'Green Grass and High Tides',\n",
       " 'End Of The Innocence',\n",
       " 'Friend of the Devil',\n",
       " 'Born In The USA',\n",
       " 'Back In The High Life',\n",
       " 'Kick It Out',\n",
       " 'Samba Pa Ti',\n",
       " 'Crazy Little Thing Called Love',\n",
       " \"You're Lost Little Girl\",\n",
       " 'Beautiful Girls',\n",
       " \"We've Got Tonight\",\n",
       " 'Bad',\n",
       " 'Dreamer',\n",
       " 'Heartbreaker',\n",
       " \"Mother Nature's Son\",\n",
       " 'FM',\n",
       " 'Black Betty',\n",
       " 'I Drink Alone',\n",
       " 'Live Wire',\n",
       " 'Mercedes Benz',\n",
       " 'Portrait',\n",
       " 'Mr. Tambourine Man',\n",
       " 'Take It To The Limit',\n",
       " \"Stealin'\",\n",
       " 'For Your Love',\n",
       " 'Athena',\n",
       " 'Does Anybody Really Know What',\n",
       " \"I'm Bad I'm Nationwide\",\n",
       " 'In-A-Gadda-Da-Vida',\n",
       " 'Sunset Grill',\n",
       " 'Angel',\n",
       " 'Time Is On My Side',\n",
       " \"Travelin' Band\",\n",
       " 'The Pusher',\n",
       " 'Communication Breakdown',\n",
       " 'Into The Mystic',\n",
       " 'Immigration Man',\n",
       " 'Conquistador',\n",
       " 'The Real Me',\n",
       " 'The Witch',\n",
       " 'Tubesnake Boogie',\n",
       " 'I Feel Free',\n",
       " 'Mama Kin',\n",
       " 'Magical Mystery Tour',\n",
       " 'Hocus Pocus',\n",
       " \"Goin' Up the Country\",\n",
       " 'Dangerous Type',\n",
       " 'Jump Into The FIre',\n",
       " \"She's So Cold\",\n",
       " 'Europa',\n",
       " 'Brilliant Disguise',\n",
       " 'Sky Pilot',\n",
       " 'Mandolin Wind',\n",
       " 'Kentucky Woman',\n",
       " 'New Kid In Town',\n",
       " 'Silver Springs',\n",
       " 'Undun',\n",
       " \"I Don't Need No Doctor\",\n",
       " 'Right Place, Wrong Time',\n",
       " 'Ruby Tuesday',\n",
       " 'Incense and Peppermints',\n",
       " 'Ready For Love',\n",
       " 'The Trees',\n",
       " 'Rock And Roll Music',\n",
       " 'I Love The Night',\n",
       " 'Legend of a Mind',\n",
       " 'Cover Of The Rolling Stone',\n",
       " 'Leather and Lace',\n",
       " 'American Girl',\n",
       " 'Happy Jack',\n",
       " 'Give It To Me',\n",
       " 'On The Turning Away',\n",
       " 'Third Stone From The Sun',\n",
       " \"Saturday Night's Alright For Fighting\",\n",
       " \"I'm No Angel\",\n",
       " 'Shoot To Thrill',\n",
       " 'Down by the Seaside',\n",
       " 'Lay Down Sally',\n",
       " 'Get It While You Can',\n",
       " 'Low Rider',\n",
       " 'Good Golly Miss Molly',\n",
       " 'Dark Star',\n",
       " \"Twistin' The Night Away\",\n",
       " 'I Just Wanna Make Love To You',\n",
       " 'Dream Weaver',\n",
       " 'Jean Jeanie',\n",
       " 'Feel Your Love Tonight',\n",
       " \"Good Lovin'\",\n",
       " 'Dizzy Miss Lizzy',\n",
       " 'In Memory of Elizabeth Reed',\n",
       " 'Some Kind of Wonderful',\n",
       " 'A New Day Yesterday',\n",
       " 'Mercury Blues',\n",
       " \"Dreams I'll Never See\",\n",
       " 'Welcome To The Machine',\n",
       " 'Fooled Around and Fell In Love',\n",
       " 'The Letter',\n",
       " \"The House Is Rockin'\",\n",
       " 'One',\n",
       " 'One',\n",
       " 'My Home Town',\n",
       " 'I Should Have Known Better',\n",
       " 'Under Pressure',\n",
       " 'I Put A Spell On You',\n",
       " 'Seven Bridges Road',\n",
       " 'Hypnotized',\n",
       " \"I Ain't Superstitious\",\n",
       " 'Heart Of Stone',\n",
       " 'I Just Want To Celebrate',\n",
       " 'Goodbye Stranger',\n",
       " 'I Saw The LIght',\n",
       " 'Tuff Enuff',\n",
       " 'Glass Onion',\n",
       " 'Anyway You Want It',\n",
       " 'Oh, Atlanta',\n",
       " 'A Woman In Love',\n",
       " 'Substitute',\n",
       " 'The Needle And The Damage Done',\n",
       " 'These Eyes',\n",
       " 'Simple Man',\n",
       " \"When The Music's Over\",\n",
       " 'Stuck In The Middle With You',\n",
       " 'Blackbird',\n",
       " \"Can't Get It Out Of My Head\",\n",
       " \"Shakin'\",\n",
       " 'Not Fade Away',\n",
       " 'Shooting Star',\n",
       " 'Amie',\n",
       " 'She Loves My Automobile',\n",
       " 'Big Log',\n",
       " 'Twilight Zone',\n",
       " \"I'm Free\",\n",
       " 'On The Hunt',\n",
       " 'Nineteen Hundred And Eighty-Five',\n",
       " 'Shapes of Things',\n",
       " 'Midnight Special',\n",
       " 'Forty-Nine Bye-Byes',\n",
       " 'Crocodile Rock',\n",
       " 'Boogie With Stu',\n",
       " \"Ramblin' Gamblin' Man\",\n",
       " 'White Bird',\n",
       " 'Hey Bulldog',\n",
       " 'Two Of Us',\n",
       " 'Empty Arms',\n",
       " 'Skating Away',\n",
       " 'Rough Boys',\n",
       " 'Jukebox Music',\n",
       " 'Children of the Sun',\n",
       " \"Rockin' Down The Highway\",\n",
       " \"Feelin' Alright\",\n",
       " 'Alone',\n",
       " 'Move Over',\n",
       " 'Tupelo Honey',\n",
       " 'Helplessly Hoping',\n",
       " 'Get Off My Cloud',\n",
       " \"Don't Ask Me No Questions\",\n",
       " 'Lawyers Guns And Money',\n",
       " \"Rockin' In The Free World\",\n",
       " 'Pearl Necklace',\n",
       " 'Lazy',\n",
       " 'Oh Darling',\n",
       " 'WASP',\n",
       " 'Tusk',\n",
       " 'Take The Highway',\n",
       " \"She's Not There\",\n",
       " 'Grey Seal',\n",
       " 'Rudy',\n",
       " \"I'm Going Home\",\n",
       " 'The Song Is Over',\n",
       " 'Hair Of The Dog',\n",
       " 'Hey You',\n",
       " 'A Horse With No Name',\n",
       " 'Tall Cool One',\n",
       " 'Little Wing',\n",
       " \"Don't Let Me Down\",\n",
       " 'Voodoo Chile',\n",
       " 'Mistral Wind',\n",
       " 'The Last Worthless Evening',\n",
       " 'No One To Depend On',\n",
       " 'Sunshine Superman',\n",
       " 'Helen Wheels',\n",
       " 'Do You Know What I Mean',\n",
       " \"Livin' In The USA\",\n",
       " 'Go All The Way',\n",
       " 'Far Away Eyes',\n",
       " 'Mainstreet',\n",
       " 'Tell Her No',\n",
       " \"It Don't Come Easy\",\n",
       " 'No More Mr. Nice Guy',\n",
       " 'Showbiz Kids',\n",
       " \"I Can't Explain\",\n",
       " 'All Day and All of the Night',\n",
       " 'Tomorrow Never Knows',\n",
       " \"Couldn't Stand The Weather\",\n",
       " 'Stone Cold',\n",
       " 'De-Do-Do-Do, De-Da-Da-Da',\n",
       " \"Mother's Little Helper\",\n",
       " 'Domino',\n",
       " 'Wild Thing',\n",
       " \"Don't Bring Me Down\",\n",
       " 'Dolly Dagger',\n",
       " 'Cat Scratch Fever',\n",
       " 'My My, Hey Hey',\n",
       " 'Amazing Journey/Sparks',\n",
       " 'Centerfield',\n",
       " 'We Can Work It Out',\n",
       " 'Destroyer',\n",
       " 'She Said, She Said',\n",
       " 'Four and Twenty',\n",
       " \"She's Not There\",\n",
       " 'Zoo, The',\n",
       " 'Ukiah/The Captain and Me',\n",
       " \"I'll Wait\",\n",
       " \"Walkin' The Dog\",\n",
       " \"I Know I'm Losing You\",\n",
       " \"You'll Accomp'ny Me\",\n",
       " 'Keep Your Hands to Yourself',\n",
       " 'Cry Baby Cry',\n",
       " 'Before You Accuse Me',\n",
       " \"Baby Please Don't Go\",\n",
       " 'Gypsy',\n",
       " 'Take Me To The Pilot',\n",
       " 'Bron-y-aur Stomp',\n",
       " 'Gallows Pole',\n",
       " \"You Don't Know How It Feels\",\n",
       " 'See Emily Play',\n",
       " 'Happy',\n",
       " 'I Fought The Law',\n",
       " 'Yesterday',\n",
       " 'Day After Day',\n",
       " 'Spill The WIne',\n",
       " 'After The Goldrush',\n",
       " 'Fool For Your Stockings',\n",
       " 'Feelin Satisfied',\n",
       " 'E.T.I.',\n",
       " \"Don't Stop Believin'\",\n",
       " 'Summertime',\n",
       " 'Jim Dandy',\n",
       " 'Moonlight Drive',\n",
       " \"Flirtin' With Disaster\",\n",
       " 'Let Me Roll It',\n",
       " 'Hurdy Gurdy Man',\n",
       " 'Heart Full of Soul',\n",
       " 'Love Is Alive',\n",
       " 'Radioactive',\n",
       " 'Best Of My Love',\n",
       " 'Just Like A Woman',\n",
       " 'Ziggy Stardust',\n",
       " 'Farm on the Freeway',\n",
       " 'Beth',\n",
       " 'The Voice',\n",
       " \"Hello, It's Me\",\n",
       " 'Revival',\n",
       " 'Nowhere Man',\n",
       " 'How Many More Times',\n",
       " 'Tight Rope',\n",
       " 'Pretzel Logic',\n",
       " \"In God's Country\",\n",
       " 'Only Time Will Tell',\n",
       " 'Fame',\n",
       " 'Even It Up',\n",
       " \"You've Got Another Thing Coming\",\n",
       " 'Wild Night',\n",
       " 'Superstition',\n",
       " \"Don't Let Me Be Misunderstood\",\n",
       " \"Keep Playin' That Rock 'n Roll\",\n",
       " 'The Continuing Story of Bungalow',\n",
       " 'Ride On',\n",
       " 'Proud Mary',\n",
       " 'Victoria',\n",
       " 'Peace Train',\n",
       " 'The Alabama Song',\n",
       " \"School's Out\",\n",
       " 'Bungle in the Jungle',\n",
       " 'Never Going Back Again',\n",
       " 'Sugaree',\n",
       " 'Victim of Love',\n",
       " \"That's The Way\",\n",
       " 'Pigs',\n",
       " 'Here Comes My Girl',\n",
       " \"It Wasn't Me\",\n",
       " 'Get Ready',\n",
       " 'Play With Fire',\n",
       " 'Come And Get It',\n",
       " 'Rock And Roll Woman',\n",
       " 'Down By The River',\n",
       " 'Fire and Water',\n",
       " 'Cry Baby',\n",
       " 'The Rain Song',\n",
       " 'Well All Right',\n",
       " 'Yours Is No Disgrace',\n",
       " \"I Can't Tell You Why\",\n",
       " \"It Ain't Me Babe\",\n",
       " \"I've Just Seen A Face\",\n",
       " \"Whippin' Post\",\n",
       " 'Keep Yourself Alive',\n",
       " 'Prove It All Night',\n",
       " 'Ten Years Gone',\n",
       " 'Piano Man',\n",
       " 'Wait Until Tomorrow',\n",
       " 'Turn It On Again',\n",
       " 'Heard It On The X',\n",
       " 'The Lemon Song',\n",
       " \"I'm Looking Through You\",\n",
       " \"It's My Life\",\n",
       " \"I Don't Wanna Know\",\n",
       " \"Don't Bring Me Down\",\n",
       " 'Signs',\n",
       " 'Young Man Blues',\n",
       " 'Too Rolling Stoned',\n",
       " 'Sugar Magnolia',\n",
       " 'Dirty Water',\n",
       " 'Monkey Man',\n",
       " 'Wild Mountain Honey',\n",
       " 'Needle And The Spoon',\n",
       " 'Tired Of Waiting',\n",
       " 'Another Park Another Sunday',\n",
       " \"Foot Stompin' Music\",\n",
       " 'Green River',\n",
       " 'Someone Saved My Life Tonight',\n",
       " 'Freeway Jam',\n",
       " 'Statesboro Blues',\n",
       " 'Bring It On Home',\n",
       " \"Crumblin' Down\",\n",
       " 'Live With Me',\n",
       " \"Everything's Coming Our Way\",\n",
       " 'In The Evening',\n",
       " 'Bell Bottom Blues',\n",
       " \"Don't Take Me Alive\",\n",
       " \"Let's Dance\",\n",
       " 'Beginnings',\n",
       " \"I'm Just A Singer\",\n",
       " 'Strange Magic',\n",
       " 'Great White Buffalo',\n",
       " 'Outlaw Man',\n",
       " 'Get Out Of Denver',\n",
       " 'Flying High Again']"
      ]
     },
     "execution_count": 35,
     "metadata": {},
     "output_type": "execute_result"
    }
   ],
   "source": [
    "rock_songs = rock_songs.astype(str).tolist() # converting the song title column into a list of strings\n",
    "rock_songs"
   ]
  },
  {
   "cell_type": "markdown",
   "metadata": {},
   "source": [
    "Amazing. We finally have our list of rong songs in rock_songs. Now lets do the same for jazz songs..."
   ]
  },
  {
   "cell_type": "code",
   "execution_count": 36,
   "metadata": {},
   "outputs": [],
   "source": [
    "jazz_df_1 = pd.read_html(\"https://goldstandardsonglist.com/Pages_Sort_1a/Sort_1a_Jazz.htm#JAZZ%20LIST%20TOP\")"
   ]
  },
  {
   "cell_type": "code",
   "execution_count": 37,
   "metadata": {},
   "outputs": [
    {
     "data": {
      "text/plain": [
       "7"
      ]
     },
     "execution_count": 37,
     "metadata": {},
     "output_type": "execute_result"
    }
   ],
   "source": [
    "len(jazz_df_1)"
   ]
  },
  {
   "cell_type": "code",
   "execution_count": 38,
   "metadata": {},
   "outputs": [
    {
     "data": {
      "text/html": [
       "<div>\n",
       "<style scoped>\n",
       "    .dataframe tbody tr th:only-of-type {\n",
       "        vertical-align: middle;\n",
       "    }\n",
       "\n",
       "    .dataframe tbody tr th {\n",
       "        vertical-align: top;\n",
       "    }\n",
       "\n",
       "    .dataframe thead th {\n",
       "        text-align: right;\n",
       "    }\n",
       "</style>\n",
       "<table border=\"1\" class=\"dataframe\">\n",
       "  <thead>\n",
       "    <tr style=\"text-align: right;\">\n",
       "      <th></th>\n",
       "      <th>0</th>\n",
       "      <th>1</th>\n",
       "      <th>2</th>\n",
       "      <th>3</th>\n",
       "    </tr>\n",
       "  </thead>\n",
       "  <tbody>\n",
       "    <tr>\n",
       "      <th>0</th>\n",
       "      <td>1902</td>\n",
       "      <td>Bill Bailey Won't You Please Come Home</td>\n",
       "      <td>Jazz</td>\n",
       "      <td>Cannon, Hughie; REC: Louis Armstrong; Pearl Ba...</td>\n",
       "    </tr>\n",
       "    <tr>\n",
       "      <th>1</th>\n",
       "      <td>1900</td>\n",
       "      <td>Creole Belles</td>\n",
       "      <td>Jazz</td>\n",
       "      <td>Lampe, J. Bodewalt; REC: The New Orleans Ragti...</td>\n",
       "    </tr>\n",
       "    <tr>\n",
       "      <th>2</th>\n",
       "      <td>NaN</td>\n",
       "      <td>NaN</td>\n",
       "      <td>NaN</td>\n",
       "      <td>NaN</td>\n",
       "    </tr>\n",
       "    <tr>\n",
       "      <th>3</th>\n",
       "      <td>JAZZ, 1910 - 1919 (16 Songs)</td>\n",
       "      <td>JAZZ, 1910 - 1919 (16 Songs)</td>\n",
       "      <td>JAZZ, 1910 - 1919 (16 Songs)</td>\n",
       "      <td>JAZZ, 1910 - 1919 (16 Songs)</td>\n",
       "    </tr>\n",
       "    <tr>\n",
       "      <th>4</th>\n",
       "      <td>1911</td>\n",
       "      <td>Alexander's Ragtime Band</td>\n",
       "      <td>Jazz</td>\n",
       "      <td>Berlin, Irving; REC: Arthur Collins, Byron Har...</td>\n",
       "    </tr>\n",
       "    <tr>\n",
       "      <th>...</th>\n",
       "      <td>...</td>\n",
       "      <td>...</td>\n",
       "      <td>...</td>\n",
       "      <td>...</td>\n",
       "    </tr>\n",
       "    <tr>\n",
       "      <th>880</th>\n",
       "      <td>1998</td>\n",
       "      <td>Taste Of Voodoo, A</td>\n",
       "      <td>Jazz</td>\n",
       "      <td>Zorn, John; REC: John Zorn</td>\n",
       "    </tr>\n",
       "    <tr>\n",
       "      <th>881</th>\n",
       "      <td>1995</td>\n",
       "      <td>Thelonius Melodius</td>\n",
       "      <td>Jazz</td>\n",
       "      <td>McLaughlin, John; REC: John McLaughlin; Chick ...</td>\n",
       "    </tr>\n",
       "    <tr>\n",
       "      <th>882</th>\n",
       "      <td>1996</td>\n",
       "      <td>Waltz For Ruth</td>\n",
       "      <td>Jazz</td>\n",
       "      <td>Haden, Charlie; REC: Charlie Haden &amp; Pat Metheny</td>\n",
       "    </tr>\n",
       "    <tr>\n",
       "      <th>883</th>\n",
       "      <td>1999</td>\n",
       "      <td>What's He Building?</td>\n",
       "      <td>Jazz</td>\n",
       "      <td>Waits, Tom; REC: Tom Waits</td>\n",
       "    </tr>\n",
       "    <tr>\n",
       "      <th>884</th>\n",
       "      <td>1999</td>\n",
       "      <td>Who's Got You?</td>\n",
       "      <td>Jazz</td>\n",
       "      <td>Hutcherson, Bobby; REC: Bobby Hutcherson</td>\n",
       "    </tr>\n",
       "  </tbody>\n",
       "</table>\n",
       "<p>885 rows × 4 columns</p>\n",
       "</div>"
      ],
      "text/plain": [
       "                                0                                       1  \\\n",
       "0                            1902  Bill Bailey Won't You Please Come Home   \n",
       "1                            1900                           Creole Belles   \n",
       "2                             NaN                                     NaN   \n",
       "3    JAZZ, 1910 - 1919 (16 Songs)            JAZZ, 1910 - 1919 (16 Songs)   \n",
       "4                            1911                Alexander's Ragtime Band   \n",
       "..                            ...                                     ...   \n",
       "880                          1998                      Taste Of Voodoo, A   \n",
       "881                          1995                      Thelonius Melodius   \n",
       "882                          1996                          Waltz For Ruth   \n",
       "883                          1999                     What's He Building?   \n",
       "884                          1999                          Who's Got You?   \n",
       "\n",
       "                                2  \\\n",
       "0                            Jazz   \n",
       "1                            Jazz   \n",
       "2                             NaN   \n",
       "3    JAZZ, 1910 - 1919 (16 Songs)   \n",
       "4                            Jazz   \n",
       "..                            ...   \n",
       "880                          Jazz   \n",
       "881                          Jazz   \n",
       "882                          Jazz   \n",
       "883                          Jazz   \n",
       "884                          Jazz   \n",
       "\n",
       "                                                     3  \n",
       "0    Cannon, Hughie; REC: Louis Armstrong; Pearl Ba...  \n",
       "1    Lampe, J. Bodewalt; REC: The New Orleans Ragti...  \n",
       "2                                                  NaN  \n",
       "3                         JAZZ, 1910 - 1919 (16 Songs)  \n",
       "4    Berlin, Irving; REC: Arthur Collins, Byron Har...  \n",
       "..                                                 ...  \n",
       "880                         Zorn, John; REC: John Zorn  \n",
       "881  McLaughlin, John; REC: John McLaughlin; Chick ...  \n",
       "882   Haden, Charlie; REC: Charlie Haden & Pat Metheny  \n",
       "883                         Waits, Tom; REC: Tom Waits  \n",
       "884           Hutcherson, Bobby; REC: Bobby Hutcherson  \n",
       "\n",
       "[885 rows x 4 columns]"
      ]
     },
     "execution_count": 38,
     "metadata": {},
     "output_type": "execute_result"
    }
   ],
   "source": [
    "jazz_df_1[5] # the 6th dataframe in jazz_df_1 is the one we want"
   ]
  },
  {
   "cell_type": "code",
   "execution_count": 39,
   "metadata": {},
   "outputs": [
    {
     "name": "stdout",
     "output_type": "stream",
     "text": [
      "885\n"
     ]
    }
   ],
   "source": [
    "print(len(jazz_df_1[5]))"
   ]
  },
  {
   "cell_type": "code",
   "execution_count": 40,
   "metadata": {},
   "outputs": [
    {
     "name": "stdout",
     "output_type": "stream",
     "text": [
      "867\n"
     ]
    },
    {
     "data": {
      "text/plain": [
       "[\"Bill Bailey Won't You Please Come Home\",\n",
       " 'Creole Belles',\n",
       " \"Alexander's Ragtime Band\",\n",
       " 'Back Home Again In Indiana',\n",
       " 'Dardanella',\n",
       " \"Darktown Strutters' Ball, The\",\n",
       " 'For Me And My Gal',\n",
       " \"I Ain't Got Nobody\",\n",
       " \"I'm Always Chasing Rainbows\",\n",
       " 'Livery Stable Blues']"
      ]
     },
     "execution_count": 40,
     "metadata": {},
     "output_type": "execute_result"
    }
   ],
   "source": [
    "jazz_songs = [jazz_df_1[5][1][i] for i in range(len(jazz_df_1[5])) if jazz_df_1[5][2][i] == \"Jazz\"]\n",
    "print(len(jazz_songs))\n",
    "jazz_songs[:10]"
   ]
  },
  {
   "cell_type": "markdown",
   "metadata": {},
   "source": [
    "First Jazz song source scrapped. Let's go to the second one."
   ]
  },
  {
   "cell_type": "code",
   "execution_count": 41,
   "metadata": {},
   "outputs": [],
   "source": [
    "jazz_df_2 = pd.read_html(\"https://www.jazz24.org/the-jazz-100/\")"
   ]
  },
  {
   "cell_type": "code",
   "execution_count": 42,
   "metadata": {},
   "outputs": [
    {
     "data": {
      "text/plain": [
       "1"
      ]
     },
     "execution_count": 42,
     "metadata": {},
     "output_type": "execute_result"
    }
   ],
   "source": [
    "len(jazz_df_2)"
   ]
  },
  {
   "cell_type": "code",
   "execution_count": 43,
   "metadata": {},
   "outputs": [
    {
     "data": {
      "text/html": [
       "<div>\n",
       "<style scoped>\n",
       "    .dataframe tbody tr th:only-of-type {\n",
       "        vertical-align: middle;\n",
       "    }\n",
       "\n",
       "    .dataframe tbody tr th {\n",
       "        vertical-align: top;\n",
       "    }\n",
       "\n",
       "    .dataframe thead th {\n",
       "        text-align: right;\n",
       "    }\n",
       "</style>\n",
       "<table border=\"1\" class=\"dataframe\">\n",
       "  <thead>\n",
       "    <tr style=\"text-align: right;\">\n",
       "      <th></th>\n",
       "      <th>0</th>\n",
       "      <th>1</th>\n",
       "      <th>2</th>\n",
       "    </tr>\n",
       "  </thead>\n",
       "  <tbody>\n",
       "    <tr>\n",
       "      <th>0</th>\n",
       "      <td>NaN</td>\n",
       "      <td>Song</td>\n",
       "      <td>Artist</td>\n",
       "    </tr>\n",
       "    <tr>\n",
       "      <th>1</th>\n",
       "      <td>1.0</td>\n",
       "      <td>Take Five</td>\n",
       "      <td>Dave Brubeck</td>\n",
       "    </tr>\n",
       "    <tr>\n",
       "      <th>2</th>\n",
       "      <td>2.0</td>\n",
       "      <td>So What</td>\n",
       "      <td>Miles Davis</td>\n",
       "    </tr>\n",
       "    <tr>\n",
       "      <th>3</th>\n",
       "      <td>3.0</td>\n",
       "      <td>Take The A Train</td>\n",
       "      <td>Duke Ellington</td>\n",
       "    </tr>\n",
       "    <tr>\n",
       "      <th>4</th>\n",
       "      <td>4.0</td>\n",
       "      <td>Round Midnight</td>\n",
       "      <td>Thelonious Monk</td>\n",
       "    </tr>\n",
       "    <tr>\n",
       "      <th>...</th>\n",
       "      <td>...</td>\n",
       "      <td>...</td>\n",
       "      <td>...</td>\n",
       "    </tr>\n",
       "    <tr>\n",
       "      <th>96</th>\n",
       "      <td>96.0</td>\n",
       "      <td>Ceora</td>\n",
       "      <td>Lee Morgan</td>\n",
       "    </tr>\n",
       "    <tr>\n",
       "      <th>97</th>\n",
       "      <td>97.0</td>\n",
       "      <td>Sophisticated Lady</td>\n",
       "      <td>Duke Ellington</td>\n",
       "    </tr>\n",
       "    <tr>\n",
       "      <th>98</th>\n",
       "      <td>98.0</td>\n",
       "      <td>Sugar</td>\n",
       "      <td>Stanley Turrentine</td>\n",
       "    </tr>\n",
       "    <tr>\n",
       "      <th>99</th>\n",
       "      <td>99.0</td>\n",
       "      <td>Footprints</td>\n",
       "      <td>Wayne Shorter</td>\n",
       "    </tr>\n",
       "    <tr>\n",
       "      <th>100</th>\n",
       "      <td>100.0</td>\n",
       "      <td>Four on Six</td>\n",
       "      <td>Wes Montgomery</td>\n",
       "    </tr>\n",
       "  </tbody>\n",
       "</table>\n",
       "<p>101 rows × 3 columns</p>\n",
       "</div>"
      ],
      "text/plain": [
       "         0                   1                   2\n",
       "0      NaN                Song              Artist\n",
       "1      1.0           Take Five        Dave Brubeck\n",
       "2      2.0             So What         Miles Davis\n",
       "3      3.0    Take The A Train      Duke Ellington\n",
       "4      4.0      Round Midnight     Thelonious Monk\n",
       "..     ...                 ...                 ...\n",
       "96    96.0               Ceora          Lee Morgan\n",
       "97    97.0  Sophisticated Lady      Duke Ellington\n",
       "98    98.0               Sugar  Stanley Turrentine\n",
       "99    99.0          Footprints       Wayne Shorter\n",
       "100  100.0         Four on Six      Wes Montgomery\n",
       "\n",
       "[101 rows x 3 columns]"
      ]
     },
     "execution_count": 43,
     "metadata": {},
     "output_type": "execute_result"
    }
   ],
   "source": [
    "jazz_df_2[0]"
   ]
  },
  {
   "cell_type": "code",
   "execution_count": 44,
   "metadata": {},
   "outputs": [
    {
     "name": "stdout",
     "output_type": "stream",
     "text": [
      "101\n"
     ]
    }
   ],
   "source": [
    "print(len(jazz_df_2[0]))"
   ]
  },
  {
   "cell_type": "code",
   "execution_count": 45,
   "metadata": {},
   "outputs": [
    {
     "name": "stdout",
     "output_type": "stream",
     "text": [
      "['Song', 'Take Five', 'So What', 'Take The A Train', 'Round Midnight', 'My Favorite Things', 'A Love Supreme (Acknowledgment)', 'All Blues', 'Birdland', 'The Girl From Ipanema']\n"
     ]
    },
    {
     "data": {
      "text/plain": [
       "['Take Five',\n",
       " 'So What',\n",
       " 'Take The A Train',\n",
       " 'Round Midnight',\n",
       " 'My Favorite Things',\n",
       " 'A Love Supreme (Acknowledgment)',\n",
       " 'All Blues',\n",
       " 'Birdland',\n",
       " 'The Girl From Ipanema',\n",
       " 'Sing, Sing, Sing']"
      ]
     },
     "execution_count": 45,
     "metadata": {},
     "output_type": "execute_result"
    }
   ],
   "source": [
    "print(jazz_df_2[0][1].astype(str).tolist()[:10])\n",
    "jazz_df_2[0][1].astype(str).tolist()[1:11]"
   ]
  },
  {
   "cell_type": "code",
   "execution_count": 46,
   "metadata": {},
   "outputs": [],
   "source": [
    "jazz_songs = jazz_songs + jazz_df_2[0][1].astype(str).tolist()[1:]"
   ]
  },
  {
   "cell_type": "code",
   "execution_count": 47,
   "metadata": {},
   "outputs": [
    {
     "data": {
      "text/plain": [
       "967"
      ]
     },
     "execution_count": 47,
     "metadata": {},
     "output_type": "execute_result"
    }
   ],
   "source": [
    "len(jazz_songs)"
   ]
  },
  {
   "cell_type": "code",
   "execution_count": 48,
   "metadata": {},
   "outputs": [
    {
     "data": {
      "text/plain": [
       "[\"Bill Bailey Won't You Please Come Home\",\n",
       " 'Creole Belles',\n",
       " \"Alexander's Ragtime Band\",\n",
       " 'Back Home Again In Indiana',\n",
       " 'Dardanella',\n",
       " \"Darktown Strutters' Ball, The\",\n",
       " 'For Me And My Gal',\n",
       " \"I Ain't Got Nobody\",\n",
       " \"I'm Always Chasing Rainbows\",\n",
       " 'Livery Stable Blues']"
      ]
     },
     "execution_count": 48,
     "metadata": {},
     "output_type": "execute_result"
    }
   ],
   "source": [
    "jazz_songs[:10]"
   ]
  },
  {
   "cell_type": "markdown",
   "metadata": {},
   "source": [
    "Now, we have a list of about 1000 jazz songs and 1000 rock songs. Time to search through the Million Song Subset for them."
   ]
  },
  {
   "cell_type": "markdown",
   "metadata": {},
   "source": [
    "## Finding Rock and Jazz Song Track-IDs in the Million Song Subset"
   ]
  },
  {
   "cell_type": "markdown",
   "metadata": {},
   "source": [
    "Finding Rock songs..."
   ]
  },
  {
   "cell_type": "code",
   "execution_count": 49,
   "metadata": {},
   "outputs": [
    {
     "name": "stdout",
     "output_type": "stream",
     "text": [
      "Life's Blood\n",
      "\n",
      "End Of The Beginning\n",
      "\n",
      "Black Connect 3\n",
      "\n",
      "Lift Jesus Up\n",
      "\n",
      "Jubilation T. Cornpone\n",
      "\n",
      "The Way Of Love (West Coast Diaries Vol. 1 Album Version)\n",
      "\n",
      "L'idole des femmes\n",
      "\n",
      "All Or Nothing  (Wonderful World Album Version)\n",
      "\n",
      "Together We Stand (Album Version)\n",
      "\n",
      "Cet Air Étrange (Take 1 - Abbey Road Rough Mix)\n",
      "\n"
     ]
    }
   ],
   "source": [
    "# songs in Million Song Subset\n",
    "for i in range(10): print(song_titles[existing_song_indices[i]])"
   ]
  },
  {
   "cell_type": "code",
   "execution_count": 75,
   "metadata": {},
   "outputs": [
    {
     "data": {
      "text/plain": [
       "(8, 992)"
      ]
     },
     "execution_count": 75,
     "metadata": {},
     "output_type": "execute_result"
    }
   ],
   "source": [
    "rock_trackids = []\n",
    "invalid_rock_songs = []\n",
    "for x in rock_songs:\n",
    "    try:\n",
    "        rock_trackids.append(existing_song_to_trackid[x.upper() + '\\n'])\n",
    "    except KeyError:\n",
    "        invalid_rock_songs.append(x)\n",
    "len(rock_trackids), len(invalid_rock_songs)"
   ]
  },
  {
   "cell_type": "markdown",
   "metadata": {},
   "source": [
    "We only found 8 out of about 1000 rock songs. This is no good. Let's try the same for jazz songs. "
   ]
  },
  {
   "cell_type": "code",
   "execution_count": 76,
   "metadata": {},
   "outputs": [
    {
     "data": {
      "text/plain": [
       "(6, 961)"
      ]
     },
     "execution_count": 76,
     "metadata": {},
     "output_type": "execute_result"
    }
   ],
   "source": [
    "jazz_trackids = []\n",
    "invalid_jazz_songs = []\n",
    "for x in jazz_songs:\n",
    "    try:\n",
    "        jazz_trackids.append(existing_song_to_trackid[x.upper() + '\\n'])\n",
    "    except KeyError:\n",
    "        invalid_jazz_songs.append(x)\n",
    "len(jazz_trackids), len(invalid_jazz_songs)"
   ]
  },
  {
   "cell_type": "markdown",
   "metadata": {},
   "source": [
    "Only 6 usable jazz song track ids found... Disappointing. Time to try our backup plan."
   ]
  },
  {
   "cell_type": "markdown",
   "metadata": {},
   "source": [
    "## Backup Plan: Find Jazz and Rock Songs in the Million Song Subset Using the MAGD and Tagtraum Genre Datasets"
   ]
  },
  {
   "cell_type": "code",
   "execution_count": 85,
   "metadata": {},
   "outputs": [
    {
     "name": "stdout",
     "output_type": "stream",
     "text": [
      "--2021-04-04 14:46:48--  http://www.ifs.tuwien.ac.at/mir/msd/partitions/msd-MAGD-genreAssignment.cls\n",
      "Resolving www.ifs.tuwien.ac.at (www.ifs.tuwien.ac.at)... 128.131.167.11\n",
      "Connecting to www.ifs.tuwien.ac.at (www.ifs.tuwien.ac.at)|128.131.167.11|:80... connected.\n",
      "HTTP request sent, awaiting response... 200 OK\n",
      "Length: 11625230 (11M) [text/plain]\n",
      "Saving to: ‘msd-MAGD-genreAssignment.cls’\n",
      "\n",
      "msd-MAGD-genreAssig 100%[===================>]  11.09M  1.75MB/s    in 11s     \n",
      "\n",
      "2021-04-04 14:46:59 (1017 KB/s) - ‘msd-MAGD-genreAssignment.cls’ saved [11625230/11625230]\n",
      "\n"
     ]
    }
   ],
   "source": [
    "!wget http://www.ifs.tuwien.ac.at/mir/msd/partitions/msd-MAGD-genreAssignment.cls"
   ]
  },
  {
   "cell_type": "code",
   "execution_count": null,
   "metadata": {},
   "outputs": [],
   "source": [
    "# read genre assignments\n",
    "trackids_to_genre = {}\n",
    "with open(\"msd-MAGD-genreAssignment.cls\", 'r') as f:\n",
    "    for x in f:\n",
    "        line = x.split(\"\t\")\n",
    "        trackids_to_genre[line[0]] = line[1]\n",
    "print(len(trackids_to_genre))"
   ]
  },
  {
   "cell_type": "code",
   "execution_count": 130,
   "metadata": {},
   "outputs": [],
   "source": [
    "# list of track ids in Million Song Subset without song title repeats\n",
    "subset_track_ids = [track_ids[i] for i in existing_song_indices]"
   ]
  },
  {
   "cell_type": "code",
   "execution_count": 131,
   "metadata": {},
   "outputs": [
    {
     "name": "stdout",
     "output_type": "stream",
     "text": [
      "Rap\n",
      "\n",
      "Pop_Rock\n",
      "\n",
      "Religious\n",
      "\n",
      "Pop_Rock\n",
      "\n",
      "Pop_Rock\n",
      "\n",
      "Pop_Rock\n",
      "\n",
      "Pop_Rock\n",
      "\n",
      "Pop_Rock\n",
      "\n",
      "Pop_Rock\n",
      "\n",
      "Pop_Rock\n",
      "\n",
      "6601\n",
      "3978\n",
      "True\n"
     ]
    }
   ],
   "source": [
    "# filtering out track ids with unknown genre from subset_track_ids\n",
    "trackids_with_unknown_genre = []                # compiling a list of track ids with unknown genre\n",
    "print_count = 0\n",
    "for x in subset_track_ids:\n",
    "    try:\n",
    "        trackids_to_genre[x]\n",
    "        if print_count < 10:\n",
    "            print(trackids_to_genre[x])\n",
    "        print_count = print_count + 1\n",
    "    except KeyError:\n",
    "        trackids_with_unknown_genre.append(x)\n",
    "print(len(subset_track_ids))\n",
    "print(len(trackids_with_unknown_genre))\n",
    "\n",
    "for x in trackids_with_unknown_genre:            # filtering out track ids with unknown genre\n",
    "    subset_track_ids.remove(x)\n",
    "print(len(subset_track_ids) == len(existing_song_indices) - len(trackids_with_unknown_genre))"
   ]
  },
  {
   "cell_type": "code",
   "execution_count": 132,
   "metadata": {
    "scrolled": true
   },
   "outputs": [
    {
     "data": {
      "text/plain": [
       "{'Rap\\n': 168,\n",
       " 'Pop_Rock\\n': 1265,\n",
       " 'Religious\\n': 146,\n",
       " 'Folk\\n': 32,\n",
       " 'New Age\\n': 63,\n",
       " 'Latin\\n': 176,\n",
       " 'International\\n': 117,\n",
       " 'Vocal\\n': 22,\n",
       " 'Country\\n': 105,\n",
       " 'Avant_Garde\\n': 9,\n",
       " 'Jazz\\n': 99,\n",
       " 'RnB\\n': 64,\n",
       " 'Blues\\n': 63,\n",
       " 'Easy_Listening\\n': 13,\n",
       " 'Reggae\\n': 76,\n",
       " 'Electronic\\n': 139,\n",
       " 'Comedy_Spoken\\n': 34,\n",
       " 'Stage \\n': 25,\n",
       " 'Classical\\n': 4,\n",
       " 'Children\\n': 2,\n",
       " 'Holiday\\n': 1}"
      ]
     },
     "execution_count": 132,
     "metadata": {},
     "output_type": "execute_result"
    }
   ],
   "source": [
    "# what are the genres that are included in the MAGD genre annotations?\n",
    "# how many track ids do we have for each genre included in the MAGD genre annotations?\n",
    "\n",
    "genres_and_count = {}\n",
    "for x in subset_track_ids:\n",
    "    try:\n",
    "        genres_and_count[trackids_to_genre[x]] += 1\n",
    "    except KeyError:\n",
    "        genres_and_count[trackids_to_genre[x]] = 1\n",
    "genres_and_count\n",
    "    "
   ]
  },
  {
   "cell_type": "markdown",
   "metadata": {},
   "source": [
    "The counts for rock (pop rock) and jazz are not bad, but this is with genre annotations for only (6601 - 3978) of 6601 track ids. Lets look at the Tagtraum genre annotations "
   ]
  },
  {
   "cell_type": "code",
   "execution_count": 133,
   "metadata": {},
   "outputs": [
    {
     "name": "stdout",
     "output_type": "stream",
     "text": [
      "--2021-04-04 16:31:57--  https://www.tagtraum.com/genres/msd_tagtraum_cd2.cls.zip\n",
      "Resolving www.tagtraum.com (www.tagtraum.com)... 2a01:238:20a:202:1077::, 81.169.145.77\n",
      "Connecting to www.tagtraum.com (www.tagtraum.com)|2a01:238:20a:202:1077::|:443... connected.\n",
      "HTTP request sent, awaiting response... 200 OK\n",
      "Length: 2473570 (2.4M) [application/zip]\n",
      "Saving to: ‘msd_tagtraum_cd2.cls.zip’\n",
      "\n",
      "msd_tagtraum_cd2.cl 100%[===================>]   2.36M   315KB/s    in 8.2s    \n",
      "\n",
      "2021-04-04 16:32:06 (295 KB/s) - ‘msd_tagtraum_cd2.cls.zip’ saved [2473570/2473570]\n",
      "\n"
     ]
    }
   ],
   "source": [
    "!wget https://www.tagtraum.com/genres/msd_tagtraum_cd2.cls.zip"
   ]
  },
  {
   "cell_type": "code",
   "execution_count": 134,
   "metadata": {},
   "outputs": [
    {
     "name": "stdout",
     "output_type": "stream",
     "text": [
      "Archive:  msd_tagtraum_cd2.cls.zip\r\n",
      "  inflating: msd_tagtraum_cd2.cls    \r\n"
     ]
    }
   ],
   "source": [
    "# !sudo apt install unzip \n",
    "!unzip msd_tagtraum_cd2.cls.zip"
   ]
  },
  {
   "cell_type": "code",
   "execution_count": 135,
   "metadata": {},
   "outputs": [],
   "source": [
    "# getting track id - genre pairs from the tagtraum genre annotations file\n",
    "tagtraum_trackids_to_genre = {}\n",
    "with open(\"msd_tagtraum_cd2.cls\", 'r') as f:\n",
    "    for line in f:\n",
    "        tagtraum_trackids_to_genre[line[0]] = line[1]"
   ]
  },
  {
   "cell_type": "code",
   "execution_count": 136,
   "metadata": {},
   "outputs": [
    {
     "name": "stdout",
     "output_type": "stream",
     "text": [
      "3978\n",
      "3978\n"
     ]
    }
   ],
   "source": [
    "# filtering out track ids from trackids_with_unknown_genre that are not included in tagtraum_trackids_to_genre\n",
    "subset_track_ids_1 = trackids_with_unknown_genre\n",
    "trackids_with_unknown_genre = []\n",
    "for x in subset_track_ids_1:\n",
    "    try:\n",
    "        tagtraum_trackids_to_genre[x]\n",
    "    except KeyError:\n",
    "        trackids_with_unknown_genre.append(x)\n",
    "print(len(subset_track_ids_1))\n",
    "print(len(trackids_with_unknown_genre))"
   ]
  },
  {
   "cell_type": "markdown",
   "metadata": {},
   "source": [
    "It looks like all the Tagtraum annotations are for the same track ids as included in MAGD. Lets move forward with the rock (pop-rock) and jazz track ids as annotated in MAGD. "
   ]
  },
  {
   "cell_type": "code",
   "execution_count": 137,
   "metadata": {
    "scrolled": false
   },
   "outputs": [
    {
     "name": "stdout",
     "output_type": "stream",
     "text": [
      "1265\n"
     ]
    },
    {
     "data": {
      "text/plain": [
       "['TRBGMAZ12903CC3707',\n",
       " 'TRBGWGD128F42418B2',\n",
       " 'TRBGGBF128F425E4D1',\n",
       " 'TRBGGFE128E0785AC0',\n",
       " 'TRBGHHB128F1487CD2',\n",
       " 'TRBGHYG12903CEAC9C',\n",
       " 'TRBGCWM12903CF5BF7',\n",
       " 'TRBGCJQ128F1453CB3',\n",
       " 'TRBGRAN128F9339A1B',\n",
       " 'TRBGRGT12903CC5019']"
      ]
     },
     "execution_count": 137,
     "metadata": {},
     "output_type": "execute_result"
    }
   ],
   "source": [
    "# get rock song track ids from subset_track_ids\n",
    "rock_trackids = []\n",
    "for x in subset_track_ids:\n",
    "    if trackids_to_genre[x] == \"Pop_Rock\\n\":\n",
    "            rock_trackids.append(x)\n",
    "print(len(rock_trackids))\n",
    "rock_trackids[:10]    "
   ]
  },
  {
   "cell_type": "code",
   "execution_count": 138,
   "metadata": {},
   "outputs": [
    {
     "name": "stdout",
     "output_type": "stream",
     "text": [
      "99\n"
     ]
    },
    {
     "data": {
      "text/plain": [
       "['TRBGEHK12903CEEFC0',\n",
       " 'TRBGEZL12903CCC7E2',\n",
       " 'TRBGDND128F9312B81',\n",
       " 'TRBGKYA12903CF573B',\n",
       " 'TRBHIPK128F92FFCF3',\n",
       " 'TRBHAAD128F9341700',\n",
       " 'TRBHYTA128F93425AC',\n",
       " 'TRBCTKV128F42222BD',\n",
       " 'TRBBBFO128F931535D',\n",
       " 'TRBBTJG12903CD5B47']"
      ]
     },
     "execution_count": 138,
     "metadata": {},
     "output_type": "execute_result"
    }
   ],
   "source": [
    "# get jazz song track ids from subset_track_ids\n",
    "jazz_trackids = []\n",
    "for x in subset_track_ids:\n",
    "    if trackids_to_genre[x] == \"Jazz\\n\":\n",
    "            jazz_trackids.append(x)\n",
    "print(len(jazz_trackids))\n",
    "jazz_trackids[:10] "
   ]
  },
  {
   "cell_type": "code",
   "execution_count": 139,
   "metadata": {},
   "outputs": [
    {
     "name": "stdout",
     "output_type": "stream",
     "text": [
      "TRBGMAZ12903CC3707 | L'idole des femmes\n",
      "\n",
      "TRBGWGD128F42418B2 | When Rules Change\n",
      "\n",
      "TRBGGBF128F425E4D1 | Rumour (Abstract Hip Hop Mix)\n",
      "\n",
      "TRBGGFE128E0785AC0 | Coral Fang (Album Version)\n",
      "\n",
      "TRBGHHB128F1487CD2 | I'm Your Money (12'' Extended Version) (2006 Digital Remaster)\n",
      "\n",
      "TRBGHYG12903CEAC9C | When It Stings\n",
      "\n",
      "TRBGCWM12903CF5BF7 | Enslaved By Propaganda\n",
      "\n",
      "TRBGCJQ128F1453CB3 | Rakkahin -Be My Love-\n",
      "\n",
      "TRBGRAN128F9339A1B | Creep Live Version\n",
      "\n",
      "TRBGRGT12903CC5019 | 11th Street\n",
      "\n"
     ]
    }
   ],
   "source": [
    "# print some available rock songs\n",
    "for i in range(10):\n",
    "    print(f\"{rock_trackids[i]} | {trackid_to_song[rock_trackids[i]]}\")"
   ]
  },
  {
   "cell_type": "code",
   "execution_count": 140,
   "metadata": {
    "scrolled": true
   },
   "outputs": [
    {
     "name": "stdout",
     "output_type": "stream",
     "text": [
      "TRBGEHK12903CEEFC0 | Sannyasin\n",
      "\n",
      "TRBGEZL12903CCC7E2 | Dance of the Blue Devils\n",
      "\n",
      "TRBGDND128F9312B81 | Doodlin'\n",
      "\n",
      "TRBGKYA12903CF573B | Take That!\n",
      "\n",
      "TRBHIPK128F92FFCF3 | Des voiliers (Sur un poème de Claude Nougaro)\n",
      "\n",
      "TRBHAAD128F9341700 | Latin Flute\n",
      "\n",
      "TRBHYTA128F93425AC | Ayudame Freud\n",
      "\n",
      "TRBCTKV128F42222BD | Tuscan Chica\n",
      "\n",
      "TRBBBFO128F931535D | My Plastic Heart (Plastic Operator Remix)\n",
      "\n",
      "TRBBTJG12903CD5B47 | Distant Cousin\n",
      "\n"
     ]
    }
   ],
   "source": [
    "# print some available jazz songs\n",
    "for i in range(10):\n",
    "    print(f\"{jazz_trackids[i]} | {trackid_to_song[jazz_trackids[i]]}\")"
   ]
  },
  {
   "cell_type": "markdown",
   "metadata": {},
   "source": [
    "## Write jazz_trackids and rock_trackids to a Text File Each"
   ]
  },
  {
   "cell_type": "code",
   "execution_count": 141,
   "metadata": {},
   "outputs": [],
   "source": [
    "# jazz\n",
    "with open(\"jazz_trackids.txt\", \"a\") as f:\n",
    "    for i in range(len(jazz_trackids)): f.write(jazz_trackids[i] + '\\n')"
   ]
  },
  {
   "cell_type": "code",
   "execution_count": 142,
   "metadata": {},
   "outputs": [],
   "source": [
    "# Rock\n",
    "with open(\"rock_trackids.txt\", \"a\") as f:\n",
    "    for i in range(len(rock_trackids)): f.write(rock_trackids[i] + '\\n')"
   ]
  },
  {
   "cell_type": "markdown",
   "metadata": {},
   "source": [
    "## Collect Jazz and Rock Data Files from the Million Song Subset"
   ]
  },
  {
   "cell_type": "code",
   "execution_count": 143,
   "metadata": {},
   "outputs": [
    {
     "name": "stdout",
     "output_type": "stream",
     "text": [
      "True\n"
     ]
    },
    {
     "data": {
      "text/plain": [
       "['MillionSongSubset/B/G/E/TRBGEHK12903CEEFC0.h5',\n",
       " 'MillionSongSubset/B/G/E/TRBGEZL12903CCC7E2.h5',\n",
       " 'MillionSongSubset/B/G/D/TRBGDND128F9312B81.h5',\n",
       " 'MillionSongSubset/B/G/K/TRBGKYA12903CF573B.h5',\n",
       " 'MillionSongSubset/B/H/I/TRBHIPK128F92FFCF3.h5',\n",
       " 'MillionSongSubset/B/H/A/TRBHAAD128F9341700.h5',\n",
       " 'MillionSongSubset/B/H/Y/TRBHYTA128F93425AC.h5',\n",
       " 'MillionSongSubset/B/C/T/TRBCTKV128F42222BD.h5',\n",
       " 'MillionSongSubset/B/B/B/TRBBBFO128F931535D.h5',\n",
       " 'MillionSongSubset/B/B/T/TRBBTJG12903CD5B47.h5']"
      ]
     },
     "execution_count": 143,
     "metadata": {},
     "output_type": "execute_result"
    }
   ],
   "source": [
    "jazz_paths = [path_from_trackid(\"MillionSongSubset\", jazz_trackids[i]) for i in range(len(jazz_trackids))]\n",
    "print(len(jazz_paths) == len(jazz_trackids))\n",
    "jazz_paths[:10]"
   ]
  },
  {
   "cell_type": "code",
   "execution_count": 144,
   "metadata": {},
   "outputs": [
    {
     "name": "stdout",
     "output_type": "stream",
     "text": [
      "True\n"
     ]
    },
    {
     "data": {
      "text/plain": [
       "['MillionSongSubset/B/G/M/TRBGMAZ12903CC3707.h5',\n",
       " 'MillionSongSubset/B/G/W/TRBGWGD128F42418B2.h5',\n",
       " 'MillionSongSubset/B/G/G/TRBGGBF128F425E4D1.h5',\n",
       " 'MillionSongSubset/B/G/G/TRBGGFE128E0785AC0.h5',\n",
       " 'MillionSongSubset/B/G/H/TRBGHHB128F1487CD2.h5',\n",
       " 'MillionSongSubset/B/G/H/TRBGHYG12903CEAC9C.h5',\n",
       " 'MillionSongSubset/B/G/C/TRBGCWM12903CF5BF7.h5',\n",
       " 'MillionSongSubset/B/G/C/TRBGCJQ128F1453CB3.h5',\n",
       " 'MillionSongSubset/B/G/R/TRBGRAN128F9339A1B.h5',\n",
       " 'MillionSongSubset/B/G/R/TRBGRGT12903CC5019.h5']"
      ]
     },
     "execution_count": 144,
     "metadata": {},
     "output_type": "execute_result"
    }
   ],
   "source": [
    "rock_paths = [path_from_trackid(\"MillionSongSubset\", rock_trackids[i]) for i in range(len(rock_trackids))]\n",
    "print(len(rock_paths) == len(rock_trackids))\n",
    "rock_paths[:10]"
   ]
  },
  {
   "cell_type": "code",
   "execution_count": 57,
   "metadata": {},
   "outputs": [],
   "source": [
    "!mkdir \"Jazz Subset\"\n",
    "!mkdir \"Rock Subset\""
   ]
  },
  {
   "cell_type": "code",
   "execution_count": 145,
   "metadata": {},
   "outputs": [],
   "source": [
    "import shutil # a module to move files between directories using python"
   ]
  },
  {
   "cell_type": "code",
   "execution_count": null,
   "metadata": {},
   "outputs": [],
   "source": [
    "# move .h5 files for jazz track ids into directory \"Jazz Subset\"\n",
    "for x in jazz_paths:\n",
    "    shutil.move(x, \"Jazz Subset\")"
   ]
  },
  {
   "cell_type": "code",
   "execution_count": 148,
   "metadata": {},
   "outputs": [
    {
     "data": {
      "text/plain": [
       "'Jazz Subset/jazz_trackids.txt'"
      ]
     },
     "execution_count": 148,
     "metadata": {},
     "output_type": "execute_result"
    }
   ],
   "source": [
    "# move jazz_trackids.txt into \"Jazz Subset\"\n",
    "shutil.move(\"jazz_trackids.txt\", \"Jazz Subset\")"
   ]
  },
  {
   "cell_type": "code",
   "execution_count": 147,
   "metadata": {},
   "outputs": [],
   "source": [
    "# move .h5 files for rock track ids into directory \"Rock Subset\"\n",
    "for x in rock_paths:\n",
    "    shutil.move(x, \"Rock Subset\")"
   ]
  },
  {
   "cell_type": "code",
   "execution_count": 149,
   "metadata": {},
   "outputs": [
    {
     "data": {
      "text/plain": [
       "'Rock Subset/rock_trackids.txt'"
      ]
     },
     "execution_count": 149,
     "metadata": {},
     "output_type": "execute_result"
    }
   ],
   "source": [
    "# move rock_trackids.txt into \"Rock Subset\"\n",
    "shutil.move(\"rock_trackids.txt\", \"Rock Subset\")"
   ]
  },
  {
   "cell_type": "code",
   "execution_count": null,
   "metadata": {},
   "outputs": [],
   "source": []
  }
 ],
 "metadata": {
  "colab": {
   "collapsed_sections": [],
   "name": "AssembleDataset.ipynb",
   "provenance": []
  },
  "kernelspec": {
   "display_name": "Python 3",
   "language": "python",
   "name": "python3"
  },
  "language_info": {
   "codemirror_mode": {
    "name": "ipython",
    "version": 3
   },
   "file_extension": ".py",
   "mimetype": "text/x-python",
   "name": "python",
   "nbconvert_exporter": "python",
   "pygments_lexer": "ipython3",
   "version": "3.8.5"
  }
 },
 "nbformat": 4,
 "nbformat_minor": 1
}
