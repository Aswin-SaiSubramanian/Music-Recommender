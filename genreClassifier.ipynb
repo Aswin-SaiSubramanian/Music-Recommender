{
  "nbformat": 4,
  "nbformat_minor": 5,
  "metadata": {
    "accelerator": "GPU",
    "colab": {
      "name": "genreClassifier.ipynb",
      "provenance": [],
      "collapsed_sections": []
    },
    "kernelspec": {
      "display_name": "Python 3",
      "language": "python",
      "name": "python3"
    },
    "language_info": {
      "codemirror_mode": {
        "name": "ipython",
        "version": 3
      },
      "file_extension": ".py",
      "mimetype": "text/x-python",
      "name": "python",
      "nbconvert_exporter": "python",
      "pygments_lexer": "ipython3",
      "version": "3.8.5"
    },
    "widgets": {
      "application/vnd.jupyter.widget-state+json": {
        "40a7dc22cd1b49259fa0c9b5b345f80c": {
          "model_module": "@jupyter-widgets/controls",
          "model_name": "HBoxModel",
          "state": {
            "_view_name": "HBoxView",
            "_dom_classes": [],
            "_model_name": "HBoxModel",
            "_view_module": "@jupyter-widgets/controls",
            "_model_module_version": "1.5.0",
            "_view_count": null,
            "_view_module_version": "1.5.0",
            "box_style": "",
            "layout": "IPY_MODEL_585e4de312ea4e57acbac342251f81f5",
            "_model_module": "@jupyter-widgets/controls",
            "children": [
              "IPY_MODEL_f5f6c293656e4fa3b07826f8e5eeb4eb",
              "IPY_MODEL_6eb4e45a8cd042ec86b732fee63eb010"
            ]
          }
        },
        "585e4de312ea4e57acbac342251f81f5": {
          "model_module": "@jupyter-widgets/base",
          "model_name": "LayoutModel",
          "state": {
            "_view_name": "LayoutView",
            "grid_template_rows": null,
            "right": null,
            "justify_content": null,
            "_view_module": "@jupyter-widgets/base",
            "overflow": null,
            "_model_module_version": "1.2.0",
            "_view_count": null,
            "flex_flow": null,
            "width": null,
            "min_width": null,
            "border": null,
            "align_items": null,
            "bottom": null,
            "_model_module": "@jupyter-widgets/base",
            "top": null,
            "grid_column": null,
            "overflow_y": null,
            "overflow_x": null,
            "grid_auto_flow": null,
            "grid_area": null,
            "grid_template_columns": null,
            "flex": null,
            "_model_name": "LayoutModel",
            "justify_items": null,
            "grid_row": null,
            "max_height": null,
            "align_content": null,
            "visibility": null,
            "align_self": null,
            "height": null,
            "min_height": null,
            "padding": null,
            "grid_auto_rows": null,
            "grid_gap": null,
            "max_width": null,
            "order": null,
            "_view_module_version": "1.2.0",
            "grid_template_areas": null,
            "object_position": null,
            "object_fit": null,
            "grid_auto_columns": null,
            "margin": null,
            "display": null,
            "left": null
          }
        },
        "f5f6c293656e4fa3b07826f8e5eeb4eb": {
          "model_module": "@jupyter-widgets/controls",
          "model_name": "FloatProgressModel",
          "state": {
            "_view_name": "ProgressView",
            "style": "IPY_MODEL_64d294f9f95842beaf559c784bac4416",
            "_dom_classes": [],
            "description": "100%",
            "_model_name": "FloatProgressModel",
            "bar_style": "success",
            "max": 574673361,
            "_view_module": "@jupyter-widgets/controls",
            "_model_module_version": "1.5.0",
            "value": 574673361,
            "_view_count": null,
            "_view_module_version": "1.5.0",
            "orientation": "horizontal",
            "min": 0,
            "description_tooltip": null,
            "_model_module": "@jupyter-widgets/controls",
            "layout": "IPY_MODEL_2e5ca079ddf84e239ed6b5f4727d9ba1"
          }
        },
        "6eb4e45a8cd042ec86b732fee63eb010": {
          "model_module": "@jupyter-widgets/controls",
          "model_name": "HTMLModel",
          "state": {
            "_view_name": "HTMLView",
            "style": "IPY_MODEL_2fd9f081488543c4aa8e92b1fce0b2c4",
            "_dom_classes": [],
            "description": "",
            "_model_name": "HTMLModel",
            "placeholder": "​",
            "_view_module": "@jupyter-widgets/controls",
            "_model_module_version": "1.5.0",
            "value": " 548M/548M [00:12&lt;00:00, 44.8MB/s]",
            "_view_count": null,
            "_view_module_version": "1.5.0",
            "description_tooltip": null,
            "_model_module": "@jupyter-widgets/controls",
            "layout": "IPY_MODEL_464b5aa2d4f04a8ab5a910e347857c55"
          }
        },
        "64d294f9f95842beaf559c784bac4416": {
          "model_module": "@jupyter-widgets/controls",
          "model_name": "ProgressStyleModel",
          "state": {
            "_view_name": "StyleView",
            "_model_name": "ProgressStyleModel",
            "description_width": "initial",
            "_view_module": "@jupyter-widgets/base",
            "_model_module_version": "1.5.0",
            "_view_count": null,
            "_view_module_version": "1.2.0",
            "bar_color": null,
            "_model_module": "@jupyter-widgets/controls"
          }
        },
        "2e5ca079ddf84e239ed6b5f4727d9ba1": {
          "model_module": "@jupyter-widgets/base",
          "model_name": "LayoutModel",
          "state": {
            "_view_name": "LayoutView",
            "grid_template_rows": null,
            "right": null,
            "justify_content": null,
            "_view_module": "@jupyter-widgets/base",
            "overflow": null,
            "_model_module_version": "1.2.0",
            "_view_count": null,
            "flex_flow": null,
            "width": null,
            "min_width": null,
            "border": null,
            "align_items": null,
            "bottom": null,
            "_model_module": "@jupyter-widgets/base",
            "top": null,
            "grid_column": null,
            "overflow_y": null,
            "overflow_x": null,
            "grid_auto_flow": null,
            "grid_area": null,
            "grid_template_columns": null,
            "flex": null,
            "_model_name": "LayoutModel",
            "justify_items": null,
            "grid_row": null,
            "max_height": null,
            "align_content": null,
            "visibility": null,
            "align_self": null,
            "height": null,
            "min_height": null,
            "padding": null,
            "grid_auto_rows": null,
            "grid_gap": null,
            "max_width": null,
            "order": null,
            "_view_module_version": "1.2.0",
            "grid_template_areas": null,
            "object_position": null,
            "object_fit": null,
            "grid_auto_columns": null,
            "margin": null,
            "display": null,
            "left": null
          }
        },
        "2fd9f081488543c4aa8e92b1fce0b2c4": {
          "model_module": "@jupyter-widgets/controls",
          "model_name": "DescriptionStyleModel",
          "state": {
            "_view_name": "StyleView",
            "_model_name": "DescriptionStyleModel",
            "description_width": "",
            "_view_module": "@jupyter-widgets/base",
            "_model_module_version": "1.5.0",
            "_view_count": null,
            "_view_module_version": "1.2.0",
            "_model_module": "@jupyter-widgets/controls"
          }
        },
        "464b5aa2d4f04a8ab5a910e347857c55": {
          "model_module": "@jupyter-widgets/base",
          "model_name": "LayoutModel",
          "state": {
            "_view_name": "LayoutView",
            "grid_template_rows": null,
            "right": null,
            "justify_content": null,
            "_view_module": "@jupyter-widgets/base",
            "overflow": null,
            "_model_module_version": "1.2.0",
            "_view_count": null,
            "flex_flow": null,
            "width": null,
            "min_width": null,
            "border": null,
            "align_items": null,
            "bottom": null,
            "_model_module": "@jupyter-widgets/base",
            "top": null,
            "grid_column": null,
            "overflow_y": null,
            "overflow_x": null,
            "grid_auto_flow": null,
            "grid_area": null,
            "grid_template_columns": null,
            "flex": null,
            "_model_name": "LayoutModel",
            "justify_items": null,
            "grid_row": null,
            "max_height": null,
            "align_content": null,
            "visibility": null,
            "align_self": null,
            "height": null,
            "min_height": null,
            "padding": null,
            "grid_auto_rows": null,
            "grid_gap": null,
            "max_width": null,
            "order": null,
            "_view_module_version": "1.2.0",
            "grid_template_areas": null,
            "object_position": null,
            "object_fit": null,
            "grid_auto_columns": null,
            "margin": null,
            "display": null,
            "left": null
          }
        }
      }
    }
  },
  "cells": [
    {
      "cell_type": "markdown",
      "metadata": {
        "id": "65ab1100"
      },
      "source": [
        "## Goal\n",
        "We are trying to create a genre classifier with an accuracy of at least 75% for Blues, Country, Electronic, Folk, Jazz, Latin, Rap, and Rock music. \n",
        "\n",
        "\n",
        "## Approaches\n",
        "- Create tensors with music data from .h5 files in our assembled dataset. Then, we can train an image classifier on them, with the genre of each tensor as the ground truth label.\n",
        "- If the approach outlined above doesn't work (This may be the case if samples from different genres are not different enough from each other), get access to the audio clips corresponding to each sample. Here, we have two options:\n",
        "    1. run image classification on tensors made from the audio.\n",
        "    2. Analyze the audio using the librosa python library to produce more features in addition to the one provided by the MSD. Then, we could go through the first outlined approach, but with more features for each sample. \n",
        "\n",
        "If our assembled dataset doesn't have enough samples for one or more genres, we could try using our Google Cloud credits to download the entire MSD, and repeat our data assembling process on that. \n",
        "\n",
        "## Important Data Features\n",
        "(Taken from h5 fields)\n",
        "- segment timbre\n",
        "- time signature\n",
        "- tempo\n",
        "- similar artists\n",
        "- get_artist_id (If we find a matching artist for this or similar artists we could potentially rule out certain genres or weigh more heavily to some genres)\n",
        "- loudness\n",
        "- key\n",
        "- energy\n",
        "- artist_terms (Haven't looked too much into this but it might be helpful for grabbing some info about what the artist is like and what genres of music they make)\n",
        "\n",
        "## Options for ML Models\n",
        "- VGG-19\n",
        "- ResNet\n",
        "\n",
        "\n"
      ],
      "id": "65ab1100"
    },
    {
      "cell_type": "code",
      "metadata": {
        "colab": {
          "base_uri": "https://localhost:8080/"
        },
        "id": "5b2d4386",
        "outputId": "e21dc1e1-d74d-4c3d-be4b-6a903fa59df6"
      },
      "source": [
        "#imports\n",
        "import os\n",
        "\n",
        "import torch, torchvision\n",
        "\n",
        "from torch import nn, optim\n",
        "from torchvision import datasets, models, transforms\n",
        "import matplotlib.pyplot as plt\n",
        "from google_drive_downloader import GoogleDriveDownloader as gdd\n",
        "from torch.autograd import Variable\n",
        "\n",
        "import numpy as np\n",
        "\n",
        "# For getting dataset from google drive\n",
        "!pip install googledrivedownloader"
      ],
      "id": "5b2d4386",
      "execution_count": null,
      "outputs": [
        {
          "output_type": "stream",
          "text": [
            "Requirement already satisfied: googledrivedownloader in /usr/local/lib/python3.7/dist-packages (0.4)\n"
          ],
          "name": "stdout"
        }
      ]
    },
    {
      "cell_type": "markdown",
      "metadata": {
        "id": "OYcwjCfflfu4"
      },
      "source": [
        "### The Model"
      ],
      "id": "OYcwjCfflfu4"
    },
    {
      "cell_type": "code",
      "metadata": {
        "colab": {
          "base_uri": "https://localhost:8080/",
          "height": 969,
          "referenced_widgets": [
            "40a7dc22cd1b49259fa0c9b5b345f80c",
            "585e4de312ea4e57acbac342251f81f5",
            "f5f6c293656e4fa3b07826f8e5eeb4eb",
            "6eb4e45a8cd042ec86b732fee63eb010",
            "64d294f9f95842beaf559c784bac4416",
            "2e5ca079ddf84e239ed6b5f4727d9ba1",
            "2fd9f081488543c4aa8e92b1fce0b2c4",
            "464b5aa2d4f04a8ab5a910e347857c55"
          ]
        },
        "id": "k7OIIjUTaSDV",
        "outputId": "2eb19aa0-4034-4ba4-ed92-5451095c2631"
      },
      "source": [
        "# downloading pretrained vgg19 model\n",
        "base_model_vgg = models.vgg19(pretrained=True)\n",
        "base_model_vgg"
      ],
      "id": "k7OIIjUTaSDV",
      "execution_count": null,
      "outputs": [
        {
          "output_type": "stream",
          "text": [
            "Downloading: \"https://download.pytorch.org/models/vgg19-dcbb9e9d.pth\" to /root/.cache/torch/hub/checkpoints/vgg19-dcbb9e9d.pth\n"
          ],
          "name": "stderr"
        },
        {
          "output_type": "display_data",
          "data": {
            "application/vnd.jupyter.widget-view+json": {
              "model_id": "40a7dc22cd1b49259fa0c9b5b345f80c",
              "version_minor": 0,
              "version_major": 2
            },
            "text/plain": [
              "HBox(children=(FloatProgress(value=0.0, max=574673361.0), HTML(value='')))"
            ]
          },
          "metadata": {
            "tags": []
          }
        },
        {
          "output_type": "stream",
          "text": [
            "\n"
          ],
          "name": "stdout"
        },
        {
          "output_type": "execute_result",
          "data": {
            "text/plain": [
              "VGG(\n",
              "  (features): Sequential(\n",
              "    (0): Conv2d(3, 64, kernel_size=(3, 3), stride=(1, 1), padding=(1, 1))\n",
              "    (1): ReLU(inplace=True)\n",
              "    (2): Conv2d(64, 64, kernel_size=(3, 3), stride=(1, 1), padding=(1, 1))\n",
              "    (3): ReLU(inplace=True)\n",
              "    (4): MaxPool2d(kernel_size=2, stride=2, padding=0, dilation=1, ceil_mode=False)\n",
              "    (5): Conv2d(64, 128, kernel_size=(3, 3), stride=(1, 1), padding=(1, 1))\n",
              "    (6): ReLU(inplace=True)\n",
              "    (7): Conv2d(128, 128, kernel_size=(3, 3), stride=(1, 1), padding=(1, 1))\n",
              "    (8): ReLU(inplace=True)\n",
              "    (9): MaxPool2d(kernel_size=2, stride=2, padding=0, dilation=1, ceil_mode=False)\n",
              "    (10): Conv2d(128, 256, kernel_size=(3, 3), stride=(1, 1), padding=(1, 1))\n",
              "    (11): ReLU(inplace=True)\n",
              "    (12): Conv2d(256, 256, kernel_size=(3, 3), stride=(1, 1), padding=(1, 1))\n",
              "    (13): ReLU(inplace=True)\n",
              "    (14): Conv2d(256, 256, kernel_size=(3, 3), stride=(1, 1), padding=(1, 1))\n",
              "    (15): ReLU(inplace=True)\n",
              "    (16): Conv2d(256, 256, kernel_size=(3, 3), stride=(1, 1), padding=(1, 1))\n",
              "    (17): ReLU(inplace=True)\n",
              "    (18): MaxPool2d(kernel_size=2, stride=2, padding=0, dilation=1, ceil_mode=False)\n",
              "    (19): Conv2d(256, 512, kernel_size=(3, 3), stride=(1, 1), padding=(1, 1))\n",
              "    (20): ReLU(inplace=True)\n",
              "    (21): Conv2d(512, 512, kernel_size=(3, 3), stride=(1, 1), padding=(1, 1))\n",
              "    (22): ReLU(inplace=True)\n",
              "    (23): Conv2d(512, 512, kernel_size=(3, 3), stride=(1, 1), padding=(1, 1))\n",
              "    (24): ReLU(inplace=True)\n",
              "    (25): Conv2d(512, 512, kernel_size=(3, 3), stride=(1, 1), padding=(1, 1))\n",
              "    (26): ReLU(inplace=True)\n",
              "    (27): MaxPool2d(kernel_size=2, stride=2, padding=0, dilation=1, ceil_mode=False)\n",
              "    (28): Conv2d(512, 512, kernel_size=(3, 3), stride=(1, 1), padding=(1, 1))\n",
              "    (29): ReLU(inplace=True)\n",
              "    (30): Conv2d(512, 512, kernel_size=(3, 3), stride=(1, 1), padding=(1, 1))\n",
              "    (31): ReLU(inplace=True)\n",
              "    (32): Conv2d(512, 512, kernel_size=(3, 3), stride=(1, 1), padding=(1, 1))\n",
              "    (33): ReLU(inplace=True)\n",
              "    (34): Conv2d(512, 512, kernel_size=(3, 3), stride=(1, 1), padding=(1, 1))\n",
              "    (35): ReLU(inplace=True)\n",
              "    (36): MaxPool2d(kernel_size=2, stride=2, padding=0, dilation=1, ceil_mode=False)\n",
              "  )\n",
              "  (avgpool): AdaptiveAvgPool2d(output_size=(7, 7))\n",
              "  (classifier): Sequential(\n",
              "    (0): Linear(in_features=25088, out_features=4096, bias=True)\n",
              "    (1): ReLU(inplace=True)\n",
              "    (2): Dropout(p=0.5, inplace=False)\n",
              "    (3): Linear(in_features=4096, out_features=4096, bias=True)\n",
              "    (4): ReLU(inplace=True)\n",
              "    (5): Dropout(p=0.5, inplace=False)\n",
              "    (6): Linear(in_features=4096, out_features=1000, bias=True)\n",
              "  )\n",
              ")"
            ]
          },
          "metadata": {
            "tags": []
          },
          "execution_count": 2
        }
      ]
    },
    {
      "cell_type": "code",
      "metadata": {
        "colab": {
          "base_uri": "https://localhost:8080/"
        },
        "id": "iJnHvf6ma9HU",
        "outputId": "68aca899-f906-41e0-9e79-525e8abcbc4f"
      },
      "source": [
        "# accessing the last layers of the vgg19 base model\n",
        "base_model_vgg.classifier"
      ],
      "id": "iJnHvf6ma9HU",
      "execution_count": null,
      "outputs": [
        {
          "output_type": "execute_result",
          "data": {
            "text/plain": [
              "Sequential(\n",
              "  (0): Linear(in_features=25088, out_features=4096, bias=True)\n",
              "  (1): ReLU(inplace=True)\n",
              "  (2): Dropout(p=0.5, inplace=False)\n",
              "  (3): Linear(in_features=4096, out_features=4096, bias=True)\n",
              "  (4): ReLU(inplace=True)\n",
              "  (5): Dropout(p=0.5, inplace=False)\n",
              "  (6): Linear(in_features=4096, out_features=1000, bias=True)\n",
              ")"
            ]
          },
          "metadata": {
            "tags": []
          },
          "execution_count": 3
        }
      ]
    },
    {
      "cell_type": "code",
      "metadata": {
        "colab": {
          "base_uri": "https://localhost:8080/"
        },
        "id": "A6VyFoN4c604",
        "outputId": "4a4138c0-6708-4fc0-fd1c-6ffe04f1a0ec"
      },
      "source": [
        "# changing the last layer of the the vgg19 base model to have 8 output features instead of 1000\n",
        "base_model_vgg.classifier = nn.Sequential(\n",
        "    nn.Linear(in_features=25088, out_features=4096, bias=True), \n",
        "    nn.ReLU(inplace=True), \n",
        "    nn.Dropout(p=0.5, inplace=False), \n",
        "    nn.Linear(in_features=4096, out_features=4096, bias=True), \n",
        "    nn.ReLU(inplace=True), \n",
        "    nn.Dropout(p=0.5, inplace=False), \n",
        "    nn.Linear(in_features=4096, out_features=8, bias=True)\n",
        ")\n",
        "model = base_model_vgg\n",
        "model.classifier"
      ],
      "id": "A6VyFoN4c604",
      "execution_count": null,
      "outputs": [
        {
          "output_type": "execute_result",
          "data": {
            "text/plain": [
              "Sequential(\n",
              "  (0): Linear(in_features=25088, out_features=4096, bias=True)\n",
              "  (1): ReLU(inplace=True)\n",
              "  (2): Dropout(p=0.5, inplace=False)\n",
              "  (3): Linear(in_features=4096, out_features=4096, bias=True)\n",
              "  (4): ReLU(inplace=True)\n",
              "  (5): Dropout(p=0.5, inplace=False)\n",
              "  (6): Linear(in_features=4096, out_features=8, bias=True)\n",
              ")"
            ]
          },
          "metadata": {
            "tags": []
          },
          "execution_count": 4
        }
      ]
    },
    {
      "cell_type": "code",
      "metadata": {
        "colab": {
          "base_uri": "https://localhost:8080/"
        },
        "id": "u36kHV5qhd18",
        "outputId": "567bab40-d451-4a4d-d1d7-3bc1a7552e05"
      },
      "source": [
        "# accessing the first layer of the vgg19-based model\n",
        "list(model.children())[0][0] # it has 3 input channels, but we only need 1.\n",
        "\n",
        "# 1, 6, 3691"
      ],
      "id": "u36kHV5qhd18",
      "execution_count": null,
      "outputs": [
        {
          "output_type": "execute_result",
          "data": {
            "text/plain": [
              "Conv2d(3, 64, kernel_size=(3, 3), stride=(1, 1), padding=(1, 1))"
            ]
          },
          "metadata": {
            "tags": []
          },
          "execution_count": 5
        }
      ]
    },
    {
      "cell_type": "code",
      "metadata": {
        "id": "6-siQvjll8ei"
      },
      "source": [
        "# weight = list(model.children())[0][0].weight.clone()\n",
        "\n",
        "# list(model.children())[0][0] = nn.Conv2d(1, 64, kernel_size=(3,3), stride=(1,1), padding=(1,1))\n",
        "# with torch.no_grad():\n",
        "#   list(model.children())[0][0].weight.data = weight[:, 0, :, :]\n",
        "\n",
        "#print(list(model.children())[0][0].weight.data.size())\n",
        "#print(weight.size())\n",
        "#x = torch.randn(10, 4, 224, 224)\n",
        "#output = model(x)"
      ],
      "id": "6-siQvjll8ei",
      "execution_count": null,
      "outputs": []
    },
    {
      "cell_type": "markdown",
      "metadata": {
        "id": "GTBFr2UujGhO"
      },
      "source": [
        "Could replace the first layer of the vgg19-based model, but it may save training time to instead simply feed zeros to unused input channels\n",
        "\n",
        "But, in case we want to replace the first layer with a 1-input-channel layer, here's a way to do that:\n",
        "\n",
        "list(base_model_vgg.children())[0][0] = nn.Conv2d(1, 64, kernel_size=(3, 3), stride=(1, 1), padding=(1, 1))"
      ],
      "id": "GTBFr2UujGhO"
    },
    {
      "cell_type": "markdown",
      "metadata": {
        "id": "vquixt4YlkGs"
      },
      "source": [
        "### hdf5_getters Package"
      ],
      "id": "vquixt4YlkGs"
    },
    {
      "cell_type": "code",
      "metadata": {
        "colab": {
          "base_uri": "https://localhost:8080/"
        },
        "id": "q8tjWrjiWccH",
        "outputId": "5af78243-6679-44e5-e2c9-6a2c50a522cc"
      },
      "source": [
        "# Getting Functions\n",
        "# https://github.com/tbertinmahieux/MSongsDB/blob/master/PythonSrc/hdf5_getters.py\n",
        "# ^ Link above has all the getters (Which also tells us all of the different attributes)\n",
        "\n",
        "!wget https://raw.githubusercontent.com/tbertinmahieux/MSongsDB/master/PythonSrc/hdf5_getters.py\n",
        "!pip install tables # need PyTables package to use hdf5_getters\n",
        "import tables\n",
        "import hdf5_getters\n",
        "# check for bug in hdf5_getters.py: line 39: tables.openFile(h5filename, mode='r') should be tables.open_file(h5filename, mode='r')"
      ],
      "id": "q8tjWrjiWccH",
      "execution_count": null,
      "outputs": [
        {
          "output_type": "stream",
          "text": [
            "--2021-04-13 21:01:55--  https://raw.githubusercontent.com/tbertinmahieux/MSongsDB/master/PythonSrc/hdf5_getters.py\n",
            "Resolving raw.githubusercontent.com (raw.githubusercontent.com)... 185.199.108.133, 185.199.109.133, 185.199.110.133, ...\n",
            "Connecting to raw.githubusercontent.com (raw.githubusercontent.com)|185.199.108.133|:443... connected.\n",
            "HTTP request sent, awaiting response... 200 OK\n",
            "Length: 21702 (21K) [text/plain]\n",
            "Saving to: ‘hdf5_getters.py’\n",
            "\n",
            "\rhdf5_getters.py       0%[                    ]       0  --.-KB/s               \rhdf5_getters.py     100%[===================>]  21.19K  --.-KB/s    in 0s      \n",
            "\n",
            "2021-04-13 21:01:55 (142 MB/s) - ‘hdf5_getters.py’ saved [21702/21702]\n",
            "\n",
            "Requirement already satisfied: tables in /usr/local/lib/python3.7/dist-packages (3.4.4)\n",
            "Requirement already satisfied: numpy>=1.8.0 in /usr/local/lib/python3.7/dist-packages (from tables) (1.19.5)\n",
            "Requirement already satisfied: six>=1.9.0 in /usr/local/lib/python3.7/dist-packages (from tables) (1.15.0)\n",
            "Requirement already satisfied: numexpr>=2.5.2 in /usr/local/lib/python3.7/dist-packages (from tables) (2.7.3)\n"
          ],
          "name": "stdout"
        }
      ]
    },
    {
      "cell_type": "code",
      "metadata": {
        "colab": {
          "base_uri": "https://localhost:8080/"
        },
        "id": "FZA7CZy8fHoO",
        "outputId": "3ee75831-d54c-4dbd-8a0f-a9ab616df1e8"
      },
      "source": [
        "# the line in hdf5_getters.py with the error. The function in the tables package is \"open_file()\", not \"openFile()\"\"\n",
        "!grep -n openFile hdf5_getters.py"
      ],
      "id": "FZA7CZy8fHoO",
      "execution_count": null,
      "outputs": [
        {
          "output_type": "stream",
          "text": [
            "39:    return tables.openFile(h5filename, mode='r')\n"
          ],
          "name": "stdout"
        }
      ]
    },
    {
      "cell_type": "code",
      "metadata": {
        "id": "SkWyJxelW5Hp"
      },
      "source": [
        "# helper function to construct the path to the data file in the MSD from trackid (if needed).\n",
        "#\n",
        "# Citation: \n",
        "# Thierry Bertin-Mahieux (2011) Columbia University\n",
        "# tb2332@columbia.edu\n",
        "# http://millionsongdataset.com/sites/default/files/create_genre_dataset.py.txt\n",
        "\n",
        "def path_from_trackid(msddir,trackid):\n",
        "    \"\"\"\n",
        "    Create a full path from the main MSD dir and a track id.\n",
        "    Does not check if the file actually exists.\n",
        "    \"\"\"\n",
        "    p = os.path.join(msddir,trackid[2])\n",
        "    p = os.path.join(p,trackid[3])\n",
        "    p = os.path.join(p,trackid[4])\n",
        "    p = os.path.join(p,trackid.upper()+'.h5')\n",
        "    return p"
      ],
      "id": "SkWyJxelW5Hp",
      "execution_count": null,
      "outputs": []
    },
    {
      "cell_type": "code",
      "metadata": {
        "id": "GpMBP6Xck2KM"
      },
      "source": [
        "# Testing the getter functions\n",
        "# h5 = hdf5_getters.open_h5_file_read('''path to some file''')\n",
        "# getting features\n",
        "# duration = hdf5_getters.get_duration(h5)\n",
        "# h5.close()"
      ],
      "id": "GpMBP6Xck2KM",
      "execution_count": null,
      "outputs": []
    },
    {
      "cell_type": "markdown",
      "metadata": {
        "id": "tn96Ls6CmDAt"
      },
      "source": [
        "### Preparing the Data and Dataset\n",
        "\n",
        "Need to define a custom PyTorch dataset class to accomplish this. This class should:\n",
        "- inherit torch.utils.data.Dataset \n",
        "- override \\_\\_len__ to enable len(...) to give the number of samples in the dataset. \n",
        "- override \\_\\_getitem__ to enable indexing so that dataset[i] gives the i^th sample in the dataset.\n",
        "  - Let each sample follow the format: \n",
        "    - torch.LongTensor(genre_label, sample_data_appended_together)\n",
        "  - Will use hdf5_getters.py to read data from .h5 files.\n",
        "\n",
        "#### Prerequisites\n",
        "- Need to gather together all the .h5 files in a convenient way to feed into genreClassificationDataset. (method outlined below)\n",
        "  - get **all** the desired .h5 files from the Million Song Subset and put them in directories \"data/\\<genre>\" (reorganize the github repo to reflect this). To gather all the desired .h5 files, we can \n",
        "    - drag-and-drop these files from your computer into corresponding directories in Google Colab's virtual machine, or \n",
        "    - transfer the root directory \"data\" to Google Drive and download from there, or \n",
        "    - find a way to download the root directory from Github.\n",
        "  - We chose to use Google Drive.  \n",
        "  \n",
        "- Need to find a way to organize the .h5 files so that a file's genre is apparent from either its name or its path. (method outlined below)\n",
        "  - keep .h5 files in directory \"data/\\<genre>\". The root directory, \"data,\" wil be an argument to be passed to genreClassificationDataset(...) when creating a new dataset."
      ],
      "id": "tn96Ls6CmDAt"
    },
    {
      "cell_type": "markdown",
      "metadata": {
        "id": "pccjNHUm3u75"
      },
      "source": [
        "#### Features that we can extract (Ones marked \"Yes\" are to be used in the final model)"
      ],
      "id": "pccjNHUm3u75"
    },
    {
      "cell_type": "markdown",
      "metadata": {
        "id": "cJ56-4QSxetE"
      },
      "source": [
        "    analysis_sample_rate = tables.IntCol()\n",
        "    audio_md5 = tables.StringCol(32)\n",
        "    danceability = tables.Float64Col()\n",
        "    duration = tables.Float64Col()\n",
        "    end_of_fade_in = tables.Float64Col()\n",
        "    energy = tables.Float64Col()\n",
        "    key = tables.IntCol()                    [Yes]\n",
        "    key_confidence = tables.Float64Col()\n",
        "    loudness = tables.Float64Col()           \n",
        "    mode = tables.IntCol()                   [Yes] \n",
        "    mode_confidence = tables.Float64Col()\n",
        "    start_of_fade_out = tables.Float64Col()\n",
        "    tempo = tables.Float64Col()              [Yes]\n",
        "    time_signature = tables.IntCol()\n",
        "    time_signature_confidence = tables.Float64Col()\n",
        "    track_id = tables.StringCol(32)\n",
        "    # ARRAY INDICES\n",
        "    idx_segments_start = tables.IntCol()\n",
        "    idx_segments_confidence = tables.IntCol()\n",
        "    idx_segments_pitches = tables.IntCol()\n",
        "    idx_segments_timbre = tables.IntCol()\n",
        "    idx_segments_loudness_max = tables.IntCol()\n",
        "    idx_segments_loudness_max_time = tables.IntCol()\n",
        "    idx_segments_loudness_start = tables.IntCol()\n",
        "    idx_sections_start = tables.IntCol()\n",
        "    idx_sections_confidence = tables.IntCol()\n",
        "    idx_beats_start = tables.IntCol()\n",
        "    idx_beats_confidence = tables.IntCol()\n",
        "    idx_bars_start = tables.IntCol()\n",
        "    idx_bars_confidence = tables.IntCol()\n",
        "    idx_tatums_start = tables.IntCol()\n",
        "    idx_tatums_confidence = tables.IntCol()\n",
        "    \n",
        "\n",
        "    artist_name = tables.StringCol(MAXSTRLEN)\n",
        "    artist_id = tables.StringCol(32)\n",
        "    artist_mbid = tables.StringCol(40)\n",
        "    artist_playmeid = tables.IntCol()\n",
        "    artist_7digitalid = tables.IntCol()\n",
        "    analyzer_version = tables.StringCol(32)\n",
        "    genre = tables.StringCol(MAXSTRLEN)\n",
        "    release = tables.StringCol(MAXSTRLEN)\n",
        "    release_7digitalid = tables.IntCol()\n",
        "    title = tables.StringCol(MAXSTRLEN)\n",
        "    artist_familiarity = tables.Float64Col()\n",
        "    artist_hotttnesss = tables.Float64Col()\n",
        "    song_id = tables.StringCol(32)\n",
        "    song_hotttnesss = tables.Float64Col()\n",
        "    artist_latitude = tables.Float64Col()\n",
        "    artist_longitude = tables.Float64Col()\n",
        "    artist_location = tables.StringCol(MAXSTRLEN)\n",
        "    track_7digitalid = tables.IntCol()\n",
        "    # ARRAY INDICES\n",
        "    idx_similar_artists = tables.IntCol()        [Yes]\n",
        "    idx_artist_terms = tables.IntCol()"
      ],
      "id": "cJ56-4QSxetE"
    },
    {
      "cell_type": "markdown",
      "metadata": {
        "id": "U0X61wZjgpaY"
      },
      "source": [
        "#### Finding the Desired Shape of the VGG19 Model's Input"
      ],
      "id": "U0X61wZjgpaY"
    },
    {
      "cell_type": "code",
      "metadata": {
        "id": "cFxAplPrDAaa"
      },
      "source": [
        "# learning to work with os.fsencode and os.fsdecode. These will help iterate through files in genre directories.\n",
        "\n",
        "#rock_folder = os.fsencode(os.path.join(\"data\", \"Rock\"))\n",
        "#for file in os.listdir(rock_folder)[:10]:\n",
        "#  print(os.fsdecode(file))\n",
        "#  print(type(file))\n",
        "#  print(type(os.fsdecode(file)))\n"
      ],
      "id": "cFxAplPrDAaa",
      "execution_count": null,
      "outputs": []
    },
    {
      "cell_type": "code",
      "metadata": {
        "id": "gKFTlUZKHCN-"
      },
      "source": [
        "# type(os.fsdecode(os.listdir(rock_folder)[0]))"
      ],
      "id": "gKFTlUZKHCN-",
      "execution_count": null,
      "outputs": []
    },
    {
      "cell_type": "code",
      "metadata": {
        "id": "GgRAgwWpH9yd"
      },
      "source": [
        "#len(os.listdir(rock_folder))"
      ],
      "id": "GgRAgwWpH9yd",
      "execution_count": null,
      "outputs": []
    },
    {
      "cell_type": "code",
      "metadata": {
        "id": "JE8jfb5UFuFJ"
      },
      "source": [
        "#min([1,2,3,-100,4,5])"
      ],
      "id": "JE8jfb5UFuFJ",
      "execution_count": null,
      "outputs": []
    },
    {
      "cell_type": "code",
      "metadata": {
        "colab": {
          "base_uri": "https://localhost:8080/"
        },
        "id": "mW13NcftV6wx",
        "outputId": "0f5602da-c50f-4388-9b15-3cc07030cc90"
      },
      "source": [
        "# What should the shape of our model inputs be? Let's find out by passing tensors of \n",
        "# different shapes through a dummy Conv2d layer with same parameters as first layer \n",
        "# of VGG19\n",
        "\n",
        "test_conv_layer = nn.Conv2d(3, 64, kernel_size=(3,3), stride=(1,1), padding=(1,1))\n",
        "\n",
        "print(test_conv_layer)\n",
        "print(test_conv_layer.weight.size())\n",
        "\n",
        "input_shape = (1, 3, 3691, 12)\n",
        "test_conv_layer_output = test_conv_layer.forward(torch.ones(input_shape))\n",
        "print(f\"\\nModel input's shape: {torch.ones(input_shape).size()}\")\n",
        "print(test_conv_layer_output)\n",
        "print(f\"First layer output's shape: {test_conv_layer_output.size()}\")\n",
        "\n",
        "\n",
        "# The second number in the input_shape tuple corresponds to number of channels.\n",
        "# If the model's input were an image, then the last two number in the input_shape \n",
        "# tuple would correspond to the width and height of the image.\n",
        "\n",
        "# So really, the shape of our input should be (1, 3, x, y), with x and y being \n",
        "# whatever we need them to be (I checked diff. comboes of input shapes, and the only \n",
        "# thing that caused an error, was if I changed the second element input_shape from \n",
        "# 3 into anything else).  "
      ],
      "id": "mW13NcftV6wx",
      "execution_count": null,
      "outputs": [
        {
          "output_type": "stream",
          "text": [
            "Conv2d(3, 64, kernel_size=(3, 3), stride=(1, 1), padding=(1, 1))\n",
            "torch.Size([64, 3, 3, 3])\n",
            "\n",
            "Model input's shape: torch.Size([1, 3, 3691, 12])\n",
            "tensor([[[[-0.3894, -0.5358, -0.5358,  ..., -0.5358, -0.5358, -0.4603],\n",
            "          [-0.7740, -1.0790, -1.0790,  ..., -1.0790, -1.0790, -0.8841],\n",
            "          [-0.7740, -1.0790, -1.0790,  ..., -1.0790, -1.0790, -0.8841],\n",
            "          ...,\n",
            "          [-0.7740, -1.0790, -1.0790,  ..., -1.0790, -1.0790, -0.8841],\n",
            "          [-0.7740, -1.0790, -1.0790,  ..., -1.0790, -1.0790, -0.8841],\n",
            "          [-1.0862, -1.0569, -1.0569,  ..., -1.0569, -1.0569, -0.7612]],\n",
            "\n",
            "         [[-0.2623, -0.3327, -0.3327,  ..., -0.3327, -0.3327,  0.0669],\n",
            "          [-0.4384, -0.3426, -0.3426,  ..., -0.3426, -0.3426, -0.0934],\n",
            "          [-0.4384, -0.3426, -0.3426,  ..., -0.3426, -0.3426, -0.0934],\n",
            "          ...,\n",
            "          [-0.4384, -0.3426, -0.3426,  ..., -0.3426, -0.3426, -0.0934],\n",
            "          [-0.4384, -0.3426, -0.3426,  ..., -0.3426, -0.3426, -0.0934],\n",
            "          [-0.7946, -0.5540, -0.5540,  ..., -0.5540, -0.5540, -0.2167]],\n",
            "\n",
            "         [[ 0.2842, -0.4243, -0.4243,  ..., -0.4243, -0.4243, -0.6437],\n",
            "          [-0.0343, -0.6339, -0.6339,  ..., -0.6339, -0.6339, -1.0222],\n",
            "          [-0.0343, -0.6339, -0.6339,  ..., -0.6339, -0.6339, -1.0222],\n",
            "          ...,\n",
            "          [-0.0343, -0.6339, -0.6339,  ..., -0.6339, -0.6339, -1.0222],\n",
            "          [-0.0343, -0.6339, -0.6339,  ..., -0.6339, -0.6339, -1.0222],\n",
            "          [ 0.0458, -0.3271, -0.3271,  ..., -0.3271, -0.3271, -0.9498]],\n",
            "\n",
            "         ...,\n",
            "\n",
            "         [[-0.0127,  0.1531,  0.1531,  ...,  0.1531,  0.1531,  0.2897],\n",
            "          [ 0.1147,  0.2478,  0.2478,  ...,  0.2478,  0.2478,  0.4030],\n",
            "          [ 0.1147,  0.2478,  0.2478,  ...,  0.2478,  0.2478,  0.4030],\n",
            "          ...,\n",
            "          [ 0.1147,  0.2478,  0.2478,  ...,  0.2478,  0.2478,  0.4030],\n",
            "          [ 0.1147,  0.2478,  0.2478,  ...,  0.2478,  0.2478,  0.4030],\n",
            "          [-0.0131,  0.0724,  0.0724,  ...,  0.0724,  0.0724,  0.4316]],\n",
            "\n",
            "         [[ 0.3760,  0.3247,  0.3247,  ...,  0.3247,  0.3247,  0.1311],\n",
            "          [ 0.0962, -0.0559, -0.0559,  ..., -0.0559, -0.0559, -0.2423],\n",
            "          [ 0.0962, -0.0559, -0.0559,  ..., -0.0559, -0.0559, -0.2423],\n",
            "          ...,\n",
            "          [ 0.0962, -0.0559, -0.0559,  ..., -0.0559, -0.0559, -0.2423],\n",
            "          [ 0.0962, -0.0559, -0.0559,  ..., -0.0559, -0.0559, -0.2423],\n",
            "          [ 0.1597,  0.0576,  0.0576,  ...,  0.0576,  0.0576, -0.2243]],\n",
            "\n",
            "         [[ 0.5686,  0.9356,  0.9356,  ...,  0.9356,  0.9356,  1.1736],\n",
            "          [ 0.4619,  1.0542,  1.0542,  ...,  1.0542,  1.0542,  1.1891],\n",
            "          [ 0.4619,  1.0542,  1.0542,  ...,  1.0542,  1.0542,  1.1891],\n",
            "          ...,\n",
            "          [ 0.4619,  1.0542,  1.0542,  ...,  1.0542,  1.0542,  1.1891],\n",
            "          [ 0.4619,  1.0542,  1.0542,  ...,  1.0542,  1.0542,  1.1891],\n",
            "          [ 0.2806,  0.5166,  0.5166,  ...,  0.5166,  0.5166,  0.5256]]]],\n",
            "       grad_fn=<MkldnnConvolutionBackward>)\n",
            "First layer output's shape: torch.Size([1, 64, 3691, 12])\n"
          ],
          "name": "stdout"
        }
      ]
    },
    {
      "cell_type": "markdown",
      "metadata": {
        "id": "pa5v1ZZOp0vV"
      },
      "source": [
        "#### Getting the Dataset"
      ],
      "id": "pa5v1ZZOp0vV"
    },
    {
      "cell_type": "code",
      "metadata": {
        "id": "gDHGJekwpjUU"
      },
      "source": [
        "# Creating separate directories\n",
        "%mkdir -p data/Jazz\n",
        "%mkdir -p data/Rock\n",
        "%mkdir -p data/Rap\n",
        "%mkdir -p data/Country\n",
        "%mkdir -p data/Blues\n",
        "%mkdir -p data/Folk\n",
        "%mkdir -p data/Latin\n",
        "%mkdir -p data/Electronic\n"
      ],
      "id": "gDHGJekwpjUU",
      "execution_count": null,
      "outputs": []
    },
    {
      "cell_type": "code",
      "metadata": {
        "colab": {
          "base_uri": "https://localhost:8080/"
        },
        "id": "Ee1ONQwTj_63",
        "outputId": "b6df7043-1210-4930-eb54-0995cbe53403"
      },
      "source": [
        "# Country\n",
        "gdd.download_file_from_google_drive(file_id='1ZBz1AVQlno9LzowrDcrkNqnlxoeuu9Hh',\n",
        "                                    dest_path='./data/Country/Country.zip',\n",
        "                                    unzip=True)\n",
        "\n",
        "# Electronic\n",
        "gdd.download_file_from_google_drive(file_id='1z4lOR8S848C9jX-8_8NAnDXcOL8vanU7',\n",
        "                                    dest_path='./data/Electronic/Electronic.zip',\n",
        "                                    unzip=True)\n",
        "# Rock\n",
        "gdd.download_file_from_google_drive(file_id='1wzZAtco1Fne1ghId2aqY3JOD17EXX_cw',\n",
        "                                    dest_path='./data/Rock/Rock.zip',\n",
        "                                    unzip=True)\n",
        "# Rap\n",
        "gdd.download_file_from_google_drive(file_id='1bANWlBT-aS0ofEUhg1YB0NSe-22ljXPZ',\n",
        "                                    dest_path='./data/Rap/Rap.zip',\n",
        "                                    unzip=True)\n",
        "\n",
        "# Latin\n",
        "gdd.download_file_from_google_drive(file_id='1zUV-jZ8W8z0Pt74OeE8a50X-eguWHB7c',\n",
        "                                    dest_path='./data/Latin/Latin.zip',\n",
        "                                    unzip=True)\n",
        "\n",
        "# Jazz\n",
        "gdd.download_file_from_google_drive(file_id='1WoYPVm9_hnLkZekEh9JZYJfI6tXWlp9s',\n",
        "                                    dest_path='./data/Jazz/Jazz.zip',\n",
        "                                    unzip=True)\n",
        "\n",
        "# Folk\n",
        "gdd.download_file_from_google_drive(file_id='1gQeJ0xjALXkMfCTj8IgaczuFhwr1d962',\n",
        "                                    dest_path='./data/Folk/Folk.zip',\n",
        "                                    unzip=True)\n",
        "# Blues\n",
        "gdd.download_file_from_google_drive(file_id='1gQQf591gQ6bMY_4dyWNrhcinZ1VgLtv3',\n",
        "                                    dest_path='./data/Blues/Blues.zip',\n",
        "                                    unzip=True)"
      ],
      "id": "Ee1ONQwTj_63",
      "execution_count": null,
      "outputs": [
        {
          "output_type": "stream",
          "text": [
            "Downloading 1ZBz1AVQlno9LzowrDcrkNqnlxoeuu9Hh into ./data/Country/Country.zip... Done.\n",
            "Unzipping...Done.\n",
            "Downloading 1z4lOR8S848C9jX-8_8NAnDXcOL8vanU7 into ./data/Electronic/Electronic.zip... Done.\n",
            "Unzipping...Done.\n",
            "Downloading 1wzZAtco1Fne1ghId2aqY3JOD17EXX_cw into ./data/Rock/Rock.zip... Done.\n",
            "Unzipping...Done.\n",
            "Downloading 1bANWlBT-aS0ofEUhg1YB0NSe-22ljXPZ into ./data/Rap/Rap.zip... Done.\n",
            "Unzipping...Done.\n",
            "Downloading 1zUV-jZ8W8z0Pt74OeE8a50X-eguWHB7c into ./data/Latin/Latin.zip... Done.\n",
            "Unzipping...Done.\n",
            "Downloading 1WoYPVm9_hnLkZekEh9JZYJfI6tXWlp9s into ./data/Jazz/Jazz.zip... Done.\n",
            "Unzipping...Done.\n",
            "Downloading 1gQeJ0xjALXkMfCTj8IgaczuFhwr1d962 into ./data/Folk/Folk.zip... Done.\n",
            "Unzipping...Done.\n",
            "Downloading 1gQQf591gQ6bMY_4dyWNrhcinZ1VgLtv3 into ./data/Blues/Blues.zip... Done.\n",
            "Unzipping...Done.\n"
          ],
          "name": "stdout"
        }
      ]
    },
    {
      "cell_type": "code",
      "metadata": {
        "id": "FsQsjdSD7C2E"
      },
      "source": [
        "# removing the zip files from each genre directory\n",
        "\n",
        "!rm data/Blues/Blues.zip\n",
        "!rm data/Country/Country.zip\n",
        "!rm data/Electronic/Electronic.zip\n",
        "!rm data/Folk/Folk.zip\n",
        "!rm data/Jazz/Jazz.zip\n",
        "!rm data/Latin/Latin.zip\n",
        "!rm data/Rap/Rap.zip\n",
        "!rm data/Rock/Rock.zip"
      ],
      "id": "FsQsjdSD7C2E",
      "execution_count": null,
      "outputs": []
    },
    {
      "cell_type": "code",
      "metadata": {
        "colab": {
          "base_uri": "https://localhost:8080/"
        },
        "id": "V1zjpUPKWJTV",
        "outputId": "4078f9cb-81ea-4a0b-8843-b7303dc73907"
      },
      "source": [
        "# add \"Blues\" and \"Folk\" to the following list later, when the data for those are ready\n",
        "genres_dir_names = [\"Jazz\", \"Rock\", \"Rap\", \"Country\", \"Blues\", \"Folk\", \"Latin\", \"Electronic\"]\n",
        "genres_dir_names"
      ],
      "id": "V1zjpUPKWJTV",
      "execution_count": null,
      "outputs": [
        {
          "output_type": "execute_result",
          "data": {
            "text/plain": [
              "['Jazz', 'Rock', 'Rap', 'Country', 'Blues', 'Folk', 'Latin', 'Electronic']"
            ]
          },
          "metadata": {
            "tags": []
          },
          "execution_count": 19
        }
      ]
    },
    {
      "cell_type": "markdown",
      "metadata": {
        "id": "ZKPgD07Sf7dD"
      },
      "source": [
        "#### Creating a Custom Dataset Class"
      ],
      "id": "ZKPgD07Sf7dD"
    },
    {
      "cell_type": "code",
      "metadata": {
        "id": "6M9Vo-EuWEOv"
      },
      "source": [
        "from torch.utils.data import Dataset\n",
        "\n",
        "class genreClassificationDataset (Dataset):\n",
        "  def __init__ (self, root_dir, genre_dir_names):  \n",
        "    # create an iterable representation for each genre directory\n",
        "    # CITATION: https://stackoverflow.com/questions/10377998/how-can-i-iterate-over-files-in-a-given-directory\n",
        "    genre_dirs = []\n",
        "    for name in genre_dir_names: \n",
        "      genre_dirs.append(os.fsencode(os.path.join(root_dir, name)))\n",
        "    \n",
        "    # a dicionary to encode genres as integers\n",
        "    genre_dict = dict(zip(genre_dirs, range(len(genre_dirs))))\n",
        "    print(f\"Genre encodings:\\n{genre_dict}\")\n",
        "    \n",
        "    # get the number of elements in the directory with least elements\n",
        "    min_genre_samples = min( [len(os.listdir(genre_dirs[i])) for i in range(len(genre_dirs))] )\n",
        "\n",
        "    # the i^th element of genre_labels will be the label for the sample corresponding to sample_path[i]\n",
        "    self.genre_label = []\n",
        "    self.sample_path = [] # need path ins\n",
        "    for dir in genre_dirs: \n",
        "      for file in os.listdir(dir)[:min_genre_samples]: # collect an equal number of samples for each genre\n",
        "        self.genre_label.append(genre_dict[dir])\n",
        "        dir_name = os.fsdecode(dir)\n",
        "        filename = os.fsdecode(file)\n",
        "        self.sample_path.append(os.path.join(dir_name,filename))\n",
        "\n",
        "    # finding the maximum dimension sizes among the samples for the segments_timbres feature\n",
        "    self.st_max_size_dims = [0,0] # Append a 0 to the max. dim. size array for every dimension of the segment_timbre arrays.\n",
        "                                  # Can find the data type and number of dimensions for every feature here: http://millionsongdataset.com/faq/\n",
        "                                  # First element of the st_max_size_dims array is the max size for the first dimension of segments_timbres, and so on.\n",
        "    for x in self.sample_path:    \n",
        "      h5 = tables.open_file(x, mode='r')\n",
        "      segments_timbre = hdf5_getters.get_segments_timbre(h5)\n",
        "      h5.close()\n",
        "      for i in range(len(self.st_max_size_dims)):\n",
        "        if segments_timbre.shape[i] > self.st_max_size_dims[i]:\n",
        "          self.st_max_size_dims[i] = segments_timbre.shape[i]\n",
        "    # print(self.st_max_size_dims) # checking if the code to build self.st_max_size_dims works\n",
        "\n",
        "    # pad and resize each element, then store.\n",
        "    self.samples = []\n",
        "    for x in self.sample_path:\n",
        "      h5 = tables.open_file(x, mode='r')\n",
        "      # extract the feature\n",
        "      segments_timbre = hdf5_getters.get_segments_timbre(h5)\n",
        "      h5.close()\n",
        "      # convert the feature into a tensor\n",
        "      segments_timbre = torch.tensor(segments_timbre)\n",
        "      # pad the feature tensor to its max dimensions, which are stored in self.<feature abbreviation>_max_size_dims\n",
        "      dim1_padding_amount = self.st_max_size_dims[0] - len(segments_timbre)\n",
        "      for k in range(dim1_padding_amount):\n",
        "        segments_timbre = torch.cat((segments_timbre, torch.zeros(1, self.st_max_size_dims[1])))\n",
        "      # split segments_timbre into 3 equal pieces along the innermost dimension (of size 12)\n",
        "      channels = torch.split(segments_timbre, 4, dim=1)\n",
        "      ch1 = channels[0] \n",
        "      ch2 = channels[1]\n",
        "      ch3 = channels[2]\n",
        "      # resize each channel as follows:\n",
        "        # [3691, 4] --> [6272, 8]\n",
        "          # 6272 x 4 = 25088\n",
        "          # 224 x 224 = 50176\n",
        "          # 50176 - 25088 = 25088\n",
        "          # 25088 / 6272 = 4\n",
        "      ch1 = torch.cat((ch1, torch.zeros(ch1.size()[0], 8 - 4)), 1)\n",
        "      # print(ch1.size())\n",
        "      k = 0\n",
        "      for k in range(6272 - ch1.size()[0]):\n",
        "        ch1 = torch.cat((ch1, torch.zeros(1, 8)))\n",
        "      # print(ch1.size())\n",
        "\n",
        "      ch2 = torch.cat((ch2, torch.zeros(ch2.size()[0], 8 - 4)), 1)\n",
        "      # print(ch2.size())\n",
        "      k = 0\n",
        "      for k in range(6272 - ch2.size()[0]):\n",
        "        ch2 = torch.cat((ch2, torch.zeros(1, 8)))\n",
        "      # print(ch2.size())\n",
        "\n",
        "      ch3 = torch.cat((ch3, torch.zeros(ch3.size()[0], 8 - 4)), 1)\n",
        "      # print(ch3.size())\n",
        "      k = 0\n",
        "      for k in range(6272 - ch3.size()[0]):\n",
        "        ch3 = torch.cat((ch3, torch.zeros(1, 8)))\n",
        "      # print(ch3.size())\n",
        "      \n",
        "      # reshaping each channel into a square matrix of size 224 x 224\n",
        "      ch1 = torch.reshape(ch1, (224,224))\n",
        "      ch2 = torch.reshape(ch2, (224,224))\n",
        "      ch3 = torch.reshape(ch3, (224,224))\n",
        "      # print(ch1.size()) # checking whether we get the expected size of [224,224] by the reshape operation\n",
        "\n",
        "      # adding a third dimension to the feature (segments_timbre). Two copies of (segments_timbre) will be added to this \n",
        "      # third dimension, to fill all three channels of VGG19's input.\n",
        "      ch1 = torch.unsqueeze(ch1, 0)\n",
        "      # print(ch1.size())\n",
        "      ch2 = torch.unsqueeze(ch2, 0)\n",
        "      # print(ch2.size())\n",
        "      ch3 = torch.unsqueeze(ch3, 0)\n",
        "      # print(ch3.size())\n",
        "\n",
        "      # concatenating all the channels into a single 3D tensor\n",
        "      segments_timbre = torch.cat((ch1,ch2,ch3))\n",
        "\n",
        "      # The feature is now padded and resized into the desired shape of [3, 224, 224].\n",
        "      # We can finally append it the samples array.\n",
        "      self.samples.append(segments_timbre.type(torch.FloatTensor))\n",
        "\n",
        "  def __len__ (self):\n",
        "    return len(self.genre_label)\n",
        "\n",
        "  def __getitem__ (self, i):\n",
        "\n",
        "    # If we want to add other features, we need to replace the padding \n",
        "    # that already exists in each sample after we get them to the shape of [3691, 4]. \n",
        "    # That means we have [6272 - 3691, 8 - 4] space to work with. \n",
        "\n",
        "    # some features we are interested in:\n",
        "      # time signature\n",
        "      # tempo\n",
        "      # similar artists\n",
        "      # get_artist_id (If we find a matching artist for this or similar artists we could potentially rule out certain genres or weigh more heavily to some genres)\n",
        "      # loudness\n",
        "      # key\n",
        "      # energy\n",
        "\n",
        "    # label = torch.tensor([self.genre_label[i]])\n",
        "    # print(f\"shape of label: {label}\")\n",
        "    # print(f\"shape of input:  {segments_timbre.type(torch.FloatTensor).size()}\")\n",
        "    \n",
        "    return (self.genre_label[i], self.samples[i])\n",
        "\n",
        "    \n",
        " \n",
        "    \n",
        "  \n",
        "\n"
      ],
      "id": "6M9Vo-EuWEOv",
      "execution_count": null,
      "outputs": []
    },
    {
      "cell_type": "code",
      "metadata": {
        "colab": {
          "base_uri": "https://localhost:8080/"
        },
        "id": "3nO6uiNSGYhm",
        "outputId": "a401fbe2-bb0b-46ad-b6db-8160f7e008e3"
      },
      "source": [
        "# Converting each segments timbre channel of shape [3691, 4] into a shape that has\n",
        "# a number of element equal to 224 x 224 in the innermost dimension will enable\n",
        "# us to reshape the channel into the shape  [224, 224]. Here, we find out what \n",
        "# that new shape should be\n",
        "\n",
        "max_dim1_size = 4291\n",
        "max_dim2_size = 4\n",
        "\n",
        "# find_chsize_reshapeable_to_224x224: Function to find the shape that an arbitrary 2D \n",
        "#                                     tensor must be transformed into for it to be \n",
        "#                                     resizeable into a 224 x 224 tensor\n",
        "# ARGUMENTS:\n",
        "#   max_dim1_size: the largest number of rows among all the samples extracted   \n",
        "#                  from the MSD, for some feature given as a 2D array.\n",
        "#   max_dim2_size: the largest number of columns among all the samples extracted,  \n",
        "#                  from the MSD, for some feature given as a 2D array.\n",
        "# OUTPUT:\n",
        "#   A tuple containing a new tensor shape that has total size exactly equal to 224 x 224.\n",
        "# REQUIRES: \n",
        "#   max_dim1_size x max_dim2_size <= 224 x 224\n",
        "\n",
        "def find_chsize_reshapeable_to_224x224(max_dim1_size, max_dim2_size):\n",
        "  i = 0\n",
        "  while (224*224 - max_dim2_size*(i+max_dim1_size)) % (i+max_dim1_size) != 0:\n",
        "    i = i + 1\n",
        "\n",
        "  j = (224*224 - max_dim2_size*(i+max_dim1_size))/(i+max_dim1_size)\n",
        "\n",
        "  print(f\"The number of extra columns to add: {i}\") \n",
        "  print(f\"The number of extra rows to add: {j}\")\n",
        "  print(f\"New size: [{max_dim1_size + i}, {max_dim2_size + j}]\")\n",
        "  return (max_dim1_size + i, max_dim2_size + j)\n",
        "\n",
        "new_shape = find_chsize_reshapeable_to_224x224(max_dim1_size, max_dim2_size)\n",
        "new_shape"
      ],
      "id": "3nO6uiNSGYhm",
      "execution_count": null,
      "outputs": [
        {
          "output_type": "stream",
          "text": [
            "The number of extra columns to add: 1981\n",
            "The number of extra rows to add: 4.0\n",
            "New size: [6272, 8.0]\n"
          ],
          "name": "stdout"
        },
        {
          "output_type": "execute_result",
          "data": {
            "text/plain": [
              "(6272, 8.0)"
            ]
          },
          "metadata": {
            "tags": []
          },
          "execution_count": 66
        }
      ]
    },
    {
      "cell_type": "code",
      "metadata": {
        "colab": {
          "base_uri": "https://localhost:8080/"
        },
        "id": "ja5383Mp70nL",
        "outputId": "e2124293-4f39-49f7-f0b8-0e165757c1fa"
      },
      "source": [
        "dataset_full = genreClassificationDataset(\"data\", genres_dir_names)"
      ],
      "id": "ja5383Mp70nL",
      "execution_count": null,
      "outputs": [
        {
          "output_type": "stream",
          "text": [
            "Genre encodings:\n",
            "{b'data/Jazz': 0, b'data/Rock': 1, b'data/Rap': 2, b'data/Country': 3, b'data/Blues': 4, b'data/Folk': 5, b'data/Latin': 6, b'data/Electronic': 7}\n"
          ],
          "name": "stdout"
        }
      ]
    },
    {
      "cell_type": "code",
      "metadata": {
        "colab": {
          "base_uri": "https://localhost:8080/"
        },
        "id": "bDqSjsbjRgij",
        "outputId": "f4f2c1cb-30ff-4be7-cd02-13f17133ebc7"
      },
      "source": [
        "dataset_full[0]\n",
        "# [3, 224, 224]"
      ],
      "id": "bDqSjsbjRgij",
      "execution_count": null,
      "outputs": [
        {
          "output_type": "execute_result",
          "data": {
            "text/plain": [
              "(0,\n",
              " tensor([[[  0.3550, 163.0140,   3.2230,  ...,   0.0000,   0.0000,   0.0000],\n",
              "          [ 43.1740,  55.3990,  79.5010,  ...,   0.0000,   0.0000,   0.0000],\n",
              "          [ 39.3200,   9.7640,  38.7520,  ...,   0.0000,   0.0000,   0.0000],\n",
              "          ...,\n",
              "          [  0.0000,   0.0000,   0.0000,  ...,   0.0000,   0.0000,   0.0000],\n",
              "          [  0.0000,   0.0000,   0.0000,  ...,   0.0000,   0.0000,   0.0000],\n",
              "          [  0.0000,   0.0000,   0.0000,  ...,   0.0000,   0.0000,   0.0000]],\n",
              " \n",
              "         [[ 56.9770, -45.2160,  13.6500,  ...,   0.0000,   0.0000,   0.0000],\n",
              "          [-19.2470,  92.4750,  -0.9090,  ...,   0.0000,   0.0000,   0.0000],\n",
              "          [-28.0930, 119.0150,  10.1290,  ...,   0.0000,   0.0000,   0.0000],\n",
              "          ...,\n",
              "          [  0.0000,   0.0000,   0.0000,  ...,   0.0000,   0.0000,   0.0000],\n",
              "          [  0.0000,   0.0000,   0.0000,  ...,   0.0000,   0.0000,   0.0000],\n",
              "          [  0.0000,   0.0000,   0.0000,  ...,   0.0000,   0.0000,   0.0000]],\n",
              " \n",
              "         [[-28.9530,   6.1900, -15.6940,  ...,   0.0000,   0.0000,   0.0000],\n",
              "          [  5.0270,   5.0280,  36.0940,  ...,   0.0000,   0.0000,   0.0000],\n",
              "          [ 12.1620,   6.2870, -18.3460,  ...,   0.0000,   0.0000,   0.0000],\n",
              "          ...,\n",
              "          [  0.0000,   0.0000,   0.0000,  ...,   0.0000,   0.0000,   0.0000],\n",
              "          [  0.0000,   0.0000,   0.0000,  ...,   0.0000,   0.0000,   0.0000],\n",
              "          [  0.0000,   0.0000,   0.0000,  ...,   0.0000,   0.0000,   0.0000]]]))"
            ]
          },
          "metadata": {
            "tags": []
          },
          "execution_count": 23
        }
      ]
    },
    {
      "cell_type": "code",
      "metadata": {
        "colab": {
          "base_uri": "https://localhost:8080/"
        },
        "id": "Mxk6IsH_hx6T",
        "outputId": "0c1bebd2-4586-4089-a6f1-a39c178e7a0c"
      },
      "source": [
        "dataset_full[1]"
      ],
      "id": "Mxk6IsH_hx6T",
      "execution_count": null,
      "outputs": [
        {
          "output_type": "execute_result",
          "data": {
            "text/plain": [
              "(0, tensor([[[   0.0000,  171.1300,    9.4690,  ...,    0.0000,    0.0000,\n",
              "              0.0000],\n",
              "          [  30.6330, -103.7250, -132.8870,  ...,    0.0000,    0.0000,\n",
              "              0.0000],\n",
              "          [  37.3960, -104.9370,  -11.2440,  ...,    0.0000,    0.0000,\n",
              "              0.0000],\n",
              "          ...,\n",
              "          [   0.0000,    0.0000,    0.0000,  ...,    0.0000,    0.0000,\n",
              "              0.0000],\n",
              "          [   0.0000,    0.0000,    0.0000,  ...,    0.0000,    0.0000,\n",
              "              0.0000],\n",
              "          [   0.0000,    0.0000,    0.0000,  ...,    0.0000,    0.0000,\n",
              "              0.0000]],\n",
              " \n",
              "         [[  57.4910,  -50.0670,   14.8330,  ...,    0.0000,    0.0000,\n",
              "              0.0000],\n",
              "          [  31.3350,   14.3960,  -70.3960,  ...,    0.0000,    0.0000,\n",
              "              0.0000],\n",
              "          [ -47.7640,  -64.5290,   11.7210,  ...,    0.0000,    0.0000,\n",
              "              0.0000],\n",
              "          ...,\n",
              "          [   0.0000,    0.0000,    0.0000,  ...,    0.0000,    0.0000,\n",
              "              0.0000],\n",
              "          [   0.0000,    0.0000,    0.0000,  ...,    0.0000,    0.0000,\n",
              "              0.0000],\n",
              "          [   0.0000,    0.0000,    0.0000,  ...,    0.0000,    0.0000,\n",
              "              0.0000]],\n",
              " \n",
              "         [[ -27.2280,    0.9730,  -10.6400,  ...,    0.0000,    0.0000,\n",
              "              0.0000],\n",
              "          [  36.0330,  -46.7390,  -14.1950,  ...,    0.0000,    0.0000,\n",
              "              0.0000],\n",
              "          [  40.1400,    6.7330,   10.6570,  ...,    0.0000,    0.0000,\n",
              "              0.0000],\n",
              "          ...,\n",
              "          [   0.0000,    0.0000,    0.0000,  ...,    0.0000,    0.0000,\n",
              "              0.0000],\n",
              "          [   0.0000,    0.0000,    0.0000,  ...,    0.0000,    0.0000,\n",
              "              0.0000],\n",
              "          [   0.0000,    0.0000,    0.0000,  ...,    0.0000,    0.0000,\n",
              "              0.0000]]]))"
            ]
          },
          "metadata": {
            "tags": []
          },
          "execution_count": 24
        }
      ]
    },
    {
      "cell_type": "code",
      "metadata": {
        "colab": {
          "base_uri": "https://localhost:8080/"
        },
        "id": "B_J4vnbOlm5H",
        "outputId": "b8fe2643-2716-4e0d-c083-d15021c8f60d"
      },
      "source": [
        "torch.equal(dataset_full[0][1], dataset_full[1][1]), torch.equal(dataset_full[1][1], dataset_full[2][1])"
      ],
      "id": "B_J4vnbOlm5H",
      "execution_count": null,
      "outputs": [
        {
          "output_type": "execute_result",
          "data": {
            "text/plain": [
              "(False, False)"
            ]
          },
          "metadata": {
            "tags": []
          },
          "execution_count": 25
        }
      ]
    },
    {
      "cell_type": "code",
      "metadata": {
        "colab": {
          "base_uri": "https://localhost:8080/"
        },
        "id": "egj6BWopCpVG",
        "outputId": "d308da2e-ee0a-42cb-f880-cbb2cf008303"
      },
      "source": [
        "dataset_full[0][0], dataset_full[0][1].size()"
      ],
      "id": "egj6BWopCpVG",
      "execution_count": null,
      "outputs": [
        {
          "output_type": "execute_result",
          "data": {
            "text/plain": [
              "(0, torch.Size([3, 224, 224]))"
            ]
          },
          "metadata": {
            "tags": []
          },
          "execution_count": 26
        }
      ]
    },
    {
      "cell_type": "code",
      "metadata": {
        "colab": {
          "base_uri": "https://localhost:8080/"
        },
        "id": "0NaBiUU5ToEC",
        "outputId": "3bf4c9f5-7159-448e-da51-ac439a247897"
      },
      "source": [
        "len(dataset_full)"
      ],
      "id": "0NaBiUU5ToEC",
      "execution_count": null,
      "outputs": [
        {
          "output_type": "execute_result",
          "data": {
            "text/plain": [
              "384"
            ]
          },
          "metadata": {
            "tags": []
          },
          "execution_count": 27
        }
      ]
    },
    {
      "cell_type": "code",
      "metadata": {
        "colab": {
          "base_uri": "https://localhost:8080/",
          "height": 1000
        },
        "id": "O0wU_DP8pBFo",
        "outputId": "87d1427f-1088-4711-fa71-a6c9e1779a30"
      },
      "source": [
        "# how much padding have we added? (i.e. how much space is there in every sample to add more features into?)\n",
        "import matplotlib.pyplot as plt\n",
        "\n",
        "for i in range(10):\n",
        "  plt.figure()\n",
        "  plt.imshow(dataset_full[i][1].permute(1, 2, 0))\n",
        "  plt.plot()"
      ],
      "id": "O0wU_DP8pBFo",
      "execution_count": null,
      "outputs": [
        {
          "output_type": "stream",
          "text": [
            "Clipping input data to the valid range for imshow with RGB data ([0..1] for floats or [0..255] for integers).\n",
            "Clipping input data to the valid range for imshow with RGB data ([0..1] for floats or [0..255] for integers).\n",
            "Clipping input data to the valid range for imshow with RGB data ([0..1] for floats or [0..255] for integers).\n",
            "Clipping input data to the valid range for imshow with RGB data ([0..1] for floats or [0..255] for integers).\n",
            "Clipping input data to the valid range for imshow with RGB data ([0..1] for floats or [0..255] for integers).\n",
            "Clipping input data to the valid range for imshow with RGB data ([0..1] for floats or [0..255] for integers).\n",
            "Clipping input data to the valid range for imshow with RGB data ([0..1] for floats or [0..255] for integers).\n",
            "Clipping input data to the valid range for imshow with RGB data ([0..1] for floats or [0..255] for integers).\n",
            "Clipping input data to the valid range for imshow with RGB data ([0..1] for floats or [0..255] for integers).\n",
            "Clipping input data to the valid range for imshow with RGB data ([0..1] for floats or [0..255] for integers).\n"
          ],
          "name": "stderr"
        },
        {
          "output_type": "display_data",
          "data": {
            "image/png": "[encoded data removed]",
            "text/plain": [
              "<Figure size 432x288 with 1 Axes>"
            ]
          },
          "metadata": {
            "tags": [],
            "needs_background": "light"
          }
        },
        {
          "output_type": "display_data",
          "data": {
            "image/png": "[encoded data removed]",
            "text/plain": [
              "<Figure size 432x288 with 1 Axes>"
            ]
          },
          "metadata": {
            "tags": [],
            "needs_background": "light"
          }
        },
        {
          "output_type": "display_data",
          "data": {
            "image/png": "[encoded data removed]",
            "text/plain": [
              "<Figure size 432x288 with 1 Axes>"
            ]
          },
          "metadata": {
            "tags": [],
            "needs_background": "light"
          }
        },
        {
          "output_type": "display_data",
          "data": {
            "image/png": "[encoded data removed]",
            "text/plain": [
              "<Figure size 432x288 with 1 Axes>"
            ]
          },
          "metadata": {
            "tags": [],
            "needs_background": "light"
          }
        },
        {
          "output_type": "display_data",
          "data": {
            "image/png": "[encoded data removed]",
            "text/plain": [
              "<Figure size 432x288 with 1 Axes>"
            ]
          },
          "metadata": {
            "tags": [],
            "needs_background": "light"
          }
        },
        {
          "output_type": "display_data",
          "data": {
            "image/png": "[encoded data removed]",
            "text/plain": [
              "<Figure size 432x288 with 1 Axes>"
            ]
          },
          "metadata": {
            "tags": [],
            "needs_background": "light"
          }
        },
        {
          "output_type": "display_data",
          "data": {
            "image/png": "[encoded data removed]",
            "text/plain": [
              "<Figure size 432x288 with 1 Axes>"
            ]
          },
          "metadata": {
            "tags": [],
            "needs_background": "light"
          }
        },
        {
          "output_type": "display_data",
          "data": {
            "image/png": "[encoded data removed]",
            "text/plain": [
              "<Figure size 432x288 with 1 Axes>"
            ]
          },
          "metadata": {
            "tags": [],
            "needs_background": "light"
          }
        },
        {
          "output_type": "display_data",
          "data": {
            "image/png": "[encoded data removed]",
            "text/plain": [
              "<Figure size 432x288 with 1 Axes>"
            ]
          },
          "metadata": {
            "tags": [],
            "needs_background": "light"
          }
        },
        {
          "output_type": "display_data",
          "data": {
            "image/png": "[encoded data removed]",
            "text/plain": [
              "<Figure size 432x288 with 1 Axes>"
            ]
          },
          "metadata": {
            "tags": [],
            "needs_background": "light"
          }
        }
      ]
    },
    {
      "cell_type": "markdown",
      "metadata": {
        "id": "5vSXbwcm3nvY"
      },
      "source": [
        "## Learning to mould the inputs into a desired shape \n",
        "\n",
        "(applied to genreClassificationDataset after)"
      ],
      "id": "5vSXbwcm3nvY"
    },
    {
      "cell_type": "code",
      "metadata": {
        "id": "ouiZpEgpNVy3"
      },
      "source": [
        "# # extract features from .h5 file\n",
        "# h5 = tables.open_file(\"data/Jazz/TRAADHS12903CE70A9.h5\", mode='r')\n",
        "# segments_timbre = hdf5_getters.get_segments_timbre(h5)\n",
        "# h5.close()"
      ],
      "id": "ouiZpEgpNVy3",
      "execution_count": null,
      "outputs": []
    },
    {
      "cell_type": "code",
      "metadata": {
        "id": "qxZbDoq6eZS4"
      },
      "source": [
        "# print(type(segments_timbre[0][0]))\n",
        "# segments_timbre_tensor = torch.tensor(segments_timbre)\n",
        "# print(segments_timbre_tensor)\n",
        "# print(segments_timbre_tensor.size())"
      ],
      "id": "qxZbDoq6eZS4",
      "execution_count": null,
      "outputs": []
    },
    {
      "cell_type": "code",
      "metadata": {
        "id": "1Dn3NYakoAAh"
      },
      "source": [
        "# # finding the maximum size of each dimension of segments_timbre\n",
        "# max_size_dim1 = 0\n",
        "# max_size_dim2 = 0\n",
        "# for i in range(len(dataset_full)):\n",
        "#   if dataset_full[i][1].size()[0] > max_size_dim1:\n",
        "#     max_size_dim1 = dataset_full[i][1].size()[0]\n",
        "#   if dataset_full[i][1].size()[1] > max_size_dim2:\n",
        "#     max_size_dim2 = dataset_full[i][1].size()[1]\n",
        "# [max_size_dim1, max_size_dim2]\n",
        "\n",
        "# # For every sample's segments_timbre array, need 3691 items with 12 elements each"
      ],
      "id": "1Dn3NYakoAAh",
      "execution_count": null,
      "outputs": []
    },
    {
      "cell_type": "code",
      "metadata": {
        "id": "5mxN3MmBbLfa"
      },
      "source": [
        "# len(segments_timbre), max_size_dim1 - len(segments_timbre)"
      ],
      "id": "5mxN3MmBbLfa",
      "execution_count": null,
      "outputs": []
    },
    {
      "cell_type": "code",
      "metadata": {
        "id": "yb5LCJ1HYq5K"
      },
      "source": [
        "# # padding segments_timbre feature of data/Jazz/TRAADHS12903CE70A9.h5 to max. dimensions of [3691, 12]\n",
        "\n",
        "# segments_timbre_tensor_padded = segments_timbre_tensor\n",
        "# for i in range(max_size_dim1 - len(segments_timbre)):\n",
        "#   segments_timbre_tensor_padded = torch.cat((segments_timbre_tensor_padded, torch.zeros(1,12)))\n",
        "# print(segments_timbre_tensor_padded)\n",
        "# print(segments_timbre_tensor_padded.size())"
      ],
      "id": "yb5LCJ1HYq5K",
      "execution_count": null,
      "outputs": []
    },
    {
      "cell_type": "code",
      "metadata": {
        "id": "xbywbcpooRyh"
      },
      "source": [
        "# # adding a third dimension to segments_timbre_tensor_padded. \n",
        "# # This will have two more copies of segments_timbre_tensor_padded, until we find other things to fill it with.\n",
        "\n",
        "# temp = torch.unsqueeze(segments_timbre_tensor_padded, 0)\n",
        "# print(temp.size() == torch.Size([1, max_size_dim1, max_size_dim2]))\n",
        "\n",
        "# st_padded_cloned = torch.cat((temp, temp))\n",
        "# print(st_padded_cloned.size() == torch.Size([2, max_size_dim1, max_size_dim2]))\n",
        "\n",
        "# st_padded_cloned = torch.cat((st_padded_cloned, temp))\n",
        "# print(st_padded_cloned.size() == torch.Size([3, max_size_dim1, max_size_dim2]))\n"
      ],
      "id": "xbywbcpooRyh",
      "execution_count": null,
      "outputs": []
    },
    {
      "cell_type": "code",
      "metadata": {
        "id": "3DMFZzLyrpDj"
      },
      "source": [
        "# # adding the last (outermost) dimension to st_padded_cloned.\n",
        "\n",
        "# st_padded_cloned = torch.unsqueeze(st_padded_cloned, 0)\n",
        "# print(st_padded_cloned.size() == torch.Size([1, 3, max_size_dim1, max_size_dim2]))"
      ],
      "id": "3DMFZzLyrpDj",
      "execution_count": null,
      "outputs": []
    },
    {
      "cell_type": "markdown",
      "metadata": {
        "id": "KgqQLwT0wR1_"
      },
      "source": [
        "## ML Model Training and Testing \n",
        "\n",
        "ASSIGNMENT 2 STUFF"
      ],
      "id": "KgqQLwT0wR1_"
    },
    {
      "cell_type": "code",
      "metadata": {
        "id": "cxxZoEsVAYeu"
      },
      "source": [
        "n_all = len(dataset_full)\n",
        "n_train = int(0.8 * n_all)\n",
        "n_test = n_all - n_train\n",
        "rng = torch.Generator().manual_seed(2048)\n",
        "dataset_train, dataset_test = torch.utils.data.random_split(dataset_full, [n_train, n_test], rng)"
      ],
      "id": "cxxZoEsVAYeu",
      "execution_count": null,
      "outputs": []
    },
    {
      "cell_type": "code",
      "metadata": {
        "id": "KEKe_XhhDrO1"
      },
      "source": [
        "# Lecture notebook parameters (Batch size of 4 with shuffling)\n",
        "loader_train = torch.utils.data.DataLoader(dataset_train, batch_size = 4, shuffle=True)\n",
        "loader_test = torch.utils.data.DataLoader(dataset_test, batch_size = 4, shuffle=True)"
      ],
      "id": "KEKe_XhhDrO1",
      "execution_count": null,
      "outputs": []
    },
    {
      "cell_type": "code",
      "metadata": {
        "id": "vnh6YO37nLHG"
      },
      "source": [
        "# Commented out cause we have our own model\n",
        "# model = models.resnet18(pretrained=True)"
      ],
      "id": "vnh6YO37nLHG",
      "execution_count": null,
      "outputs": []
    },
    {
      "cell_type": "code",
      "metadata": {
        "colab": {
          "base_uri": "https://localhost:8080/"
        },
        "id": "9l0cIEdUB_Zp",
        "outputId": "174287a0-88ec-4ce9-f8d8-5cc318630415"
      },
      "source": [
        "model.classifier[6]"
      ],
      "id": "9l0cIEdUB_Zp",
      "execution_count": null,
      "outputs": [
        {
          "output_type": "execute_result",
          "data": {
            "text/plain": [
              "Linear(in_features=4096, out_features=8, bias=True)"
            ]
          },
          "metadata": {
            "tags": []
          },
          "execution_count": 39
        }
      ]
    },
    {
      "cell_type": "code",
      "metadata": {
        "id": "ZGNOUCLrCMaM"
      },
      "source": [
        "# Ensure hardware acceleration: GPU is enabled\n",
        "device = torch.device('cuda:0')\n",
        "model = model.to(device)"
      ],
      "id": "ZGNOUCLrCMaM",
      "execution_count": null,
      "outputs": []
    },
    {
      "cell_type": "code",
      "metadata": {
        "id": "3XMsQcBjCr-f"
      },
      "source": [
        "# ASSIGNMENT 2 CODE, UNMODIFIED\n",
        "\n",
        "# # specifying a loss function\n",
        "# criterion = nn.CrossEntropyLoss()\n",
        "\n",
        "# # Function to evaluate current model on the test set:\n",
        "# # a - copies samples and labels to GPU\n",
        "# # b - apply model to make predictions\n",
        "# # c - compute the loss between those predictions and the correct labels\n",
        "# # Notes above based on \"transfer_learning.ipynb\"\n",
        "\n",
        "# def run_test(model):\n",
        "#   nsamples_test = len(dataset_test)\n",
        "#   loss, correct = 0, 0\n",
        "#   model.eval()\n",
        "#   with torch.no_grad():\n",
        "#     for samples, labels in loader_test:\n",
        "#       # a\n",
        "#       samples = samples.to(device)\n",
        "#       labels = labels.to(device)\n",
        "#       # b\n",
        "#       outs = model(samples)\n",
        "#       # c\n",
        "#       loss += criterion(outs, labels)\n",
        "#       # computing output accuracy\n",
        "#       _, preds = torch.max(outs.detach(), 1)\n",
        "#       correct_mask = preds == labels\n",
        "#       correct += correct_mask.sum(0).item()\n",
        "#   return loss /  nsamples_test, correct / nsamples_test\n",
        "\n",
        "# # model.eval() and torch.no_grad() put the model in testing mode (some layer\n",
        "# # behave differently while testing compared to training. )\n",
        "################################################################################\n",
        "\n",
        "criterion = nn.CrossEntropyLoss()\n",
        "\n",
        "def run_test(model):\n",
        "    nsamples_test = len(dataset_test)\n",
        "    loss, correct = 0, 0\n",
        "    model.eval()\n",
        "    with torch.no_grad():\n",
        "        for labels, sample in loader_test:\n",
        "            labels = labels.to(device)\n",
        "            # print(labels.size())\n",
        "            sample = sample.to(device)\n",
        "            # print(sample.size())\n",
        "            outs = model(sample)\n",
        "\n",
        "            loss += criterion(outs, labels)\n",
        "\n",
        "            _, preds = torch.max(outs.detach(), 1)\n",
        "            correct_mask = preds == labels\n",
        "            correct += correct_mask.sum(0).item()\n",
        "    return loss / nsamples_test, correct / nsamples_test"
      ],
      "id": "3XMsQcBjCr-f",
      "execution_count": null,
      "outputs": []
    },
    {
      "cell_type": "code",
      "metadata": {
        "id": "uulY_CZfC-Co"
      },
      "source": [
        "# Using the parameters from the class notebook (-0.1 learning rate / 5 epochs)\n",
        "optimizer = optim.SGD(model.parameters(), lr=0.001, momentum=0.9)\n",
        "scheduler = optim.lr_scheduler.StepLR(optimizer, step_size=5, gamma=0.1)"
      ],
      "id": "uulY_CZfC-Co",
      "execution_count": null,
      "outputs": []
    },
    {
      "cell_type": "code",
      "metadata": {
        "id": "dymPg8tQDWy7"
      },
      "source": [
        "# ASSIGNMENT 2 CODE, UNMODIFIED\n",
        "\n",
        "# # function to train model\n",
        "# # a - copies samples and labels to GPU\n",
        "# # b - apply model to make predictions\n",
        "# # c - compute the loss between those predictions and the correct labels\n",
        "# # Notes above based on \"transfer_learning.ipynb\"\n",
        "# def run_train(model, opt, sched):\n",
        "#   nsamples_train = len(dataset_train)\n",
        "#   loss_sofar, correct_sofar = 0, 0\n",
        "#   model.train()\n",
        "#   with torch.enable_grad():\n",
        "#     for samples, labels in loader_train:\n",
        "#       # a \n",
        "#       samples = samples.to(device)\n",
        "#       labels = labels.to(device)\n",
        "#       # b\n",
        "#       opt.zero_grad()             # model adjustment\n",
        "#       outs = model(samples)\n",
        "#       # c\n",
        "#       _, preds = torch.max(outs.detach(), 1)\n",
        "#       loss = criterion(outs, labels)\n",
        "#       loss.backward()             # model adjustment\n",
        "#       opt.step()                  # model adjustment\n",
        "#       # computing output accuracy\n",
        "#       loss_sofar += loss.item() * samples.size(0)\n",
        "#       correct_sofar += torch.sum(preds == labels.detach())\n",
        "#   sched.step()\n",
        "#   return loss_sofar / nsamples_train, correct_sofar / nsamples_train\n",
        "################################################################################\n",
        "\n",
        "def run_train(model, opt, sched):\n",
        "    nsamples_train = len(dataset_train)\n",
        "    loss_sofar, correct_sofar = 0, 0\n",
        "    model.train()\n",
        "    with torch.enable_grad():\n",
        "        for labels, sample in loader_train:\n",
        "            labels = torch.tensor(labels).to(device)\n",
        "            sample = sample.to(device)\n",
        "            opt.zero_grad()\n",
        "            outs = model(sample)\n",
        "            _, preds = torch.max(outs.detach(), 1)\n",
        "            loss = criterion(outs, labels)\n",
        "            loss.backward()\n",
        "            opt.step()\n",
        "            loss_sofar += loss.item() * labels.size(0)\n",
        "            correct_sofar += torch.sum(preds == labels.detach())\n",
        "    sched.step()\n",
        "    return loss_sofar / nsamples_train, correct_sofar / nsamples_train"
      ],
      "id": "dymPg8tQDWy7",
      "execution_count": null,
      "outputs": []
    },
    {
      "cell_type": "code",
      "metadata": {
        "id": "dA_ROslpDbjS"
      },
      "source": [
        "def run_all(model, optimizer, scheduler, n_epochs):\n",
        "    for epoch in range(n_epochs):\n",
        "        loss_train, acc_train = run_train(model, optimizer, scheduler)\n",
        "        loss_test, acc_test = run_test(model)\n",
        "        print(f\"epoch {epoch}: train loss {loss_train:.4f} acc {acc_train:.4f}, test loss {loss_test:.4f} acc {acc_test:.4f}\")"
      ],
      "id": "dA_ROslpDbjS",
      "execution_count": null,
      "outputs": []
    },
    {
      "cell_type": "code",
      "metadata": {
        "colab": {
          "base_uri": "https://localhost:8080/"
        },
        "id": "XYHrrVQgDfGp",
        "outputId": "974fe666-716d-4372-911a-f03108c67d62"
      },
      "source": [
        "run_test(model)"
      ],
      "id": "XYHrrVQgDfGp",
      "execution_count": null,
      "outputs": [
        {
          "output_type": "execute_result",
          "data": {
            "text/plain": [
              "(tensor(0.6006, device='cuda:0'), 0.1038961038961039)"
            ]
          },
          "metadata": {
            "tags": []
          },
          "execution_count": 45
        }
      ]
    },
    {
      "cell_type": "code",
      "metadata": {
        "colab": {
          "base_uri": "https://localhost:8080/"
        },
        "id": "rsJonpKqDgpN",
        "outputId": "db897bbd-07a2-4df9-b8c7-fc9fc85cb363"
      },
      "source": [
        "run_all(model, optimizer, scheduler, 30) # 4m 54s for 30 epochs!!! "
      ],
      "id": "rsJonpKqDgpN",
      "execution_count": null,
      "outputs": [
        {
          "output_type": "stream",
          "text": [
            "/usr/local/lib/python3.7/dist-packages/ipykernel_launcher.py:38: UserWarning: To copy construct from a tensor, it is recommended to use sourceTensor.clone().detach() or sourceTensor.clone().detach().requires_grad_(True), rather than torch.tensor(sourceTensor).\n"
          ],
          "name": "stderr"
        },
        {
          "output_type": "stream",
          "text": [
            "epoch 0: train loss 2.2270 acc 0.1270, test loss 0.5343 acc 0.1299\n",
            "epoch 1: train loss 2.0792 acc 0.1107, test loss 0.5340 acc 0.1948\n",
            "epoch 2: train loss 2.0579 acc 0.1694, test loss 0.5416 acc 0.0909\n",
            "epoch 3: train loss 2.0476 acc 0.1596, test loss 0.5140 acc 0.2468\n",
            "epoch 4: train loss 2.0505 acc 0.1726, test loss 0.5378 acc 0.1688\n",
            "epoch 5: train loss 2.0346 acc 0.1857, test loss 0.5138 acc 0.2468\n",
            "epoch 6: train loss 1.9596 acc 0.2150, test loss 0.5046 acc 0.1688\n",
            "epoch 7: train loss 1.9383 acc 0.2443, test loss 0.4969 acc 0.3117\n",
            "epoch 8: train loss 1.9168 acc 0.2313, test loss 0.5014 acc 0.1948\n",
            "epoch 9: train loss 1.8808 acc 0.2964, test loss 0.4710 acc 0.2078\n",
            "epoch 10: train loss 1.8093 acc 0.2997, test loss 0.4849 acc 0.2338\n",
            "epoch 11: train loss 1.7847 acc 0.2834, test loss 0.4913 acc 0.2468\n",
            "epoch 12: train loss 1.8063 acc 0.2801, test loss 0.4857 acc 0.2468\n",
            "epoch 13: train loss 1.7505 acc 0.3420, test loss 0.4856 acc 0.2468\n",
            "epoch 14: train loss 1.7817 acc 0.2638, test loss 0.4835 acc 0.2727\n",
            "epoch 15: train loss 1.7446 acc 0.3485, test loss 0.4907 acc 0.2857\n",
            "epoch 16: train loss 1.7949 acc 0.2834, test loss 0.4799 acc 0.2597\n",
            "epoch 17: train loss 1.7656 acc 0.3388, test loss 0.4811 acc 0.2727\n",
            "epoch 18: train loss 1.7366 acc 0.3322, test loss 0.4801 acc 0.2727\n",
            "epoch 19: train loss 1.7346 acc 0.3094, test loss 0.4844 acc 0.2727\n",
            "epoch 20: train loss 1.7538 acc 0.3290, test loss 0.4835 acc 0.2727\n",
            "epoch 21: train loss 1.7372 acc 0.3322, test loss 0.4861 acc 0.2727\n",
            "epoch 22: train loss 1.7715 acc 0.2997, test loss 0.4883 acc 0.2727\n",
            "epoch 23: train loss 1.7595 acc 0.3127, test loss 0.4826 acc 0.2727\n",
            "epoch 24: train loss 1.7487 acc 0.3583, test loss 0.4774 acc 0.2727\n",
            "epoch 25: train loss 1.7374 acc 0.3192, test loss 0.4992 acc 0.2727\n",
            "epoch 26: train loss 1.7573 acc 0.3453, test loss 0.4774 acc 0.2727\n",
            "epoch 27: train loss 1.7504 acc 0.3257, test loss 0.4936 acc 0.2727\n",
            "epoch 28: train loss 1.7582 acc 0.3290, test loss 0.4936 acc 0.2727\n",
            "epoch 29: train loss 1.7621 acc 0.2997, test loss 0.4809 acc 0.2727\n"
          ],
          "name": "stdout"
        }
      ]
    },
    {
      "cell_type": "markdown",
      "metadata": {
        "id": "UORe_HTm2aKd"
      },
      "source": [
        "Training log for varying **batch size**. Learning rate (0.001), gamma (0.1)\n",
        "\n",
        "---\n",
        "\n",
        ", step size (5) and momentum (0.9) held constant. \n",
        "\n",
        "| Batch Size | Min. Test Loss | Max. Test Acc. | Epochs | Elapsed Time (s) |\n",
        "|------------|----------------|----------------|--------|------------------|\n",
        "|     1      |     1.9902     |    0.2468      |   20   |      366         |\n",
        "|     2      |     0.9207     |    0.2987      |   20   |      248         |\n",
        "|     3      |     0.6475     |    0.2338      |   20   |      204         |\n",
        "|     4      |     0.4542     |    0.2468      |   20   |      190         |\n",
        "|     5      |     0.3681     |    0.3117      |   20   |      174         |\n",
        "|     6      |     0.3102     |    0.3506      |   20   |      168         |\n",
        "|     7      |     0.2701     |    0.2208      |   20   |      163         |\n",
        "|     8      |     0.2389     |    0.3247      |   20   |      153         |\n",
        "|     16     |     0.1241     |    0.2208      |   20   |      111         |\n",
        "|     32     |     0.0694     |    0.3377      |   20   |      103         |\n",
        "|     64     |     0.0464     |    0.2857      |   20   |      103         |\n",
        "|     128    |     0.0247     |    0.2597      |   20   |      105         |\n",
        "\n",
        "It looks a batch size of around 32 to 64 results in the best loss values and fastest epochs with 384 samples in the full dataset.\n",
        "\n",
        "E.g. for a batch size of 48, I got:\n",
        "\n",
        "| Batch Size | Min. Test Loss | Max. Test Acc. | Epochs | Elapsed Time (s) |\n",
        "|------------|----------------|----------------|--------|------------------|\n",
        "|     48     |     0.0489     |    0.3247      |   20   |      101         |"
      ],
      "id": "UORe_HTm2aKd"
    },
    {
      "cell_type": "code",
      "metadata": {
        "id": "-99BcaPo2ZYI"
      },
      "source": [
        ""
      ],
      "id": "-99BcaPo2ZYI",
      "execution_count": null,
      "outputs": []
    },
    {
      "cell_type": "markdown",
      "metadata": {
        "id": "dUm-nEfi5Vwz"
      },
      "source": [
        "Training log for varying **momentum**. Learning rate (0.001), gamma (0.1), batch size = 48, and step size (5) held constant. \n",
        "\n",
        "| Momentum | Min. Test Loss | Max. Test Acc. | Epochs | Elapsed Time (s) |\n",
        "|------------|----------------|----------------|--------|------------------|\n",
        "|     0.1      |     0.0715     |    0.3117      |   20   |      103         |\n",
        "|     0.3      |     0.097     |    0.3636      |   20   |      103         |\n",
        "|     0.5      |     0.0513     |    0.3896      |   20   |      105         |\n",
        "|     0.7      |     0.0497     |    0.4156      |   20   |      109         |\n",
        "|     0.9      |     0.0480     |    0.3766      |   20   |      101         |\n",
        "|     1.1      |     0.0525     |    0.2468      |   20   |      106         |\n",
        "|     1.5      |     0.0462     |    0.1299      |   20   |      110         |\n",
        "\n",
        "It looks a momentum of around 0.7 results in the best loss values and the highest accuracy.\n"
      ],
      "id": "dUm-nEfi5Vwz"
    },
    {
      "cell_type": "code",
      "metadata": {
        "id": "iKjVMsMm6x6v"
      },
      "source": [
        ""
      ],
      "id": "iKjVMsMm6x6v",
      "execution_count": null,
      "outputs": []
    },
    {
      "cell_type": "markdown",
      "metadata": {
        "id": "Q-Q7y-wh6yWD"
      },
      "source": [
        "Training log for varying **gamma**. Learning rate (0.001), momentum (0.7), batch size = 48, and step size (5) held constant. \n",
        "\n",
        "| Gamma | Min. Test Loss | Max. Test Acc. | Epochs | Elapsed Time (s) |\n",
        "|------------|----------------|----------------|--------|------------------|\n",
        "|     0.05      |     0.0588     |    0.2857      |   20   |      107         |\n",
        "|     0.1      |     0.0635     |    0.3247      |   20   |      113         |\n",
        "|     0.2      |     0.0739     |    0.3377      |   20   |      102         |\n",
        "|     0.3      |     0.1024     |    0.3117      |   20   |      103         |\n",
        "|     0.4      |     0.1175     |    0.3117      |   20   |      116         |\n",
        "|     0.5      |     0.1581     |    0.2987      |   20   |      105         |\n",
        "|     1.0      |     0.1526     |    0.3117      |   20   |      103         |\n",
        "\n",
        "It looks a gamma from 0.1 to 0.2 results in the highest accuracy, yet the lowest gamma produces the lowest test loss.\n"
      ],
      "id": "Q-Q7y-wh6yWD"
    }
  ]
}